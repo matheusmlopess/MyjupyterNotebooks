{
 "cells": [
  {
   "cell_type": "markdown",
   "metadata": {
    "id": "-jQw6iMmLL5c"
   },
   "source": [
    "#Cloud Computing\n",
    "\n",
    "\n",
    "https://www.youtube.com/watch?v=XRdmfo4M_YA&ab_channel=IBMCloud - IaaS \n",
    "\n",
    "https://aawasthi.blogspot.com/2014/10/cloud-nomenclature-aws-google-azure.html - Cloud use cases\n",
    "\n",
    "https://www.youtube.com/watch?v=2vMEQ5zs1ko&ab_channel=IBMCloud - Kubernets\n",
    "\n",
    "https://www.youtube.com/watch?v=cjXI-yxqGTI&list=PLOspHqNVtKAC-_ZAGresP-i0okHe5FjcJ&ab_channel=IBMCloud - container and VMs\n",
    "\n",
    "https://www.youtube.com/watch?v=FZR0rG3HKIk&ab_channel=IBMCloud - virtualizations"
   ]
  },
  {
   "cell_type": "code",
   "execution_count": null,
   "metadata": {
    "id": "v3xZg5z1LQHm"
   },
   "outputs": [],
   "source": []
  }
 ],
 "metadata": {
  "colab": {
   "authorship_tag": "ABX9TyOhfEaaeG3eFKtVnxum5vG7",
   "collapsed_sections": [],
   "name": "Cloud Computing.ipynb",
   "provenance": []
  },
  "kernelspec": {
   "display_name": "Python 3",
   "language": "python",
   "name": "python3"
  },
  "language_info": {
   "codemirror_mode": {
    "name": "ipython",
    "version": 3
   },
   "file_extension": ".py",
   "mimetype": "text/x-python",
   "name": "python",
   "nbconvert_exporter": "python",
   "pygments_lexer": "ipython3",
   "version": "3.8.5"
  }
 },
 "nbformat": 4,
 "nbformat_minor": 1
}
