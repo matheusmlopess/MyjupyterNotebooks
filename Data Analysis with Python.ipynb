{
 "cells": [
  {
   "cell_type": "code",
   "execution_count": null,
   "metadata": {
    "cellView": "form",
    "id": "chChxR5nw_-O"
   },
   "outputs": [],
   "source": [
    "#@title Init Functions \n",
    "\n",
    "from IPython.display import HTML, display\n",
    "\n",
    "def center_cell():\n",
    "# cenraliza graficos na celula\n",
    "  display(HTML(\"\"\" \n",
    "  <style>\n",
    "  #output-body {\n",
    "      display: flex;\n",
    "      align-items: center;\n",
    "      justify-content: center;\n",
    "  }\n",
    "  </style>\n",
    "  \"\"\"))\n",
    "\n",
    "  plt.rcParams['figure.figsize'] = [10, 5]"
   ]
  },
  {
   "cell_type": "markdown",
   "metadata": {
    "id": "yz4f5a2bfEa7"
   },
   "source": [
    "# Data Analysis with Python\n",
    "\n"
   ]
  },
  {
   "cell_type": "markdown",
   "metadata": {
    "id": "b941ELX_8LYd"
   },
   "source": [
    "<center>\n",
    "<h2> Base Material </h2>\n",
    "</center>\n",
    "\n",
    "|Links|\n",
    "|:--|\n",
    "|[Khan Academy - Squared error of regression line](https://www.khanacademy.org/math/statistics-probability/describing-relationships-quantitative-data/more-on-regression/v/squared-error-of-regression-line)|\n",
    "|[how to implement a simple linear regression model using PyTorch. ](https://towardsdatascience.com/linear-regression-with-pytorch-eb6dedead817)|\n",
    "|[seaborn lib](https://www.datacamp.com/community/tutorials/seaborn-python-tutorial?utm_source=adwords_ppc&utm_campaignid=1455363063&utm_adgroupid=65083631748&utm_device=c&utm_keyword=&utm_matchtype=b&utm_network=g&utm_adpostion=&utm_creative=332602034364&utm_targetid=aud-299261629574:dsa-473406580275&utm_loc_interest_ms=&utm_loc_physical_ms=1001634&gclid=CjwKCAiAwrf-BRA9EiwAUWwKXn8q5cYYNTPIgag9bn0gGNEosZxdmPxYIZq5G2qGkQA1Y63JQLErNBoCQycQAvD_BwE#sm) |\n",
    "|[Altair is a declarative statistical visualization library for Python](https://altair-viz.github.io/gallery/multiline_tooltip.html) - [2](https://stackoverflow.com/questions/61447422/quick-way-to-visualise-multiple-columns-in-altair-with-regression-lines)  |\n",
    "|[Scikit learn - Simple and efficient tools for predictive data analysis](https://scikit-learn.org/stable/tutorial/basic/tutorial.html#machine-learning-the-problem-setting) -[2](https://scikit-learn.org/stable/supervised_learning.html#supervised-learning) |\n",
    "|[PyTorch - An open source machine learning framework ](https://towardsdatascience.com/how-to-implement-linear-regression-with-pytorch-5737339296a6) - [2](https://www.kaggle.com/aakashns/pytorch-basics-linear-regression-from-scratch) [3](https://github.com/skorch-dev/skorch)|\n",
    "|[Complete Python NumPy Tutorial](https://www.youtube.com/watch?v=GB9ByFAIAH4&ab_channel=KeithGalli) |\n",
    "|[Goodness of fit](https://en.wikipedia.org/wiki/Goodness_of_fit)|\n",
    "|[DataFrames](https://databricks.com/glossary/what-are-dataframes#:~:text=Back%20to%20glossary%20A%20DataFrame,a%20spreadsheet%20with%20named%20columns.)|\n",
    "\n",
    "</br>\n",
    "</br>\n",
    "<center>\n",
    "\n",
    "<img src=\"https://drive.google.com/uc?export=view&id=1KHuWnPuYIm2faLjpwKbNApxc8MooBa8L\" alt=\"drawing\" width=\"400\"/>\n",
    "\n",
    "  <a href=\"https://cloudxlab.com/blog/numpy-pandas-introduction/\"> Link to Article by Pratik</a>\n",
    "\n",
    "\n",
    "<a href=https://github.com/jakevdp/PythonDataScienceHandbook> PythonDataScienceHandbook</a>\n",
    "\n",
    "<a href=https://github.com/jakevdp/WhirlwindTourOfPython> WhirlwindTourOfPython </a>\n",
    "</center>\n"
   ]
  },
  {
   "cell_type": "markdown",
   "metadata": {
    "id": "Sop6Mf_Nua3W"
   },
   "source": [
    "## Linear combination\n",
    "\n",
    "In mathematics, a linear combination is an expression constructed from a set of terms by multiplying each term by a constant and adding the results.[Source](https://en.wikipedia.org/wiki/Linear_combination#:~:text=From%20Wikipedia%2C%20the%20free%20encyclopedia,a%20and%20b%20are%20constants)\n",
    "\n",
    "Definition:\n",
    "~~~\n",
    "- Suppose that K is a field (for example, the real numbers)\n",
    "- and V is a vector space over K. \n",
    "~~~\n",
    "\n",
    "Usually, we call elements of V vectors and call elements of K scalars.\n",
    "\n",
    "Then the linear combination of those vectors with those scalars as coefficients is:\n",
    "\n",
    "<center>\n",
    "$\n",
    "{\\displaystyle a_{1}{\\vec {v}}_{1}+a_{2}{\\vec {v}}_{2}+a_{3}{\\vec {v}}_{3}+\\cdots +a_{n}{\\vec {v}}_{n}.\\,}\n",
    "\n",
    "$\n",
    "\n",
    "Where ${a_1,...,a_n}$ are scalars, and ${\\vec v_1,..., \\vec v_n}$  are vectors.\n",
    "\n"
   ]
  },
  {
   "cell_type": "markdown",
   "metadata": {
    "id": "Kfsud04Bv3sW"
   },
   "source": [
    "### ex: Euclidean vectors\n",
    "\n",
    "> Let the field K be the set R of real numbers, and let the vector space V be the Euclidean space R3. \n",
    "\n",
    "> Consider the vectors e1 = (1,0,0), e2 = (0,1,0) and e3 = (0,0,1). Then any vector in R3 is a linear combination of e1, e2 and e3.\n",
    "\n",
    "To see that this is so, take an arbitrary vector (a1,a2,a3) in R3, and write:\n",
    "\n",
    "</br>\n",
    "<center>\n",
    "$\n",
    "{\\displaystyle {\\begin{aligned}(a_{1},a_{2},a_{3})&=(a_{1},0,0)+(0,a_{2},0)+(0,0,a_{3})\\\\[6pt]&=a_{1}(1,0,0)+a_{2}(0,1,0)+a_{3}(0,0,1)\\\\[6pt]&=a_{1}e_{1}+a_{2}e_{2}+a_{3}e_{3}.\\end{aligned}}}\n",
    "\n",
    "$"
   ]
  },
  {
   "cell_type": "markdown",
   "metadata": {
    "id": "sg_simxMzSwP"
   },
   "source": [
    "<center>\n",
    "\n",
    "Now, suppose we have some simple linear regression model like this:\n",
    "</br>\n",
    "$y(\\vec x, \\vec w) = w_0+w_1x_1+...+w_n x_n$\n",
    "\n",
    "\n",
    "Where $\\vec x=(x_1,...,x_n)^T$.\n",
    "\n",
    "This simple linear regression model can be expressed a linear combinations of the parameters.</center>\n",
    "</br>"
   ]
  },
  {
   "cell_type": "markdown",
   "metadata": {
    "id": "jvCA63wa7WX_"
   },
   "source": [
    "# Linear Regression and Data Visualization\n",
    "\n",
    "~~~\n",
    "Linear Regression is an approach that tries to find a linear relationship between a dependent \n",
    "variable and an independent variable by minimizing the distance as shown below.\n",
    "\n",
    "x variable - independent \n",
    "y variable - Dependant\n",
    "~~~"
   ]
  },
  {
   "cell_type": "markdown",
   "metadata": {
    "id": "GvN52xNq9-L2"
   },
   "source": [
    "##Preparing the enviromnet"
   ]
  },
  {
   "cell_type": "markdown",
   "metadata": {
    "id": "nMUWp07B1qJY"
   },
   "source": [
    "All libs utilized for data analysis and manipulation\n",
    "\n",
    "~~~\n",
    "- Matplotlib is a comprehensive library for creating static, animated, and interactive Plots in Python.\n",
    "- Numpy Powerful n-dimensional arrays. Numerical computing tools. Interoperable. Performant.\n",
    "- Pandas provides some sets of powerful tools like DataFrame and Series that mainly used for data analisys.\n",
    "Obs: Seaborn is complimentary to Matplotlib and it specifically targets statistical data visualization. \n",
    "~~~\n",
    "\n",
    "> We will be using `Pandas` module, mainly to works with the tabular data or `DataFrames`,\n",
    "> and the `NumPy` module to work with the numerical data. The matplotlib and altair will be used to data visualization\n"
   ]
  },
  {
   "cell_type": "code",
   "execution_count": null,
   "metadata": {
    "id": "PK1x1fu61156"
   },
   "outputs": [],
   "source": [
    "import matplotlib.pyplot as plt\n",
    "import numpy             as np\n",
    "import pandas            as pd\n",
    "import seaborn           as sns\n",
    "import altair            as alt"
   ]
  },
  {
   "cell_type": "code",
   "execution_count": null,
   "metadata": {
    "id": "6t0IVxEhFwuO"
   },
   "outputs": [],
   "source": [
    "!pip install altair_viewer\n",
    "# import altair_viewer\n",
    "# alt.renderers.enable('altair_viewer')\n",
    "# # alt.renderers.enable('altair_viewer', inline=True)"
   ]
  },
  {
   "cell_type": "markdown",
   "metadata": {
    "id": "bpnQJWY0L3Sy"
   },
   "source": [
    "Here some numpy `array` manipulations \n",
    "\n",
    "``` python\n",
    " equal_espaced = np.linspace(0,20,5);  # array([ 0.,  5., 10., 15., 20.])\n",
    " rand = np.random.randint(1,10, 10);   # array([9, 9, 9, 8, 7, 7, 1, 4, 2, 2])\n",
    " np.sort(rand) # array([1, 2, 2, 4, 7, 7, 8, 9, 9, 9])\n",
    "-np.sort(-rand) # array([9, 9, 9, 8, 7, 7, 4, 2, 2, 1])\n",
    " df.drop('TipAm', inplace=True, axis=1) # Remove collum\n",
    " df['Name of collum'] =  np.array([]) # Add collum\n",
    "```"
   ]
  },
  {
   "cell_type": "markdown",
   "metadata": {
    "id": "Q15CRHinYuLp"
   },
   "source": [
    "## Goodness of Fit : study case\n",
    "\n",
    "The goodness of fit describes how well it fits a set of observations. Measures of goodness of fit typically summarize the discrepancy between observed values and the values expected under the model in question.\n",
    "\n",
    "> Heres an simple example of goodness of Fit\n",
    "~~~\n",
    "How might you predict the tip amount for future meals\n",
    "- Using only this data?\n",
    "- There's only one variable here, the tip amount. The meal number's just a descriptor.\n",
    "~~~\n",
    "[Statistics 101: Linear Regression, The Very Basics](https://www.youtube.com/watch?v=ZkjP5RJLQF4&ab_channel=BrandonFoltz)\n"
   ]
  },
  {
   "cell_type": "code",
   "execution_count": null,
   "metadata": {
    "colab": {
     "base_uri": "https://localhost:8080/",
     "height": 235
    },
    "executionInfo": {
     "elapsed": 801,
     "status": "ok",
     "timestamp": 1608123451409,
     "user": {
      "displayName": "Matheus lopes",
      "photoUrl": "",
      "userId": "10384866493879646145"
     },
     "user_tz": 180
    },
    "id": "PVjQOLZ13Zc3",
    "outputId": "60fe7b20-2eef-4231-85cd-046a29730383"
   },
   "outputs": [
    {
     "data": {
      "text/html": [
       " \n",
       "  <style>\n",
       "  #output-body {\n",
       "      display: flex;\n",
       "      align-items: center;\n",
       "      justify-content: center;\n",
       "  }\n",
       "  </style>\n",
       "  "
      ],
      "text/plain": [
       "<IPython.core.display.HTML object>"
      ]
     },
     "metadata": {
      "tags": []
     },
     "output_type": "display_data"
    },
    {
     "data": {
      "text/html": [
       "<div>\n",
       "<style scoped>\n",
       "    .dataframe tbody tr th:only-of-type {\n",
       "        vertical-align: middle;\n",
       "    }\n",
       "\n",
       "    .dataframe tbody tr th {\n",
       "        vertical-align: top;\n",
       "    }\n",
       "\n",
       "    .dataframe thead th {\n",
       "        text-align: right;\n",
       "    }\n",
       "</style>\n",
       "<table border=\"1\" class=\"dataframe\">\n",
       "  <thead>\n",
       "    <tr style=\"text-align: right;\">\n",
       "      <th></th>\n",
       "      <th>Meal</th>\n",
       "      <th>Tips</th>\n",
       "    </tr>\n",
       "  </thead>\n",
       "  <tbody>\n",
       "    <tr>\n",
       "      <th>0</th>\n",
       "      <td>1</td>\n",
       "      <td>5</td>\n",
       "    </tr>\n",
       "    <tr>\n",
       "      <th>1</th>\n",
       "      <td>2</td>\n",
       "      <td>17</td>\n",
       "    </tr>\n",
       "    <tr>\n",
       "      <th>2</th>\n",
       "      <td>3</td>\n",
       "      <td>11</td>\n",
       "    </tr>\n",
       "    <tr>\n",
       "      <th>3</th>\n",
       "      <td>4</td>\n",
       "      <td>8</td>\n",
       "    </tr>\n",
       "    <tr>\n",
       "      <th>4</th>\n",
       "      <td>5</td>\n",
       "      <td>14</td>\n",
       "    </tr>\n",
       "    <tr>\n",
       "      <th>5</th>\n",
       "      <td>6</td>\n",
       "      <td>5</td>\n",
       "    </tr>\n",
       "  </tbody>\n",
       "</table>\n",
       "</div>"
      ],
      "text/plain": [
       "   Meal  Tips\n",
       "0     1     5\n",
       "1     2    17\n",
       "2     3    11\n",
       "3     4     8\n",
       "4     5    14\n",
       "5     6     5"
      ]
     },
     "execution_count": 24,
     "metadata": {
      "tags": []
     },
     "output_type": "execute_result"
    }
   ],
   "source": [
    "# Cretin data set\n",
    "tipP = {'Meal': np.array([1,2,3,4,5,6]), 'Tips': np.array([5,17,11,8,14,5]) }\n",
    "df = pd.DataFrame(tipP, columns = ['Meal', 'Tips'])\n",
    "center_cell()\n",
    "df"
   ]
  },
  {
   "cell_type": "markdown",
   "metadata": {
    "id": "3juZsgt20qqt"
   },
   "source": [
    "~~~\n",
    "With ony one variable, and no other info,the best prediction for the next measurement \n",
    "is the MEAN of the sample itself. The variability in the tip amounts can only be explained by the tips themselves\n",
    "~~~"
   ]
  },
  {
   "cell_type": "code",
   "execution_count": null,
   "metadata": {
    "colab": {
     "base_uri": "https://localhost:8080/",
     "height": 691
    },
    "executionInfo": {
     "elapsed": 1041,
     "status": "ok",
     "timestamp": 1608123455263,
     "user": {
      "displayName": "Matheus lopes",
      "photoUrl": "",
      "userId": "10384866493879646145"
     },
     "user_tz": 180
    },
    "id": "TVcUnHgbBq7C",
    "outputId": "88b645f3-b29c-4f52-f954-f0df494074c0"
   },
   "outputs": [
    {
     "data": {
      "text/html": [
       "\n",
       "<div id=\"altair-viz-46e3284bbd6b40a3beb88ba73428cd1a\"></div>\n",
       "<script type=\"text/javascript\">\n",
       "  (function(spec, embedOpt){\n",
       "    let outputDiv = document.currentScript.previousElementSibling;\n",
       "    if (outputDiv.id !== \"altair-viz-46e3284bbd6b40a3beb88ba73428cd1a\") {\n",
       "      outputDiv = document.getElementById(\"altair-viz-46e3284bbd6b40a3beb88ba73428cd1a\");\n",
       "    }\n",
       "    const paths = {\n",
       "      \"vega\": \"https://cdn.jsdelivr.net/npm//vega@5?noext\",\n",
       "      \"vega-lib\": \"https://cdn.jsdelivr.net/npm//vega-lib?noext\",\n",
       "      \"vega-lite\": \"https://cdn.jsdelivr.net/npm//vega-lite@4.8.1?noext\",\n",
       "      \"vega-embed\": \"https://cdn.jsdelivr.net/npm//vega-embed@6?noext\",\n",
       "    };\n",
       "\n",
       "    function loadScript(lib) {\n",
       "      return new Promise(function(resolve, reject) {\n",
       "        var s = document.createElement('script');\n",
       "        s.src = paths[lib];\n",
       "        s.async = true;\n",
       "        s.onload = () => resolve(paths[lib]);\n",
       "        s.onerror = () => reject(`Error loading script: ${paths[lib]}`);\n",
       "        document.getElementsByTagName(\"head\")[0].appendChild(s);\n",
       "      });\n",
       "    }\n",
       "\n",
       "    function showError(err) {\n",
       "      outputDiv.innerHTML = `<div class=\"error\" style=\"color:red;\">${err}</div>`;\n",
       "      throw err;\n",
       "    }\n",
       "\n",
       "    function displayChart(vegaEmbed) {\n",
       "      vegaEmbed(outputDiv, spec, embedOpt)\n",
       "        .catch(err => showError(`Javascript Error: ${err.message}<br>This usually means there's a typo in your chart specification. See the javascript console for the full traceback.`));\n",
       "    }\n",
       "\n",
       "    if(typeof define === \"function\" && define.amd) {\n",
       "      requirejs.config({paths});\n",
       "      require([\"vega-embed\"], displayChart, err => showError(`Error loading script: ${err.message}`));\n",
       "    } else if (typeof vegaEmbed === \"function\") {\n",
       "      displayChart(vegaEmbed);\n",
       "    } else {\n",
       "      loadScript(\"vega\")\n",
       "        .then(() => loadScript(\"vega-lite\"))\n",
       "        .then(() => loadScript(\"vega-embed\"))\n",
       "        .catch(showError)\n",
       "        .then(() => displayChart(vegaEmbed));\n",
       "    }\n",
       "  })({\"config\": {\"view\": {\"continuousWidth\": 400, \"continuousHeight\": 300}}, \"layer\": [{\"mark\": {\"type\": \"point\", \"color\": \"black\", \"filled\": true}, \"encoding\": {\"x\": {\"type\": \"quantitative\", \"field\": \"Meal\", \"scale\": {\"domain\": [0, 7]}}, \"y\": {\"type\": \"quantitative\", \"field\": \"Tips\"}}, \"selection\": {\"selector005\": {\"type\": \"interval\", \"bind\": \"scales\", \"encodings\": [\"x\", \"y\"]}}, \"width\": 555}, {\"mark\": {\"type\": \"rule\", \"color\": \"red\", \"size\": 1}, \"encoding\": {\"y\": {\"type\": \"quantitative\", \"aggregate\": \"average\", \"field\": \"Tips\"}}, \"width\": 555}], \"data\": {\"name\": \"data-deb8e0cc3b0b9f0d3d428ded3620d78f\"}, \"resolve\": {\"scale\": {}}, \"$schema\": \"https://vega.github.io/schema/vega-lite/v4.8.1.json\", \"datasets\": {\"data-deb8e0cc3b0b9f0d3d428ded3620d78f\": [{\"Meal\": 1, \"Tips\": 5}, {\"Meal\": 2, \"Tips\": 17}, {\"Meal\": 3, \"Tips\": 11}, {\"Meal\": 4, \"Tips\": 8}, {\"Meal\": 5, \"Tips\": 14}, {\"Meal\": 6, \"Tips\": 5}]}}, {\"mode\": \"vega-lite\"});\n",
       "</script>"
      ],
      "text/plain": [
       "alt.LayerChart(...)"
      ]
     },
     "execution_count": 25,
     "metadata": {
      "tags": []
     },
     "output_type": "execute_result"
    },
    {
     "data": {
      "image/png": "[encoded data removed]",
      "text/plain": [
       "<Figure size 720x360 with 1 Axes>"
      ]
     },
     "metadata": {
      "tags": []
     },
     "output_type": "display_data"
    }
   ],
   "source": [
    "meanMeal, meanTips = df.mean();  # get mean of Meals and of Tips\n",
    "\n",
    "y_values = np.array(df['Tips'])\n",
    "x_values = np.array(df['Meal'])\n",
    "y_mean_values = np.full(len(x_values), meanTips)\n",
    "residual = y_values-y_mean_values #distance btween each poit to the line\n",
    "\n",
    "plt.scatter(x_values, y_values,color='black')\n",
    "plt.axhline(y=meanTips, linewidth=1, color='red')\n",
    "\n",
    "plt.xlim(0, 7)\n",
    "plt.ylim(20, -1.2);\n",
    "\n",
    "for x,y_mean, y in zip(x_values,y_mean_values, y_values):\n",
    "    x_values = [x, x]\n",
    "    y_values = [y, y_mean]\n",
    "    plt.annotate(residual[x-1], (x+0.05, y+0.05))\n",
    "    plt.plot(x_values, y_values,color='blue',linestyle='dashed',linewidth=2)\n",
    "\n",
    "    # Anther way of ploting it would be\n",
    "base = alt.Chart(df).properties(width=555)\n",
    "chart = base.mark_point(filled=True, color='black').encode(  alt.X('Meal',scale=alt.Scale(domain=(0, df[\"Meal\"].max()+1))), y='Tips')\n",
    "rule = base.mark_rule( color='red', size=1).encode( y='average(Tips)' )\n",
    "(chart + rule).resolve_scale().interactive()"
   ]
  },
  {
   "cell_type": "markdown",
   "metadata": {
    "id": "UJsjo4ndWot9"
   },
   "source": [
    "###Error or residuals\n",
    "      Error or residuals: the distance between the points and the best fit line \n",
    "      (in this case the mean, thats cuz there no othe feature or data set poits to compare with) \n",
    "\n",
    "The residuals always add up to zero.\n",
    "$\n",
    "\\sum_{i=1}^{n}(r_1 + r2 ... +r_n) = 0 \n",
    "$\n",
    "\n",
    "in standard deviation, one of the steps was that we took the deviations from the mean and we squared them. We're gonna do the exact same thing here. So on and so forth.\n",
    "\n",
    "      Ex: Meal number two, it was $7 above, we square seven, that's 49.\n",
    "\n",
    ">Now the question is why do we square them?\n",
    "Well we square them for the same reasons\n",
    "\n",
    "- Number one, it makes them all positive.\n",
    "And\n",
    "-  number two, it emphasizes the larger deviations\n"
   ]
  },
  {
   "cell_type": "code",
   "execution_count": null,
   "metadata": {
    "colab": {
     "base_uri": "https://localhost:8080/",
     "height": 235
    },
    "executionInfo": {
     "elapsed": 740,
     "status": "ok",
     "timestamp": 1608123462861,
     "user": {
      "displayName": "Matheus lopes",
      "photoUrl": "",
      "userId": "10384866493879646145"
     },
     "user_tz": 180
    },
    "id": "D8ylpzt5I12F",
    "outputId": "f35ce381-8610-4533-b742-5ba8639a8b6f"
   },
   "outputs": [
    {
     "data": {
      "text/html": [
       " \n",
       "  <style>\n",
       "  #output-body {\n",
       "      display: flex;\n",
       "      align-items: center;\n",
       "      justify-content: center;\n",
       "  }\n",
       "  </style>\n",
       "  "
      ],
      "text/plain": [
       "<IPython.core.display.HTML object>"
      ]
     },
     "metadata": {
      "tags": []
     },
     "output_type": "display_data"
    },
    {
     "data": {
      "text/html": [
       "<div>\n",
       "<style scoped>\n",
       "    .dataframe tbody tr th:only-of-type {\n",
       "        vertical-align: middle;\n",
       "    }\n",
       "\n",
       "    .dataframe tbody tr th {\n",
       "        vertical-align: top;\n",
       "    }\n",
       "\n",
       "    .dataframe thead th {\n",
       "        text-align: right;\n",
       "    }\n",
       "</style>\n",
       "<table border=\"1\" class=\"dataframe\">\n",
       "  <thead>\n",
       "    <tr style=\"text-align: right;\">\n",
       "      <th></th>\n",
       "      <th>Meal</th>\n",
       "      <th>Tips</th>\n",
       "      <th>Residual</th>\n",
       "      <th>Residual^2</th>\n",
       "    </tr>\n",
       "  </thead>\n",
       "  <tbody>\n",
       "    <tr>\n",
       "      <th>0</th>\n",
       "      <td>1</td>\n",
       "      <td>5</td>\n",
       "      <td>-5.0</td>\n",
       "      <td>25.0</td>\n",
       "    </tr>\n",
       "    <tr>\n",
       "      <th>1</th>\n",
       "      <td>2</td>\n",
       "      <td>17</td>\n",
       "      <td>7.0</td>\n",
       "      <td>49.0</td>\n",
       "    </tr>\n",
       "    <tr>\n",
       "      <th>2</th>\n",
       "      <td>3</td>\n",
       "      <td>11</td>\n",
       "      <td>1.0</td>\n",
       "      <td>1.0</td>\n",
       "    </tr>\n",
       "    <tr>\n",
       "      <th>3</th>\n",
       "      <td>4</td>\n",
       "      <td>8</td>\n",
       "      <td>-2.0</td>\n",
       "      <td>4.0</td>\n",
       "    </tr>\n",
       "    <tr>\n",
       "      <th>4</th>\n",
       "      <td>5</td>\n",
       "      <td>14</td>\n",
       "      <td>4.0</td>\n",
       "      <td>16.0</td>\n",
       "    </tr>\n",
       "    <tr>\n",
       "      <th>5</th>\n",
       "      <td>6</td>\n",
       "      <td>5</td>\n",
       "      <td>-5.0</td>\n",
       "      <td>25.0</td>\n",
       "    </tr>\n",
       "  </tbody>\n",
       "</table>\n",
       "</div>"
      ],
      "text/plain": [
       "   Meal  Tips  Residual  Residual^2\n",
       "0     1     5      -5.0        25.0\n",
       "1     2    17       7.0        49.0\n",
       "2     3    11       1.0         1.0\n",
       "3     4     8      -2.0         4.0\n",
       "4     5    14       4.0        16.0\n",
       "5     6     5      -5.0        25.0"
      ]
     },
     "execution_count": 26,
     "metadata": {
      "tags": []
     },
     "output_type": "execute_result"
    }
   ],
   "source": [
    "residual #array([-5.,  7.,  1., -2.,  4., -5.])\n",
    "df['Residual'] = residual\n",
    "df['Residual^2'] = np.square(residual)\n",
    "center_cell(); \n",
    "df"
   ]
  },
  {
   "cell_type": "markdown",
   "metadata": {
    "id": "n7Y_8K4bfRPX"
   },
   "source": [
    "### Sum of Squared Error or SSE\n",
    "Same idea, sum of the squared errors it's a fancy way of saying we add up the squared residuals\n",
    "\n",
    "</br>\n",
    "<center>\n",
    "$\\sum_{i=1}^{n}(r_1^2 + r_2^2 ... +r_n^2)$\n",
    "</center>\n",
    "</br>\n",
    "\n",
    "The goal of simple linear regression, is to create a linear model that minimizes the sum of squares of the residuals, same thing as the sum of squares of the error\n"
   ]
  },
  {
   "cell_type": "code",
   "execution_count": null,
   "metadata": {
    "colab": {
     "base_uri": "https://localhost:8080/"
    },
    "executionInfo": {
     "elapsed": 811,
     "status": "ok",
     "timestamp": 1608123476435,
     "user": {
      "displayName": "Matheus lopes",
      "photoUrl": "",
      "userId": "10384866493879646145"
     },
     "user_tz": 180
    },
    "id": "D6Z2WeYqfQzP",
    "outputId": "b1e7cfb1-2d6b-45ec-a270-023c55907f80"
   },
   "outputs": [
    {
     "name": "stdout",
     "output_type": "stream",
     "text": [
      "120.0\n"
     ]
    }
   ],
   "source": [
    "print(df['Residual^2'].sum()) #% 120.0"
   ]
  },
  {
   "cell_type": "markdown",
   "metadata": {
    "id": "pUwACNbmcort"
   },
   "source": [
    "So what we're gonna do is we're gonna create a different line through the data,\n",
    "once we introduce an independent variable that will minimize the size of these squares. that minimizes these squares as much as they can be. And that will be our best fit line for the data now.\n",
    "\n",
    "<center>\n",
    "\n",
    "<img src=\"https://drive.google.com/uc?export=view&id=1WwyeM5exhbPw-OOPJfa2mZF-z4X-Ysd7\" alt=\"drawing\" width=\"600\"/>\n",
    "\n",
    "</center>\n",
    "\n",
    "So when we introduce the independent variable, If our regression model is significant, it will eat up some of the raw error we had when we assumed, like in this problem, that the independent variable did not even exist.\n",
    "\n",
    "So simple linear regressions really a comparison of two models designed to find the best fitting line through the data that minimizes the SSE."
   ]
  },
  {
   "cell_type": "markdown",
   "metadata": {
    "id": "Cnjg668Tmdtf"
   },
   "source": [
    "### Algebra review\n",
    "\n",
    ">Line equation: $y= mx + b$\n",
    "\n",
    "> x = radom variable\n",
    ">> **m** = slope of the line \n",
    ">>> **b** = y intercept or where x = 0 \n",
    "\n",
    "Now, the overall regression model, for the entire population we are considering ooks like this:\n",
    "\n",
    ">$ y = \\beta_0 + \\beta_1x + \\varepsilon  $  [1]\n",
    "\n",
    "</center>\n",
    "Now, if we had the population (y values for each x) available to us,\n",
    "\n",
    "> $\\beta_0$ equibvalent o **<i>b</i>**\n",
    ">> $\\beta_1$ equibvalent o **<i>m</i>**\n",
    ">>> $\\varepsilon$ error term, unexplainde variable in y\n",
    "\n",
    "Now, when we actually do simple linear regression we write it like this.\n",
    "<center>\n",
    "\n",
    "$E(y) = \\beta_0 + \\beta_1x $ [2]\n",
    "\n",
    "***The expected value of y*** equals beta sub-zero plus beta sub-1x.</center>\n",
    "\n",
    "This is pretty much the exact same thing as y equals mx plus b [1].\n",
    "\n",
    "~~~\n",
    "So what is the expected value of y?\n",
    "Well, it's the mean or the expected value of y\n",
    "for a given value of x.\n",
    "~~~\n",
    "\n",
    "> So whatever x we choose or are given, the expected value of y is where we expect that to intersect in our graph.\n"
   ]
  },
  {
   "cell_type": "markdown",
   "metadata": {
    "id": "vGqxjMeRsRkS"
   },
   "source": [
    "### ditribution for x Values \n",
    "\n",
    "Having the x and y-axis. We pick a value for x.\n",
    "\n",
    "> But that's the expected value of y. It's really not that simple. There's actually a distribution of ys for that given x.\n",
    "~~~\n",
    "Our regression model is not going to be perfect. So any expected value of y we come up with is,\n",
    "at best, gonna be an approximation.\n",
    "~~~\n",
    "\n",
    "So when we say the expected value, what we mean is that it's the mean of a small distribution for that y.\n",
    "\n",
    "<br/>\n",
    "<center>\n",
    "<img src=\"https://drive.google.com/uc?export=view&id=1qGLuAez0Pv67jg52xSFxr20MPG24KQb6\" alt=\"drawing\" width=\"800\"/>\n",
    "</center>\n",
    "<br/>\n",
    "\n",
    "<b>(Note to Self :- EX. remove backgroud off)</b>\n"
   ]
  },
  {
   "cell_type": "code",
   "execution_count": null,
   "metadata": {
    "cellView": "form",
    "id": "jlvNVC8opkj1"
   },
   "outputs": [],
   "source": [
    "#@title Remove Image Backgroud { form-width: \"200px\" }\n",
    "import cv2\n",
    "import numpy as np\n",
    "\n",
    "# load image\n",
    "img = cv2.imread('https://drive.google.com/uc?export=view&id=1qGLuAez0Pv67jg52xSFxr20MPG24KQb6')\n",
    "\n",
    "# convert to graky\n",
    "gray = cv2.cvtColor(img, cv2.COLOR_BGR2GRAY)\n",
    "\n",
    "# threshold input image as mask\n",
    "mask = cv2.threshold(gray, 250, 255, cv2.THRESH_BINARY)[1]\n",
    "\n",
    "# negate mask\n",
    "mask = 255 - mask\n",
    "\n",
    "# apply morphology to remove isolated extraneous noise\n",
    "# use borderconstant of black since foreground touches the edges\n",
    "kernel = np.ones((3,3), np.uint8)\n",
    "mask = cv2.morphologyEx(mask, cv2.MORPH_OPEN, kernel)\n",
    "mask = cv2.morphologyEx(mask, cv2.MORPH_CLOSE, kernel)\n",
    "\n",
    "# anti-alias the mask -- blur then stretch\n",
    "# blur alpha channel\n",
    "mask = cv2.GaussianBlur(mask, (0,0), sigmaX=2, sigmaY=2, borderType = cv2.BORDER_DEFAULT)\n",
    "\n",
    "# linear stretch so that 127.5 goes to 0, but 255 stays 255\n",
    "mask = (2*(mask.astype(np.float32))-255.0).clip(0,255).astype(np.uint8)\n",
    "\n",
    "# put mask into alpha channel\n",
    "result = img.copy()\n",
    "result = cv2.cvtColor(result, cv2.COLOR_BGR2BGRA)\n",
    "result[:, :, 3] = mask\n",
    "\n",
    "# save resulting masked image\n",
    "cv2.imwrite('person_transp_bckgrnd.png', result)"
   ]
  },
  {
   "cell_type": "markdown",
   "metadata": {
    "id": "U-hYlaoEqcpD"
   },
   "source": [
    "So it can be fairly narrow like this. You can see that our distribution of ys fall in a narrow band or it can be the exact same point that is the exact same point where the expected value of ys can be much wider like that.\n",
    "\n",
    "> obs: ith y-hat. in this case, we're using sample data\n",
    "but the basic idea is the same. So y-hat is the mean of the expected values of y for any given value of x.\n",
    "Otherwise, it's the exact same concept"
   ]
  },
  {
   "cell_type": "markdown",
   "metadata": {
    "id": "QBZD8pT-Ng35"
   },
   "source": [
    "### General Regretion Lines \n",
    "[[source](https://www.youtube.com/watch?v=iAgYLRy7e20&ab_channel=BrandonFoltz)]\n",
    "\n",
    "Regression lines can take three general forms.\n",
    "\n",
    "\n",
    "<center>\n",
    "I - Slope is zero $E(y) = \\beta_0 + 0*x $ \n",
    "\n",
    "II - Slope $\\beta_1$ is +  = $E(y) = \\beta_0 + \\beta_1x$\n",
    "\n",
    "III - Slope $\\beta_1$ is - =  $E(y) = \\beta_0 - \\beta_1x $ \n",
    "</center>\n",
    "\n",
    "So if we actually knew the population parameters,\n",
    "beta sub-zero and beta sub-one. we could use the simple linear regression equation that looks like this that we already saw.\n",
    "\n",
    "<center>\n",
    "$E(y) = \\beta_0 + \\beta_1x$\n",
    "</center>\n",
    "\n",
    "in reality, we must never have the population parameters.\n",
    "Therefore, we will estimate them using sample data. When using sample data, we have to change our equation a little bit.\n",
    "\n",
    "It looks like this.\n",
    "\n",
    "<center>\n",
    "\n",
    " $ \\hat{y} = b_0 + b_1x $\n",
    "\n",
    "</center>\n",
    "\n",
    "Now, the y with the little thing on top is pronounced y-hat\n",
    "and it is the point estimator of the expected value of y.\n",
    "So y-hat is the main value of y for a given value of x.\n",
    "\n",
    "> So y-hat is the main value of y for a given value of x.\n",
    "\n",
    "> So just like other cases in statistics where we're using sample data, we write the equations a bit differently.\n",
    "So all we do is use lowercase b\n",
    "\n",
    "~~~\n",
    "In functional terms, they act the same way.\n",
    "We just write just write it this way to acknowledge that we are using sample data.\n",
    "~~~\n",
    "\n",
    "\n"
   ]
  },
  {
   "cell_type": "code",
   "execution_count": null,
   "metadata": {
    "colab": {
     "base_uri": "https://localhost:8080/",
     "height": 215
    },
    "executionInfo": {
     "elapsed": 3495,
     "status": "ok",
     "timestamp": 1608120524923,
     "user": {
      "displayName": "Matheus lopes",
      "photoUrl": "",
      "userId": "10384866493879646145"
     },
     "user_tz": 180
    },
    "id": "0QjVakI3OKMC",
    "outputId": "05405256-d5de-4afb-cc93-5159d3bd3d6d"
   },
   "outputs": [
    {
     "data": {
      "text/html": [
       "\n",
       "<div id=\"altair-viz-e7a98d2ce2a74afbb004b5a192df2ffe\"></div>\n",
       "<script type=\"text/javascript\">\n",
       "  (function(spec, embedOpt){\n",
       "    let outputDiv = document.currentScript.previousElementSibling;\n",
       "    if (outputDiv.id !== \"altair-viz-e7a98d2ce2a74afbb004b5a192df2ffe\") {\n",
       "      outputDiv = document.getElementById(\"altair-viz-e7a98d2ce2a74afbb004b5a192df2ffe\");\n",
       "    }\n",
       "    const paths = {\n",
       "      \"vega\": \"https://cdn.jsdelivr.net/npm//vega@5?noext\",\n",
       "      \"vega-lib\": \"https://cdn.jsdelivr.net/npm//vega-lib?noext\",\n",
       "      \"vega-lite\": \"https://cdn.jsdelivr.net/npm//vega-lite@4.8.1?noext\",\n",
       "      \"vega-embed\": \"https://cdn.jsdelivr.net/npm//vega-embed@6?noext\",\n",
       "    };\n",
       "\n",
       "    function loadScript(lib) {\n",
       "      return new Promise(function(resolve, reject) {\n",
       "        var s = document.createElement('script');\n",
       "        s.src = paths[lib];\n",
       "        s.async = true;\n",
       "        s.onload = () => resolve(paths[lib]);\n",
       "        s.onerror = () => reject(`Error loading script: ${paths[lib]}`);\n",
       "        document.getElementsByTagName(\"head\")[0].appendChild(s);\n",
       "      });\n",
       "    }\n",
       "\n",
       "    function showError(err) {\n",
       "      outputDiv.innerHTML = `<div class=\"error\" style=\"color:red;\">${err}</div>`;\n",
       "      throw err;\n",
       "    }\n",
       "\n",
       "    function displayChart(vegaEmbed) {\n",
       "      vegaEmbed(outputDiv, spec, embedOpt)\n",
       "        .catch(err => showError(`Javascript Error: ${err.message}<br>This usually means there's a typo in your chart specification. See the javascript console for the full traceback.`));\n",
       "    }\n",
       "\n",
       "    if(typeof define === \"function\" && define.amd) {\n",
       "      requirejs.config({paths});\n",
       "      require([\"vega-embed\"], displayChart, err => showError(`Error loading script: ${err.message}`));\n",
       "    } else if (typeof vegaEmbed === \"function\") {\n",
       "      displayChart(vegaEmbed);\n",
       "    } else {\n",
       "      loadScript(\"vega\")\n",
       "        .then(() => loadScript(\"vega-lite\"))\n",
       "        .then(() => loadScript(\"vega-embed\"))\n",
       "        .catch(showError)\n",
       "        .then(() => displayChart(vegaEmbed));\n",
       "    }\n",
       "  })({\"config\": {\"view\": {\"continuousWidth\": 400, \"continuousHeight\": 300}}, \"hconcat\": [{\"mark\": {\"type\": \"line\", \"color\": \"green\"}, \"encoding\": {\"x\": {\"type\": \"quantitative\", \"field\": \"x\", \"scale\": {\"domain\": [1, 11]}}, \"y\": {\"type\": \"quantitative\", \"field\": \"y_constant\", \"scale\": {\"domain\": [0, 11]}}}, \"height\": 150, \"width\": 240}, {\"mark\": {\"type\": \"line\", \"color\": \"blue\"}, \"encoding\": {\"x\": {\"type\": \"quantitative\", \"field\": \"x\", \"scale\": {\"domain\": [1, 11]}}, \"y\": {\"type\": \"quantitative\", \"field\": \"x\", \"scale\": {\"domain\": [0, 11]}}}, \"height\": 150, \"width\": 240}, {\"mark\": {\"type\": \"line\", \"color\": \"red\"}, \"encoding\": {\"x\": {\"type\": \"quantitative\", \"field\": \"x\", \"scale\": {\"domain\": [1, 11]}}, \"y\": {\"type\": \"quantitative\", \"field\": \"y_negative\", \"scale\": {\"domain\": [0, 11]}}}, \"height\": 150, \"width\": 240}], \"data\": {\"name\": \"data-373f55df84ab0a8bc43116c8839873d6\"}, \"$schema\": \"https://vega.github.io/schema/vega-lite/v4.8.1.json\", \"datasets\": {\"data-373f55df84ab0a8bc43116c8839873d6\": [{\"x\": 1, \"y_constant\": 5, \"y_negative\": 10}, {\"x\": 2, \"y_constant\": 5, \"y_negative\": 9}, {\"x\": 3, \"y_constant\": 5, \"y_negative\": 8}, {\"x\": 4, \"y_constant\": 5, \"y_negative\": 7}, {\"x\": 5, \"y_constant\": 5, \"y_negative\": 6}, {\"x\": 6, \"y_constant\": 5, \"y_negative\": 5}, {\"x\": 7, \"y_constant\": 5, \"y_negative\": 4}, {\"x\": 8, \"y_constant\": 5, \"y_negative\": 3}, {\"x\": 9, \"y_constant\": 5, \"y_negative\": 2}, {\"x\": 10, \"y_constant\": 5, \"y_negative\": 1}]}}, {\"mode\": \"vega-lite\"});\n",
       "</script>"
      ],
      "text/plain": [
       "alt.HConcatChart(...)"
      ]
     },
     "execution_count": 7,
     "metadata": {
      "tags": []
     },
     "output_type": "execute_result"
    }
   ],
   "source": [
    "#@title ThreeTypes { form-width: \"140px\" }\n",
    "\n",
    "import statistics \n",
    "oneTo10 = np.arange(1,11,1); \n",
    "data = { 'x' : oneTo10,\n",
    "         'y_constant' : np.full(10,statistics.mean(oneTo10)),\n",
    "         'y_negative' : oneTo10[::-1] }\n",
    "\n",
    "df2 = pd.DataFrame(data, columns = ['x','y_constant','y_negative'])\n",
    "three_forms = alt.Chart(df2).properties(height = 150, width=240)\n",
    "\n",
    "first_case = three_forms.mark_line(color='green').encode( \n",
    "  alt.X('x',scale=alt.Scale(domain=(1, 11))),alt.Y('y_constant',scale=alt.Scale(domain=(0, 11))))\n",
    "\n",
    "secon_case = three_forms.mark_line(color='blue').encode(\n",
    "    alt.X('x',scale=alt.Scale(domain=(1, 11))),alt.Y('x',scale=alt.Scale(domain=(0, 11))))\n",
    "\n",
    "third_case = three_forms.mark_line(color='red').encode( \n",
    "  alt.X('x',scale=alt.Scale(domain=(1, 11))),alt.Y('y_negative',scale=alt.Scale(domain=(0, 11))))\n",
    "\n",
    "alt.hconcat(\n",
    "   first_case,\n",
    "   secon_case,\n",
    "   third_case,\n",
    ")\n",
    "\n",
    "#(first_case + secon_case + third_case).interactive()"
   ]
  },
  {
   "cell_type": "code",
   "execution_count": null,
   "metadata": {
    "id": "DVDQg1MmxkU0"
   },
   "outputs": [],
   "source": []
  },
  {
   "cell_type": "markdown",
   "metadata": {
    "id": "QGT8o6MA5GX4"
   },
   "source": [
    "## Bivariate Linear Regression\n",
    "\n",
    "A Bivariate is a linear equation describing the relationship of an explanatory(independent) variable and an outcome(Dependant) variable, specifically with the assumption that the explanatory variable influences the outcome variable, and not vice-versa.\n",
    "~~~~\n",
    "The goal of bivariate linear regression is to estimate a line (slope and intercept) \n",
    "that minimizes the error term (residual).\n",
    "~~~~\n",
    "<br/>\n",
    "<center>\n",
    "<img src=\"https://drive.google.com/uc?export=view&id=1EXQRwpV5bALYMHZZa5V9mIVxoxeQyg06\" alt=\"drawing\" width=\"400\"/>\n",
    "</center>\n",
    "<br/>\n",
    "\n",
    "And total error of this model is the sum of all errors of each point. ie.\n",
    "\n",
    "> $D = \\sum_{i=1}^{m} d_i^2$\n",
    "​\t\n",
    "\n",
    "- D - Distance between line and ith point.\n",
    "\n",
    "- m - Total number of points\n",
    "\n",
    "And try to form a relationship between these two variables and draw, in this case, a straight line and understand as the independent variable is moving or changing what happens to the dependent variable does change.\n",
    "\n",
    "Keep in mind:\n",
    "\n",
    "- The value of one variable, is a function of other variable.\n",
    "- The value of y, is a function of $x; y= f(x)$\n",
    "- The value of the dependent variable, is a function of the independent variable"
   ]
  },
  {
   "cell_type": "markdown",
   "metadata": {
    "id": "MkEWf5W8xfFI"
   },
   "source": [
    "Geting back on the Univariate example\n",
    "\n",
    "As the waiter or owner, you would like to develop a model that will allow you to make a prediction about what amount of tip to expect based on the bill. Therefore one evening, you collect data for six meals.\n"
   ]
  },
  {
   "cell_type": "code",
   "execution_count": null,
   "metadata": {
    "colab": {
     "base_uri": "https://localhost:8080/",
     "height": 235
    },
    "executionInfo": {
     "elapsed": 896,
     "status": "ok",
     "timestamp": 1608126687739,
     "user": {
      "displayName": "Matheus lopes",
      "photoUrl": "",
      "userId": "10384866493879646145"
     },
     "user_tz": 180
    },
    "id": "-lPw84uird5z",
    "outputId": "437b12b4-a6ed-4e8d-b5be-d478560aa0fc"
   },
   "outputs": [
    {
     "data": {
      "text/html": [
       " \n",
       "  <style>\n",
       "  #output-body {\n",
       "      display: flex;\n",
       "      align-items: center;\n",
       "      justify-content: center;\n",
       "  }\n",
       "  </style>\n",
       "  "
      ],
      "text/plain": [
       "<IPython.core.display.HTML object>"
      ]
     },
     "metadata": {
      "tags": []
     },
     "output_type": "display_data"
    },
    {
     "data": {
      "text/html": [
       "<div>\n",
       "<style scoped>\n",
       "    .dataframe tbody tr th:only-of-type {\n",
       "        vertical-align: middle;\n",
       "    }\n",
       "\n",
       "    .dataframe tbody tr th {\n",
       "        vertical-align: top;\n",
       "    }\n",
       "\n",
       "    .dataframe thead th {\n",
       "        text-align: right;\n",
       "    }\n",
       "</style>\n",
       "<table border=\"1\" class=\"dataframe\">\n",
       "  <thead>\n",
       "    <tr style=\"text-align: right;\">\n",
       "      <th></th>\n",
       "      <th>Meal</th>\n",
       "      <th>Tips</th>\n",
       "      <th>Residual</th>\n",
       "      <th>Residual^2</th>\n",
       "      <th>TotalBill</th>\n",
       "    </tr>\n",
       "  </thead>\n",
       "  <tbody>\n",
       "    <tr>\n",
       "      <th>0</th>\n",
       "      <td>1</td>\n",
       "      <td>5</td>\n",
       "      <td>-5.0</td>\n",
       "      <td>25.0</td>\n",
       "      <td>34</td>\n",
       "    </tr>\n",
       "    <tr>\n",
       "      <th>1</th>\n",
       "      <td>2</td>\n",
       "      <td>17</td>\n",
       "      <td>7.0</td>\n",
       "      <td>49.0</td>\n",
       "      <td>108</td>\n",
       "    </tr>\n",
       "    <tr>\n",
       "      <th>2</th>\n",
       "      <td>3</td>\n",
       "      <td>11</td>\n",
       "      <td>1.0</td>\n",
       "      <td>1.0</td>\n",
       "      <td>64</td>\n",
       "    </tr>\n",
       "    <tr>\n",
       "      <th>3</th>\n",
       "      <td>4</td>\n",
       "      <td>8</td>\n",
       "      <td>-2.0</td>\n",
       "      <td>4.0</td>\n",
       "      <td>88</td>\n",
       "    </tr>\n",
       "    <tr>\n",
       "      <th>4</th>\n",
       "      <td>5</td>\n",
       "      <td>14</td>\n",
       "      <td>4.0</td>\n",
       "      <td>16.0</td>\n",
       "      <td>99</td>\n",
       "    </tr>\n",
       "    <tr>\n",
       "      <th>5</th>\n",
       "      <td>6</td>\n",
       "      <td>5</td>\n",
       "      <td>-5.0</td>\n",
       "      <td>25.0</td>\n",
       "      <td>51</td>\n",
       "    </tr>\n",
       "  </tbody>\n",
       "</table>\n",
       "</div>"
      ],
      "text/plain": [
       "   Meal  Tips  Residual  Residual^2  TotalBill\n",
       "0     1     5      -5.0        25.0         34\n",
       "1     2    17       7.0        49.0        108\n",
       "2     3    11       1.0         1.0         64\n",
       "3     4     8      -2.0         4.0         88\n",
       "4     5    14       4.0        16.0         99\n",
       "5     6     5      -5.0        25.0         51"
      ]
     },
     "execution_count": 70,
     "metadata": {
      "tags": []
     },
     "output_type": "execute_result"
    }
   ],
   "source": [
    "#Adding the total bill variable to the table\n",
    "center_cell()\n",
    "df['TotalBill'] = np.array([34, 108, 64, 88, 99,51]); df"
   ]
  },
  {
   "cell_type": "code",
   "execution_count": null,
   "metadata": {
    "colab": {
     "base_uri": "https://localhost:8080/",
     "height": 34
    },
    "executionInfo": {
     "elapsed": 1002,
     "status": "ok",
     "timestamp": 1608148198758,
     "user": {
      "displayName": "Matheus lopes",
      "photoUrl": "",
      "userId": "10384866493879646145"
     },
     "user_tz": 180
    },
    "id": "Nlt5ad1-sblT",
    "outputId": "af820f3b-1ce1-471f-8186-95a0fd45a77e"
   },
   "outputs": [
    {
     "data": {
      "text/html": [
       " \n",
       "  <style>\n",
       "  #output-body {\n",
       "      display: flex;\n",
       "      align-items: center;\n",
       "      justify-content: center;\n",
       "  }\n",
       "  </style>\n",
       "  "
      ],
      "text/plain": [
       "<IPython.core.display.HTML object>"
      ]
     },
     "metadata": {
      "tags": []
     },
     "output_type": "display_data"
    },
    {
     "data": {
      "text/html": [
       "Displaying chart at <a href='http://localhost:24978/' target='_blank'>http://localhost:24978/</a>"
      ],
      "text/plain": [
       "Displaying chart at http://localhost:24978/"
      ]
     },
     "execution_count": 142,
     "metadata": {
      "tags": []
     },
     "output_type": "execute_result"
    }
   ],
   "source": [
    "chart3 = alt.Chart(df).properties(width = 550)\n",
    "\n",
    "min = df['TotalBill'].min()\n",
    "\n",
    "scatter = chart3.mark_point(filled=True,color='black').encode( alt.X('TotalBill', scale=alt.Scale(domain=(df['TotalBill'].min()-2, df['TotalBill'].max()+2))), y='Tips')\n",
    "center_cell()\n",
    "(scatter).interactive()"
   ]
  },
  {
   "cell_type": "markdown",
   "metadata": {
    "id": "WlcheZDSrdGU"
   },
   "source": [
    "~~~\n",
    "So now you are working with two variables that are matched pairs, \n",
    "the tip amount is dependent on the total bill amount.\n",
    "\n",
    "- So the tip amount is the dependent variable, and the bill is the independent variable.\n",
    "~~~~\n",
    "\n",
    ">Now you want to know to what degree can the tip amount be predicted by the bill amount.\n",
    "\n"
   ]
  },
  {
   "cell_type": "markdown",
   "metadata": {
    "id": "1D-c2hDXnqvy"
   },
   "source": [
    "### Square Error of regretion Lines\n",
    "\n",
    "We're gonna find the difference of two things, we're gonna square that difference, and then we're gonna add them all together.\n",
    "\n",
    "</br>\n",
    "<center>\n",
    "\n",
    "$min \\sum( y_i - \\hat{y_i})^2 $\n",
    "\n",
    "$y_i$ - actual observed value of the dependent variable.\n",
    "\n",
    "$\\hat{y_i}$ - estimated or the predicted value\n",
    "</center>\n",
    "</br>\n",
    "\n",
    "> The goal is to minimize the sum of the squared differences between the observed value for the dependent variable, so the actual tip\n",
    "in the restaurant, and the estimated or predicted value of the dependent variable that is provided by the regression line."
   ]
  },
  {
   "cell_type": "code",
   "execution_count": null,
   "metadata": {
    "id": "ZNK1cb2cEoFr"
   },
   "outputs": [],
   "source": []
  },
  {
   "cell_type": "code",
   "execution_count": null,
   "metadata": {
    "id": "6gduBHeHEoPA"
   },
   "outputs": [],
   "source": []
  },
  {
   "cell_type": "code",
   "execution_count": null,
   "metadata": {
    "colab": {
     "base_uri": "https://localhost:8080/"
    },
    "executionInfo": {
     "elapsed": 616,
     "status": "ok",
     "timestamp": 1608147726026,
     "user": {
      "displayName": "Matheus lopes",
      "photoUrl": "",
      "userId": "10384866493879646145"
     },
     "user_tz": 180
    },
    "id": "lyC8zGVBEq5V",
    "outputId": "814ba5ab-8bca-417a-b274-ebfe86b6dc52"
   },
   "outputs": [
    {
     "data": {
      "text/plain": [
       "100"
      ]
     },
     "execution_count": 133,
     "metadata": {
      "tags": []
     },
     "output_type": "execute_result"
    }
   ],
   "source": [
    "N\n"
   ]
  },
  {
   "cell_type": "code",
   "execution_count": null,
   "metadata": {
    "colab": {
     "base_uri": "https://localhost:8080/",
     "height": 1000
    },
    "executionInfo": {
     "elapsed": 4104,
     "status": "ok",
     "timestamp": 1608141243928,
     "user": {
      "displayName": "Matheus lopes",
      "photoUrl": "",
      "userId": "10384866493879646145"
     },
     "user_tz": 180
    },
    "id": "XjILn5Vs7P3G",
    "outputId": "9b1872ae-5c94-4ec7-c940-d8cf8f8e8a02"
   },
   "outputs": [
    {
     "name": "stdout",
     "output_type": "stream",
     "text": [
      "m 0.658129653837916, b 0.03926560042703552, cost 475.24602892058397 iteration 0\n",
      "m 0.991534522053379, b 0.05918166249417124, cost 147.8049912808652 iteration 1\n",
      "m 1.1604348849883153, b 0.06929530604591543, cost 63.77044984256518 iteration 2\n",
      "m 1.2459978083536334, b 0.07444307051640951, cost 42.20380491728311 iteration 3\n",
      "m 1.289342259998171, b 0.07707513083656654, cost 36.668934639864815 iteration 4\n",
      "m 1.3112989734484055, b 0.07843273754875997, cost 35.24846252133042 iteration 5\n",
      "m 1.3224207296215136, b 0.07914470408643495, cost 34.8839104486167 iteration 6\n",
      "m 1.3280535325333114, b 0.07952958526310278, cost 34.7903499287168 iteration 7\n",
      "m 1.3309056501902086, b 0.07974875989846233, cost 34.76633674121809 iteration 8\n",
      "m 1.332349082233918, b 0.07988398197201875, cost 34.76017219725978 iteration 9\n",
      "m 1.3330788791588066, b 0.07997666778178947, cost 34.7585883340057 iteration 10\n",
      "m 1.3334471512533683, b 0.0800477986893593, cost 34.75818005856629 iteration 11\n",
      "m 1.333632276428612, b 0.08010800378489802, cost 34.758073487155905 iteration 12\n",
      "m 1.3337246203459776, b 0.08016266773201175, cost 34.75804434604786 iteration 13\n",
      "m 1.3337699619514851, b 0.08021451838510198, cost 34.75803507758336 iteration 14\n",
      "m 1.3337914927081433, b 0.08026493766778732, cost 34.75803091015174 iteration 15\n",
      "m 1.3338009613345472, b 0.08031462565958945, cost 34.758028052763166 iteration 16\n",
      "m 1.3338043196927027, b 0.08036393702005845, cost 34.75802553249671 iteration 17\n",
      "m 1.333804582976183, b 0.08041305142012535, cost 34.75802309966124 iteration 18\n",
      "m 1.3338032786720162, b 0.08046205988206341, cost 34.75802069017554 iteration 19\n",
      "m 1.3338011806000003, b 0.08051100851902776, cost 34.758018287593295 iteration 20\n",
      "m 1.3337986807745996, b 0.08055992069336194, cost 34.758015887693276 iteration 21\n",
      "m 1.333795977788956, b 0.08060880824192301, cost 34.75801348939165 iteration 22\n",
      "m 1.3337931722496064, b 0.08065767716279414, cost 34.75801109240985 iteration 23\n",
      "m 1.3337903151233967, b 0.0807065304961545, cost 34.75800869667589 iteration 24\n",
      "m 1.3337874322298704, b 0.0807553697837185, cost 34.75800630217081 iteration 25\n",
      "m 1.3337845366490286, b 0.08080419580808276, cost 34.75800390888933 iteration 26\n",
      "m 1.3337816350070641, b 0.080853008967277, cost 34.75800151682959 iteration 27\n",
      "m 1.3337787306606903, b 0.08090180946451016, cost 34.75799912599066 iteration 28\n",
      "m 1.333775825310314, b 0.08095059740429526, cost 34.75799673637185 iteration 29\n",
      "m 1.333772919817262, b 0.08099937284114589, cost 34.757994347972506 iteration 30\n",
      "m 1.3337700146177867, b 0.08104813580424565, cost 34.75799196079201 iteration 31\n",
      "m 1.3337671099327981, b 0.0810968863099457, cost 34.757989574829736 iteration 32\n",
      "m 1.3337642058741157, b 0.0811456243680959, cost 34.75798719008505 iteration 33\n",
      "m 1.3337613024982933, b 0.0811943499852522, cost 34.75798480655736 iteration 34\n",
      "m 1.3337583998338876, b 0.08124306316630141, cost 34.757982424245995 iteration 35\n",
      "m 1.3337554978952721, b 0.08129176391528443, cost 34.7579800431504 iteration 36\n",
      "m 1.3337525966896353, b 0.08134045223581318, cost 34.757977663269905 iteration 37\n",
      "m 1.3337496962205253, b 0.08138912813128188, cost 34.757975284603894 iteration 38\n",
      "m 1.3337467964896466, b 0.08143779160497405, cost 34.75797290715177 iteration 39\n",
      "m 1.3337438974977693, b 0.08148644266011675, cost 34.75797053091289 iteration 40\n",
      "m 1.3337409992451907, b 0.081535081299908, cost 34.75796815588665 iteration 41\n",
      "m 1.333738101731968, b 0.08158370752753077, cost 34.75796578207242 iteration 42\n",
      "m 1.3337352049580373, b 0.08163232134615997, cost 34.7579634094696 iteration 43\n",
      "m 1.333732308923273, b 0.08168092275896602, cost 34.75796103807755 iteration 44\n",
      "m 1.3337294136275186, b 0.08172951176911668, cost 34.75795866789568 iteration 45\n",
      "m 1.3337265190706016, b 0.08177808837977796, cost 34.75795629892334 iteration 46\n",
      "m 1.3337236252523417, b 0.0818266525941146, cost 34.75795393115994 iteration 47\n",
      "m 1.3337207321725544, b 0.08187520441529028, cost 34.75795156460483 iteration 48\n",
      "m 1.3337178398310534, b 0.08192374384646774, cost 34.75794919925743 iteration 49\n",
      "m 1.3337149482276516, b 0.08197227089080887, cost 34.7579468351171 iteration 50\n",
      "m 1.3337120573621608, b 0.08202078555147471, cost 34.75794447218324 iteration 51\n",
      "m 1.3337091672343935, b 0.0820692878316255, cost 34.757942110455225 iteration 52\n",
      "m 1.333706277844161, b 0.08211777773442061, cost 34.75793974993244 iteration 53\n",
      "m 1.3337033891912755, b 0.08216625526301867, cost 34.757937390614266 iteration 54\n",
      "m 1.3337005012755487, b 0.08221472042057747, cost 34.75793503250009 iteration 55\n",
      "m 1.3336976140967929, b 0.08226317321025398, cost 34.7579326755893 iteration 56\n",
      "m 1.3336947276548194, b 0.08231161363520435, cost 34.7579303198813 iteration 57\n",
      "m 1.3336918419494406, b 0.08236004169858399, cost 34.757927965375444 iteration 58\n",
      "m 1.3336889569804684, b 0.08240845740354745, cost 34.75792561207114 iteration 59\n",
      "m 1.3336860727477151, b 0.08245686075324848, cost 34.75792325996775 iteration 60\n",
      "m 1.3336831892509926, b 0.08250525175084006, cost 34.7579209090647 iteration 61\n",
      "m 1.333680306490113, b 0.0825536303994743, cost 34.75791855936135 iteration 62\n",
      "m 1.3336774244648888, b 0.08260199670230259, cost 34.7579162108571 iteration 63\n",
      "m 1.3336745431751322, b 0.08265035066247543, cost 34.757913863551316 iteration 64\n",
      "m 1.3336716626206553, b 0.08269869228314258, cost 34.75791151744341 iteration 65\n",
      "m 1.3336687828012705, b 0.08274702156745298, cost 34.75790917253277 iteration 66\n",
      "m 1.3336659037167904, b 0.08279533851855474, cost 34.757906828818776 iteration 67\n",
      "m 1.3336630253670274, b 0.08284364313959519, cost 34.757904486300816 iteration 68\n",
      "m 1.333660147751794, b 0.08289193543372086, cost 34.75790214497828 iteration 69\n",
      "m 1.3336572708709025, b 0.08294021540407748, cost 34.757899804850574 iteration 70\n",
      "m 1.3336543947241657, b 0.08298848305380994, cost 34.75789746591707 iteration 71\n",
      "m 1.3336515193113965, b 0.08303673838606239, cost 34.75789512817716 iteration 72\n",
      "m 1.3336486446324072, b 0.08308498140397812, cost 34.75789279163024 iteration 73\n",
      "m 1.3336457706870108, b 0.08313321211069964, cost 34.7578904562757 iteration 74\n",
      "m 1.33364289747502, b 0.08318143050936867, cost 34.75788812211294 iteration 75\n",
      "m 1.3336400249962477, b 0.0832296366031261, cost 34.75788578914134 iteration 76\n",
      "m 1.3336371532505067, b 0.08327783039511205, cost 34.757883457360286 iteration 77\n",
      "m 1.33363428223761, b 0.08332601188846582, cost 34.7578811267692 iteration 78\n",
      "m 1.3336314119573704, b 0.08337418108632591, cost 34.75787879736743 iteration 79\n",
      "m 1.3336285424096013, b 0.08342233799183002, cost 34.75787646915441 iteration 80\n",
      "m 1.3336256735941154, b 0.08347048260811506, cost 34.757874142129516 iteration 81\n",
      "m 1.3336228055107262, b 0.08351861493831712, cost 34.757871816292145 iteration 82\n",
      "m 1.3336199381592466, b 0.08356673498557152, cost 34.75786949164168 iteration 83\n",
      "m 1.33361707153949, b 0.08361484275301273, cost 34.757867168177526 iteration 84\n",
      "m 1.3336142056512694, b 0.08366293824377448, cost 34.75786484589908 iteration 85\n",
      "m 1.3336113404943983, b 0.08371102146098965, cost 34.75786252480574 iteration 86\n",
      "m 1.33360847606869, b 0.08375909240779035, cost 34.75786020489687 iteration 87\n",
      "m 1.333605612373958, b 0.0838071510873079, cost 34.75785788617191 iteration 88\n",
      "m 1.3336027494100158, b 0.08385519750267277, cost 34.75785556863024 iteration 89\n",
      "m 1.3335998871766768, b 0.08390323165701467, cost 34.757853252271246 iteration 90\n",
      "m 1.3335970256737546, b 0.08395125355346253, cost 34.757850937094325 iteration 91\n",
      "m 1.3335941649010628, b 0.08399926319514443, cost 34.75784862309887 iteration 92\n",
      "m 1.333591304858415, b 0.08404726058518769, cost 34.75784631028431 iteration 93\n",
      "m 1.333588445545625, b 0.08409524572671882, cost 34.757843998649996 iteration 94\n",
      "m 1.3335855869625066, b 0.08414321862286353, cost 34.75784168819536 iteration 95\n",
      "m 1.3335827291088733, b 0.08419117927674674, cost 34.7578393789198 iteration 96\n",
      "m 1.3335798719845393, b 0.08423912769149257, cost 34.75783707082268 iteration 97\n",
      "m 1.333577015589318, b 0.08428706387022432, cost 34.75783476390343 iteration 98\n",
      "m 1.333574159923024, b 0.08433498781606454, cost 34.75783245816146 iteration 99\n",
      "m 1.333571304985471, b 0.08438289953213494, cost 34.75783015359613 iteration 100\n",
      "m 1.3335684507764727, b 0.08443079902155645, cost 34.757827850206866 iteration 101\n",
      "m 1.3335655972958436, b 0.08447868628744921, cost 34.75782554799306 iteration 102\n",
      "m 1.3335627445433975, b 0.08452656133293256, cost 34.75782324695411 iteration 103\n",
      "m 1.333559892518949, b 0.08457442416112503, cost 34.757820947089435 iteration 104\n",
      "m 1.333557041222312, b 0.08462227477514438, cost 34.7578186483984 iteration 105\n",
      "m 1.3335541906533008, b 0.08467011317810755, cost 34.75781635088043 iteration 106\n",
      "m 1.3335513408117299, b 0.08471793937313069, cost 34.75781405453493 iteration 107\n",
      "m 1.3335484916974132, b 0.08476575336332916, cost 34.75781175936131 iteration 108\n",
      "m 1.3335456433101656, b 0.08481355515181753, cost 34.75780946535893 iteration 109\n",
      "m 1.3335427956498014, b 0.08486134474170957, cost 34.75780717252723 iteration 110\n",
      "m 1.3335399487161352, b 0.08490912213611826, cost 34.7578048808656 iteration 111\n",
      "m 1.3335371025089815, b 0.08495688733815576, cost 34.75780259037344 iteration 112\n",
      "m 1.3335342570281548, b 0.08500464035093347, cost 34.75780030105017 iteration 113\n",
      "m 1.3335314122734696, b 0.08505238117756198, cost 34.75779801289518 iteration 114\n",
      "m 1.3335285682447409, b 0.08510010982115108, cost 34.75779572590787 iteration 115\n",
      "m 1.3335257249417833, b 0.0851478262848098, cost 34.757793440087646 iteration 116\n",
      "m 1.3335228823644116, b 0.08519553057164632, cost 34.75779115543392 iteration 117\n",
      "m 1.333520040512441, b 0.08524322268476808, cost 34.7577888719461 iteration 118\n",
      "m 1.3335171993856858, b 0.0852909026272817, cost 34.75778658962357 iteration 119\n",
      "m 1.333514358983961, b 0.08533857040229301, cost 34.757784308465745 iteration 120\n",
      "m 1.3335115193070821, b 0.08538622601290705, cost 34.75778202847206 iteration 121\n",
      "m 1.3335086803548637, b 0.08543386946222806, cost 34.75777974964187 iteration 122\n",
      "m 1.3335058421271209, b 0.08548150075335949, cost 34.75777747197461 iteration 123\n",
      "m 1.3335030046236689, b 0.08552911988940402, cost 34.757775195469684 iteration 124\n",
      "m 1.3335001678443228, b 0.08557672687346352, cost 34.757772920126506 iteration 125\n",
      "m 1.3334973317888978, b 0.08562432170863905, cost 34.75777064594447 iteration 126\n",
      "m 1.3334944964572093, b 0.08567190439803093, cost 34.75776837292299 iteration 127\n",
      "m 1.3334916618490724, b 0.08571947494473864, cost 34.75776610106148 iteration 128\n",
      "m 1.3334888279643027, b 0.08576703335186088, cost 34.757763830359316 iteration 129\n",
      "m 1.3334859948027156, b 0.08581457962249558, cost 34.75776156081594 iteration 130\n",
      "m 1.3334831623641263, b 0.08586211375973986, cost 34.75775929243078 iteration 131\n",
      "m 1.3334803306483505, b 0.08590963576669004, cost 34.75775702520319 iteration 132\n",
      "m 1.3334774996552037, b 0.08595714564644169, cost 34.7577547591326 iteration 133\n",
      "m 1.3334746693845014, b 0.08600464340208955, cost 34.75775249421843 iteration 134\n",
      "m 1.3334718398360594, b 0.08605212903672758, cost 34.75775023046009 iteration 135\n",
      "m 1.3334690110096932, b 0.08609960255344896, cost 34.757747967856986 iteration 136\n",
      "m 1.3334661829052186, b 0.08614706395534608, cost 34.75774570640852 iteration 137\n",
      "m 1.3334633555224515, b 0.08619451324551053, cost 34.75774344611412 iteration 138\n",
      "m 1.3334605288612076, b 0.08624195042703313, cost 34.757741186973185 iteration 139\n",
      "m 1.3334577029213028, b 0.08628937550300388, cost 34.75773892898513 iteration 140\n",
      "m 1.333454877702553, b 0.08633678847651202, cost 34.757736672149356 iteration 141\n",
      "m 1.3334520532047742, b 0.086384189350646, cost 34.75773441646529 iteration 142\n",
      "m 1.3334492294277824, b 0.08643157812849346, cost 34.757732161932346 iteration 143\n",
      "m 1.3334464063713938, b 0.08647895481314129, cost 34.75772990854991 iteration 144\n",
      "m 1.3334435840354242, b 0.08652631940767554, cost 34.757727656317435 iteration 145\n",
      "m 1.33344076241969, b 0.08657367191518152, cost 34.757725405234304 iteration 146\n",
      "m 1.3334379415240074, b 0.08662101233874372, cost 34.75772315529994 iteration 147\n",
      "m 1.3334351213481925, b 0.08666834068144587, cost 34.75772090651375 iteration 148\n",
      "m 1.3334323018920617, b 0.08671565694637089, cost 34.75771865887517 iteration 149\n",
      "m 1.3334294831554314, b 0.08676296113660091, cost 34.75771641238358 iteration 150\n",
      "m 1.333426665138118, b 0.08681025325521731, cost 34.75771416703842 iteration 151\n",
      "m 1.3334238478399378, b 0.08685753330530065, cost 34.757711922839114 iteration 152\n",
      "m 1.3334210312607073, b 0.08690480128993071, cost 34.757709679785044 iteration 153\n",
      "m 1.333418215400243, b 0.08695205721218649, cost 34.75770743787564 iteration 154\n",
      "m 1.3334154002583616, b 0.0869993010751462, cost 34.75770519711033 iteration 155\n",
      "m 1.3334125858348795, b 0.08704653288188727, cost 34.757702957488526 iteration 156\n",
      "m 1.3334097721296136, b 0.08709375263548634, cost 34.75770071900964 iteration 157\n",
      "m 1.3334069591423807, b 0.08714096033901927, cost 34.75769848167308 iteration 158\n",
      "m 1.3334041468729974, b 0.08718815599556114, cost 34.75769624547828 iteration 159\n",
      "m 1.3334013353212806, b 0.0872353396081862, cost 34.757694010424636 iteration 160\n",
      "m 1.333398524487047, b 0.08728251117996799, cost 34.75769177651159 iteration 161\n",
      "m 1.3333957143701136, b 0.08732967071397921, cost 34.75768954373855 iteration 162\n",
      "m 1.3333929049702973, b 0.08737681821329178, cost 34.75768731210493 iteration 163\n",
      "m 1.3333900962874152, b 0.08742395368097687, cost 34.75768508161014 iteration 164\n",
      "m 1.3333872883212843, b 0.08747107712010485, cost 34.757682852253616 iteration 165\n",
      "m 1.3333844810717217, b 0.08751818853374528, cost 34.75768062403478 iteration 166\n",
      "m 1.3333816745385445, b 0.08756528792496698, cost 34.75767839695304 iteration 167\n",
      "m 1.3333788687215697, b 0.08761237529683795, cost 34.757676171007816 iteration 168\n",
      "m 1.333376063620615, b 0.08765945065242543, cost 34.75767394619853 iteration 169\n",
      "m 1.3333732592354972, b 0.08770651399479588, cost 34.7576717225246 iteration 170\n",
      "m 1.333370455566034, b 0.08775356532701496, cost 34.757669499985454 iteration 171\n",
      "m 1.3333676526120426, b 0.08780060465214755, cost 34.757667278580506 iteration 172\n",
      "m 1.3333648503733404, b 0.08784763197325775, cost 34.75766505830918 iteration 173\n",
      "m 1.3333620488497449, b 0.08789464729340889, cost 34.757662839170884 iteration 174\n",
      "m 1.3333592480410734, b 0.08794165061566349, cost 34.75766062116506 iteration 175\n",
      "m 1.3333564479471438, b 0.08798864194308333, cost 34.75765840429114 iteration 176\n",
      "m 1.3333536485677737, b 0.08803562127872938, cost 34.75765618854851 iteration 177\n",
      "m 1.3333508499027806, b 0.08808258862566185, cost 34.75765397393663 iteration 178\n",
      "m 1.3333480519519822, b 0.08812954398694012, cost 34.757651760454884 iteration 179\n",
      "m 1.333345254715196, b 0.08817648736562284, cost 34.75764954810273 iteration 180\n",
      "m 1.3333424581922404, b 0.08822341876476787, cost 34.757647336879565 iteration 181\n",
      "m 1.3333396623829328, b 0.08827033818743228, cost 34.75764512678484 iteration 182\n",
      "m 1.3333368672870909, b 0.08831724563667236, cost 34.757642917817954 iteration 183\n",
      "m 1.333334072904533, b 0.08836414111554362, cost 34.757640709978354 iteration 184\n",
      "m 1.333331279235077, b 0.0884110246271008, cost 34.75763850326544 iteration 185\n",
      "m 1.333328486278541, b 0.08845789617439787, cost 34.75763629767865 iteration 186\n",
      "m 1.3333256940347429, b 0.08850475576048797, cost 34.75763409321742 iteration 187\n",
      "m 1.333322902503501, b 0.08855160338842351, cost 34.75763188988116 iteration 188\n",
      "m 1.3333201116846332, b 0.0885984390612561, cost 34.757629687669294 iteration 189\n",
      "m 1.3333173215779577, b 0.08864526278203658, cost 34.75762748658126 iteration 190\n",
      "m 1.333314532183293, b 0.08869207455381502, cost 34.757625286616474 iteration 191\n",
      "m 1.3333117435004576, b 0.08873887437964068, cost 34.75762308777438 iteration 192\n",
      "m 1.3333089555292692, b 0.08878566226256207, cost 34.75762089005438 iteration 193\n",
      "m 1.3333061682695466, b 0.08883243820562692, cost 34.75761869345593 iteration 194\n",
      "m 1.3333033817211082, b 0.08887920221188218, cost 34.757616497978425 iteration 195\n",
      "m 1.3333005958837727, b 0.08892595428437403, cost 34.75761430362132 iteration 196\n",
      "m 1.3332978107573583, b 0.08897269442614782, cost 34.757612110384024 iteration 197\n",
      "m 1.3332950263416836, b 0.08901942264024819, cost 34.757609918265985 iteration 198\n",
      "m 1.3332922426365672, b 0.08906613892971897, cost 34.75760772726662 iteration 199\n",
      "m 1.333289459641828, b 0.08911284329760324, cost 34.75760553738535 iteration 200\n",
      "m 1.3332866773572847, b 0.08915953574694327, cost 34.75760334862163 iteration 201\n",
      "m 1.3332838957827557, b 0.08920621628078057, cost 34.757601160974865 iteration 202\n",
      "m 1.3332811149180603, b 0.08925288490215587, cost 34.7575989744445 iteration 203\n",
      "m 1.333278334763017, b 0.08929954161410912, cost 34.757596789029954 iteration 204\n",
      "m 1.333275555317445, b 0.08934618641967951, cost 34.75759460473066 iteration 205\n",
      "m 1.333272776581163, b 0.08939281932190545, cost 34.75759242154606 iteration 206\n",
      "m 1.3332699985539902, b 0.08943944032382455, cost 34.757590239475576 iteration 207\n",
      "m 1.3332672212357453, b 0.08948604942847367, cost 34.757588058518635 iteration 208\n",
      "m 1.3332644446262478, b 0.0895326466388889, cost 34.75758587867468 iteration 209\n",
      "m 1.3332616687253165, b 0.08957923195810552, cost 34.75758369994314 iteration 210\n",
      "m 1.3332588935327707, b 0.08962580538915808, cost 34.75758152232343 iteration 211\n",
      "m 1.3332561190484298, b 0.08967236693508034, cost 34.75757934581501 iteration 212\n",
      "m 1.333253345272113, b 0.08971891659890525, cost 34.75757717041729 iteration 213\n",
      "m 1.3332505722036392, b 0.08976545438366505, cost 34.75757499612971 iteration 214\n",
      "m 1.3332477998428283, b 0.08981198029239117, cost 34.75757282295172 iteration 215\n",
      "m 1.3332450281894994, b 0.08985849432811426, cost 34.757570650882734 iteration 216\n",
      "m 1.3332422572434721, b 0.0899049964938642, cost 34.75756847992219 iteration 217\n",
      "m 1.333239487004566, b 0.08995148679267011, cost 34.75756631006953 iteration 218\n",
      "m 1.3332367174726005, b 0.08999796522756032, cost 34.75756414132419 iteration 219\n",
      "m 1.3332339486473952, b 0.09004443180156241, cost 34.75756197368558 iteration 220\n",
      "m 1.3332311805287698, b 0.09009088651770317, cost 34.75755980715316 iteration 221\n",
      "m 1.333228413116544, b 0.09013732937900862, cost 34.757557641726365 iteration 222\n",
      "m 1.3332256464105374, b 0.09018376038850401, cost 34.75755547740462 iteration 223\n",
      "m 1.3332228804105697, b 0.09023017954921382, cost 34.75755331418736 iteration 224\n",
      "m 1.333220115116461, b 0.09027658686416176, cost 34.75755115207404 iteration 225\n",
      "m 1.3332173505280311, b 0.09032298233637076, cost 34.75754899106408 iteration 226\n",
      "m 1.3332145866451, b 0.09036936596886298, cost 34.757546831156915 iteration 227\n",
      "m 1.3332118234674872, b 0.09041573776465982, cost 34.75754467235199 iteration 228\n",
      "m 1.3332090609950134, b 0.09046209772678189, cost 34.75754251464875 iteration 229\n",
      "m 1.333206299227498, b 0.09050844585824905, cost 34.75754035804661 iteration 230\n",
      "m 1.3332035381647616, b 0.09055478216208036, cost 34.75753820254503 iteration 231\n",
      "m 1.333200777806624, b 0.09060110664129416, cost 34.757536048143436 iteration 232\n",
      "m 1.3331980181529055, b 0.09064741929890796, cost 34.75753389484128 iteration 233\n",
      "m 1.3331952592034266, b 0.09069372013793855, cost 34.75753174263797 iteration 234\n",
      "m 1.3331925009580072, b 0.09074000916140192, cost 34.757529591532986 iteration 235\n",
      "m 1.333189743416468, b 0.09078628637231329, cost 34.75752744152574 iteration 236\n",
      "m 1.3331869865786288, b 0.09083255177368711, cost 34.75752529261568 iteration 237\n",
      "m 1.3331842304443107, b 0.09087880536853711, cost 34.757523144802256 iteration 238\n",
      "m 1.3331814750133337, b 0.09092504715987618, cost 34.757520998084885 iteration 239\n",
      "m 1.3331787202855185, b 0.09097127715071648, cost 34.75751885246302 iteration 240\n",
      "m 1.3331759662606857, b 0.0910174953440694, cost 34.75751670793612 iteration 241\n",
      "m 1.3331732129386558, b 0.09106370174294555, cost 34.75751456450359 iteration 242\n",
      "m 1.3331704603192494, b 0.09110989635035477, cost 34.75751242216491 iteration 243\n",
      "m 1.3331677084022873, b 0.09115607916930614, cost 34.75751028091948 iteration 244\n",
      "m 1.3331649571875903, b 0.09120225020280798, cost 34.75750814076678 iteration 245\n",
      "m 1.333162206674979, b 0.09124840945386782, cost 34.75750600170623 iteration 246\n",
      "m 1.3331594568642746, b 0.09129455692549245, cost 34.75750386373728 iteration 247\n",
      "m 1.3331567077552975, b 0.09134069262068786, cost 34.75750172685938 iteration 248\n",
      "m 1.333153959347869, b 0.09138681654245932, cost 34.75749959107196 iteration 249\n",
      "m 1.3331512116418098, b 0.09143292869381128, cost 34.75749745637446 iteration 250\n",
      "m 1.3331484646369411, b 0.09147902907774746, cost 34.75749532276636 iteration 251\n",
      "m 1.333145718333084, b 0.0915251176972708, cost 34.757493190247054 iteration 252\n",
      "m 1.3331429727300592, b 0.09157119455538347, cost 34.75749105881601 iteration 253\n",
      "m 1.3331402278276883, b 0.09161725965508688, cost 34.75748892847269 iteration 254\n",
      "m 1.3331374836257923, b 0.09166331299938167, cost 34.7574867992165 iteration 255\n",
      "m 1.3331347401241926, b 0.09170935459126772, cost 34.75748467104691 iteration 256\n",
      "m 1.3331319973227105, b 0.09175538443374415, cost 34.75748254396336 iteration 257\n",
      "m 1.333129255221167, b 0.09180140252980928, cost 34.75748041796532 iteration 258\n",
      "m 1.333126513819384, b 0.09184740888246072, cost 34.757478293052195 iteration 259\n",
      "m 1.3331237731171826, b 0.09189340349469527, cost 34.757476169223445 iteration 260\n",
      "m 1.3331210331143841, b 0.09193938636950899, cost 34.75747404647853 iteration 261\n",
      "m 1.3331182938108104, b 0.09198535750989716, cost 34.75747192481689 iteration 262\n",
      "m 1.3331155552062828, b 0.0920313169188543, cost 34.757469804237964 iteration 263\n",
      "m 1.333112817300623, b 0.09207726459937418, cost 34.75746768474122 iteration 264\n",
      "m 1.3331100800936528, b 0.09212320055444978, cost 34.75746556632608 iteration 265\n",
      "m 1.3331073435851937, b 0.09216912478707334, cost 34.757463448992006 iteration 266\n",
      "m 1.3331046077750675, b 0.09221503730023632, cost 34.75746133273845 iteration 267\n",
      "m 1.333101872663096, b 0.09226093809692944, cost 34.75745921756484 iteration 268\n",
      "m 1.333099138249101, b 0.09230682718014262, cost 34.75745710347066 iteration 269\n",
      "m 1.3330964045329046, b 0.09235270455286504, cost 34.75745499045532 iteration 270\n",
      "m 1.3330936715143284, b 0.09239857021808512, cost 34.7574528785183 iteration 271\n",
      "m 1.3330909391931947, b 0.09244442417879051, cost 34.75745076765903 iteration 272\n",
      "m 1.3330882075693251, b 0.0924902664379681, cost 34.75744865787697 iteration 273\n",
      "m 1.333085476642542, b 0.092536096998604, cost 34.757446549171576 iteration 274\n",
      "m 1.3330827464126673, b 0.09258191586368361, cost 34.75744444154228 iteration 275\n",
      "m 1.3330800168795234, b 0.09262772303619152, cost 34.757442334988546 iteration 276\n",
      "m 1.3330772880429322, b 0.09267351851911156, cost 34.75744022950983 iteration 277\n",
      "m 1.3330745599027163, b 0.09271930231542681, cost 34.75743812510558 iteration 278\n",
      "m 1.3330718324586979, b 0.0927650744281196, cost 34.757436021775234 iteration 279\n",
      "m 1.3330691057106991, b 0.09281083486017148, cost 34.757433919518256 iteration 280\n",
      "m 1.3330663796585425, b 0.09285658361456325, cost 34.75743181833409 iteration 281\n",
      "m 1.3330636543020502, b 0.09290232069427495, cost 34.75742971822219 iteration 282\n",
      "m 1.3330609296410452, b 0.09294804610228585, cost 34.75742761918203 iteration 283\n",
      "m 1.3330582056753495, b 0.09299375984157447, cost 34.757425521213044 iteration 284\n",
      "m 1.333055482404786, b 0.09303946191511857, cost 34.757423424314695 iteration 285\n",
      "m 1.3330527598291773, b 0.09308515232589513, cost 34.757421328486416 iteration 286\n",
      "m 1.333050037948346, b 0.0931308310768804, cost 34.757419233727674 iteration 287\n",
      "m 1.3330473167621149, b 0.09317649817104984, cost 34.75741714003793 iteration 288\n",
      "m 1.3330445962703064, b 0.09322215361137817, cost 34.75741504741662 iteration 289\n",
      "m 1.3330418764727434, b 0.09326779740083936, cost 34.757412955863224 iteration 290\n",
      "m 1.333039157369249, b 0.09331342954240661, cost 34.75741086537718 iteration 291\n",
      "m 1.3330364389596459, b 0.09335905003905236, cost 34.757408775957956 iteration 292\n",
      "m 1.333033721243757, b 0.09340465889374827, cost 34.75740668760498 iteration 293\n",
      "m 1.3330310042214053, b 0.09345025610946528, cost 34.757404600317734 iteration 294\n",
      "m 1.3330282878924138, b 0.09349584168917356, cost 34.757402514095666 iteration 295\n",
      "m 1.3330255722566058, b 0.09354141563584252, cost 34.75740042893825 iteration 296\n",
      "m 1.3330228573138039, b 0.0935869779524408, cost 34.75739834484491 iteration 297\n",
      "m 1.3330201430638318, b 0.09363252864193629, cost 34.75739626181511 iteration 298\n",
      "m 1.3330174295065123, b 0.09367806770729613, cost 34.75739417984834 iteration 299\n",
      "m 1.3330147166416688, b 0.09372359515148669, cost 34.75739209894402 iteration 300\n",
      "m 1.3330120044691245, b 0.09376911097747359, cost 34.75739001910162 iteration 301\n",
      "m 1.333009292988703, b 0.0938146151882217, cost 34.7573879403206 iteration 302\n",
      "m 1.3330065822002273, b 0.09386010778669512, cost 34.757385862600415 iteration 303\n",
      "m 1.333003872103521, b 0.09390558877585721, cost 34.75738378594053 iteration 304\n",
      "m 1.3330011626984075, b 0.09395105815867057, cost 34.757381710340404 iteration 305\n",
      "m 1.3329984539847106, b 0.09399651593809702, cost 34.757379635799495 iteration 306\n",
      "m 1.3329957459622535, b 0.09404196211709764, cost 34.75737756231725 iteration 307\n",
      "m 1.33299303863086, b 0.09408739669863278, cost 34.75737548989314 iteration 308\n",
      "m 1.3329903319903535, b 0.09413281968566199, cost 34.75737341852664 iteration 309\n",
      "m 1.332987626040558, b 0.0941782310811441, cost 34.757371348217184 iteration 310\n",
      "m 1.3329849207812972, b 0.09422363088803717, cost 34.75736927896424 iteration 311\n",
      "m 1.3329822162123945, b 0.0942690191092985, cost 34.75736721076727 iteration 312\n",
      "m 1.3329795123336743, b 0.09431439574788464, cost 34.757365143625734 iteration 313\n",
      "m 1.33297680914496, b 0.09435976080675139, cost 34.757363077539104 iteration 314\n",
      "m 1.3329741066460759, b 0.09440511428885379, cost 34.75736101250683 iteration 315\n",
      "m 1.3329714048368455, b 0.09445045619714612, cost 34.757358948528385 iteration 316\n",
      "m 1.3329687037170932, b 0.09449578653458193, cost 34.75735688560322 iteration 317\n",
      "m 1.332966003286643, b 0.09454110530411401, cost 34.75735482373079 iteration 318\n",
      "m 1.332963303545319, b 0.09458641250869437, cost 34.757352762910585 iteration 319\n",
      "m 1.3329606044929452, b 0.09463170815127428, cost 34.75735070314203 iteration 320\n",
      "m 1.3329579061293457, b 0.09467699223480426, cost 34.757348644424646 iteration 321\n",
      "m 1.332955208454345, b 0.0947222647622341, cost 34.75734658675784 iteration 322\n",
      "m 1.3329525114677672, b 0.0947675257365128, cost 34.75734453014109 iteration 323\n",
      "m 1.3329498151694366, b 0.09481277516058863, cost 34.757342474573875 iteration 324\n",
      "m 1.3329471195591778, b 0.0948580130374091, cost 34.757340420055655 iteration 325\n",
      "m 1.332944424636815, b 0.09490323936992094, cost 34.75733836658589 iteration 326\n",
      "m 1.3329417304021727, b 0.09494845416107019, cost 34.75733631416405 iteration 327\n",
      "m 1.3329390368550753, b 0.09499365741380209, cost 34.75733426278958 iteration 328\n",
      "m 1.3329363439953474, b 0.09503884913106114, cost 34.75733221246198 iteration 329\n",
      "m 1.3329336518228139, b 0.09508402931579112, cost 34.75733016318069 iteration 330\n",
      "m 1.332930960337299, b 0.09512919797093498, cost 34.757328114945174 iteration 331\n",
      "m 1.3329282695386275, b 0.09517435509943502, cost 34.75732606775493 iteration 332\n",
      "m 1.3329255794266244, b 0.0952195007042327, cost 34.75732402160939 iteration 333\n",
      "m 1.332922890001114, b 0.09526463478826878, cost 34.75732197650803 iteration 334\n",
      "m 1.3329202012619215, b 0.09530975735448327, cost 34.75731993245033 iteration 335\n",
      "m 1.3329175132088715, b 0.0953548684058154, cost 34.75731788943573 iteration 336\n",
      "m 1.332914825841789, b 0.09539996794520368, cost 34.757315847463744 iteration 337\n",
      "m 1.332912139160499, b 0.09544505597558585, cost 34.757313806533794 iteration 338\n",
      "m 1.3329094531648265, b 0.0954901324998989, cost 34.757311766645365 iteration 339\n",
      "m 1.3329067678545965, b 0.0955351975210791, cost 34.75730972779792 iteration 340\n",
      "m 1.3329040832296342, b 0.09558025104206191, cost 34.75730768999095 iteration 341\n",
      "m 1.3329013992897645, b 0.09562529306578212, cost 34.7573056532239 iteration 342\n",
      "m 1.3328987160348125, b 0.0956703235951737, cost 34.757303617496255 iteration 343\n",
      "m 1.3328960334646038, b 0.09571534263316993, cost 34.75730158280747 iteration 344\n",
      "m 1.3328933515789634, b 0.09576035018270328, cost 34.757299549157025 iteration 345\n",
      "m 1.3328906703777166, b 0.09580534624670552, cost 34.75729751654438 iteration 346\n",
      "m 1.3328879898606887, b 0.09585033082810766, cost 34.75729548496901 iteration 347\n",
      "m 1.3328853100277052, b 0.09589530392983997, cost 34.7572934544304 iteration 348\n",
      "m 1.3328826308785917, b 0.09594026555483194, cost 34.757291424928006 iteration 349\n",
      "m 1.3328799524131734, b 0.09598521570601234, cost 34.7572893964613 iteration 350\n",
      "m 1.332877274631276, b 0.0960301543863092, cost 34.757287369029754 iteration 351\n",
      "m 1.332874597532725, b 0.09607508159864976, cost 34.75728534263285 iteration 352\n",
      "m 1.3328719211173459, b 0.09611999734596056, cost 34.757283317270044 iteration 353\n",
      "m 1.3328692453849644, b 0.09616490163116738, cost 34.75728129294082 iteration 354\n",
      "m 1.3328665703354066, b 0.09620979445719524, cost 34.757279269644634 iteration 355\n",
      "m 1.3328638959684977, b 0.09625467582696842, cost 34.75727724738099 iteration 356\n",
      "m 1.332861222284064, b 0.09629954574341046, cost 34.75727522614933 iteration 357\n",
      "m 1.3328585492819307, b 0.09634440420944415, cost 34.75727320594914 iteration 358\n",
      "m 1.3328558769619243, b 0.09638925122799154, cost 34.757271186779896 iteration 359\n",
      "m 1.3328532053238704, b 0.0964340868019739, cost 34.757269168641066 iteration 360\n",
      "m 1.3328505343675952, b 0.09647891093431182, cost 34.757267151532126 iteration 361\n",
      "m 1.3328478640929244, b 0.09652372362792508, cost 34.757265135452556 iteration 362\n",
      "m 1.3328451944996842, b 0.09656852488573275, cost 34.757263120401824 iteration 363\n",
      "m 1.3328425255877008, b 0.09661331471065315, cost 34.75726110637941 iteration 364\n",
      "m 1.3328398573568003, b 0.09665809310560386, cost 34.75725909338478 iteration 365\n",
      "m 1.332837189806809, b 0.09670286007350169, cost 34.75725708141742 iteration 366\n",
      "m 1.332834522937553, b 0.09674761561726272, cost 34.75725507047681 iteration 367\n",
      "m 1.3328318567488584, b 0.09679235973980231, cost 34.757253060562405 iteration 368\n",
      "m 1.3328291912405519, b 0.09683709244403504, cost 34.7572510516737 iteration 369\n",
      "m 1.3328265264124595, b 0.09688181373287477, cost 34.75724904381016 iteration 370\n",
      "m 1.332823862264408, b 0.09692652360923461, cost 34.75724703697127 iteration 371\n",
      "m 1.3328211987962235, b 0.09697122207602692, cost 34.75724503115651 iteration 372\n",
      "m 1.3328185360077327, b 0.09701590913616331, cost 34.75724302636535 iteration 373\n",
      "m 1.332815873898762, b 0.09706058479255468, cost 34.75724102259728 iteration 374\n",
      "m 1.3328132124691385, b 0.09710524904811116, cost 34.75723901985175 iteration 375\n",
      "m 1.3328105517186883, b 0.09714990190574213, cost 34.757237018128265 iteration 376\n",
      "m 1.3328078916472381, b 0.09719454336835626, cost 34.75723501742629 iteration 377\n",
      "m 1.332805232254615, b 0.09723917343886143, cost 34.7572330177453 iteration 378\n",
      "m 1.3328025735406452, b 0.09728379212016483, cost 34.75723101908479 iteration 379\n",
      "m 1.332799915505156, b 0.09732839941517288, cost 34.75722902144424 iteration 380\n",
      "m 1.3327972581479741, b 0.09737299532679126, cost 34.7572270248231 iteration 381\n",
      "m 1.3327946014689265, b 0.09741757985792492, cost 34.7572250292209 iteration 382\n",
      "m 1.3327919454678399, b 0.09746215301147804, cost 34.75722303463706 iteration 383\n",
      "m 1.3327892901445415, b 0.09750671479035408, cost 34.757221041071105 iteration 384\n",
      "m 1.3327866354988582, b 0.09755126519745577, cost 34.757219048522494 iteration 385\n",
      "m 1.3327839815306173, b 0.09759580423568509, cost 34.757217056990726 iteration 386\n",
      "m 1.3327813282396457, b 0.09764033190794327, cost 34.75721506647527 iteration 387\n",
      "m 1.3327786756257705, b 0.0976848482171308, cost 34.757213076975596 iteration 388\n",
      "m 1.332776023688819, b 0.09772935316614745, cost 34.75721108849121 iteration 389\n",
      "m 1.3327733724286188, b 0.09777384675789222, cost 34.75720910102158 iteration 390\n",
      "m 1.332770721844997, b 0.0978183289952634, cost 34.757207114566185 iteration 391\n",
      "m 1.3327680719377806, b 0.09786279988115851, cost 34.757205129124515 iteration 392\n",
      "m 1.332765422706797, b 0.09790725941847435, cost 34.75720314469606 iteration 393\n",
      "m 1.3327627741518742, b 0.09795170761010699, cost 34.757201161280285 iteration 394\n",
      "m 1.3327601262728392, b 0.09799614445895174, cost 34.757199178876675 iteration 395\n",
      "m 1.3327574790695198, b 0.0980405699679032, cost 34.75719719748472 iteration 396\n",
      "m 1.3327548325417433, b 0.09808498413985518, cost 34.75719521710391 iteration 397\n",
      "m 1.3327521866893375, b 0.0981293869777008, cost 34.75719323773372 iteration 398\n",
      "m 1.33274954151213, b 0.09817377848433241, cost 34.75719125937365 iteration 399\n",
      "m 1.3327468970099483, b 0.09821815866264165, cost 34.75718928202315 iteration 400\n",
      "m 1.3327442531826204, b 0.09826252751551941, cost 34.75718730568174 iteration 401\n",
      "m 1.332741610029974, b 0.09830688504585584, cost 34.7571853303489 iteration 402\n",
      "m 1.332738967551837, b 0.09835123125654036, cost 34.757183356024086 iteration 403\n",
      "m 1.3327363257480374, b 0.09839556615046162, cost 34.75718138270681 iteration 404\n",
      "m 1.3327336846184026, b 0.09843988973050757, cost 34.75717941039655 iteration 405\n",
      "m 1.332731044162761, b 0.09848420199956542, cost 34.75717743909279 iteration 406\n",
      "m 1.3327284043809404, b 0.09852850296052164, cost 34.75717546879505 iteration 407\n",
      "m 1.3327257652727689, b 0.09857279261626194, cost 34.757173499502755 iteration 408\n",
      "m 1.3327231268380746, b 0.09861707096967132, cost 34.75717153121544 iteration 409\n",
      "m 1.3327204890766857, b 0.09866133802363403, cost 34.75716956393256 iteration 410\n",
      "m 1.3327178519884304, b 0.0987055937810336, cost 34.75716759765363 iteration 411\n",
      "m 1.3327152155731368, b 0.0987498382447528, cost 34.757165632378126 iteration 412\n",
      "m 1.3327125798306332, b 0.09879407141767368, cost 34.757163668105534 iteration 413\n",
      "m 1.3327099447607478, b 0.09883829330267757, cost 34.757161704835354 iteration 414\n",
      "m 1.3327073103633091, b 0.09888250390264504, cost 34.75715974256705 iteration 415\n",
      "m 1.3327046766381456, b 0.09892670322045592, cost 34.75715778130013 iteration 416\n",
      "m 1.3327020435850856, b 0.09897089125898934, cost 34.75715582103408 iteration 417\n",
      "m 1.3326994112039576, b 0.09901506802112364, cost 34.75715386176839 iteration 418\n",
      "m 1.33269677949459, b 0.09905923350973649, cost 34.75715190350254 iteration 419\n",
      "m 1.3326941484568118, b 0.09910338772770476, cost 34.757149946236034 iteration 420\n",
      "m 1.332691518090451, b 0.09914753067790465, cost 34.75714798996835 iteration 421\n",
      "m 1.332688888395337, b 0.09919166236321159, cost 34.75714603469899 iteration 422\n",
      "m 1.3326862593712978, b 0.09923578278650026, cost 34.75714408042744 iteration 423\n",
      "m 1.3326836310181625, b 0.09927989195064464, cost 34.75714212715317 iteration 424\n",
      "m 1.3326810033357597, b 0.09932398985851798, cost 34.75714017487571 iteration 425\n",
      "m 1.3326783763239183, b 0.09936807651299276, cost 34.757138223594524 iteration 426\n",
      "m 1.3326757499824673, b 0.09941215191694076, cost 34.7571362733091 iteration 427\n",
      "m 1.3326731243112357, b 0.09945621607323303, cost 34.757134324018956 iteration 428\n",
      "m 1.3326704993100522, b 0.09950026898473985, cost 34.75713237572357 iteration 429\n",
      "m 1.332667874978746, b 0.0995443106543308, cost 34.75713042842241 iteration 430\n",
      "m 1.332665251317146, b 0.0995883410848747, cost 34.75712848211502 iteration 431\n",
      "m 1.3326626283250815, b 0.09963236027923968, cost 34.75712653680085 iteration 432\n",
      "m 1.3326600060023814, b 0.09967636824029309, cost 34.75712459247941 iteration 433\n",
      "m 1.3326573843488752, b 0.0997203649709016, cost 34.75712264915019 iteration 434\n",
      "m 1.3326547633643917, b 0.0997643504739311, cost 34.75712070681268 iteration 435\n",
      "m 1.3326521430487606, b 0.0998083247522468, cost 34.75711876546639 iteration 436\n",
      "m 1.332649523401811, b 0.09985228780871311, cost 34.75711682511079 iteration 437\n",
      "m 1.3326469044233722, b 0.09989623964619376, cost 34.757114885745395 iteration 438\n",
      "m 1.3326442861132737, b 0.09994018026755175, cost 34.75711294736968 iteration 439\n",
      "m 1.332641668471345, b 0.09998410967564932, cost 34.75711100998316 iteration 440\n",
      "m 1.3326390514974154, b 0.100028027873348, cost 34.75710907358532 iteration 441\n",
      "m 1.3326364351913145, b 0.10007193486350859, cost 34.75710713817566 iteration 442\n",
      "m 1.332633819552872, b 0.10011583064899116, cost 34.75710520375368 iteration 443\n",
      "m 1.3326312045819173, b 0.10015971523265503, cost 34.757103270318865 iteration 444\n",
      "m 1.3326285902782804, b 0.10020358861735881, cost 34.757101337870715 iteration 445\n",
      "m 1.3326259766417907, b 0.10024745080596038, cost 34.75709940640871 iteration 446\n",
      "m 1.3326233636722782, b 0.1002913018013169, cost 34.75709747593238 iteration 447\n",
      "m 1.3326207513695725, b 0.10033514160628476, cost 34.7570955464412 iteration 448\n",
      "m 1.3326181397335035, b 0.10037897022371967, cost 34.75709361793468 iteration 449\n",
      "m 1.332615528763901, b 0.10042278765647658, cost 34.7570916904123 iteration 450\n",
      "m 1.332612918460595, b 0.10046659390740972, cost 34.75708976387359 iteration 451\n",
      "m 1.3326103088234156, b 0.10051038897937262, cost 34.757087838318 iteration 452\n",
      "m 1.3326076998521925, b 0.100554172875218, cost 34.75708591374506 iteration 453\n",
      "m 1.332605091546756, b 0.10059794559779797, cost 34.75708399015427 iteration 454\n",
      "m 1.3326024839069361, b 0.10064170714996382, cost 34.75708206754511 iteration 455\n",
      "m 1.332599876932563, b 0.10068545753456612, cost 34.7570801459171 iteration 456\n",
      "m 1.332597270623467, b 0.10072919675445476, cost 34.75707822526973 iteration 457\n",
      "m 1.332594664979478, b 0.10077292481247888, cost 34.7570763056025 iteration 458\n",
      "m 1.3325920600004264, b 0.10081664171148687, cost 34.757074386914915 iteration 459\n",
      "m 1.3325894556861426, b 0.10086034745432643, cost 34.757072469206456 iteration 460\n",
      "m 1.332586852036457, b 0.10090404204384451, cost 34.75707055247665 iteration 461\n",
      "m 1.3325842490511999, b 0.10094772548288734, cost 34.75706863672497 iteration 462\n",
      "m 1.3325816467302019, b 0.10099139777430043, cost 34.75706672195095 iteration 463\n",
      "m 1.332579045073293, b 0.10103505892092854, cost 34.75706480815406 iteration 464\n",
      "m 1.3325764440803043, b 0.10107870892561573, cost 34.757062895333824 iteration 465\n",
      "m 1.3325738437510661, b 0.10112234779120532, cost 34.75706098348971 iteration 466\n",
      "m 1.3325712440854092, b 0.10116597552053994, cost 34.75705907262127 iteration 467\n",
      "m 1.332568645083164, b 0.10120959211646142, cost 34.75705716272796 iteration 468\n",
      "m 1.3325660467441613, b 0.10125319758181094, cost 34.7570552538093 iteration 469\n",
      "m 1.3325634490682319, b 0.1012967919194289, cost 34.75705334586481 iteration 470\n",
      "m 1.3325608520552066, b 0.10134037513215503, cost 34.75705143889397 iteration 471\n",
      "m 1.3325582557049163, b 0.10138394722282829, cost 34.75704953289628 iteration 472\n",
      "m 1.3325556600171917, b 0.10142750819428692, cost 34.757047627871266 iteration 473\n",
      "m 1.3325530649918638, b 0.10147105804936846, cost 34.757045723818415 iteration 474\n",
      "m 1.3325504706287634, b 0.1015145967909097, cost 34.75704382073723 iteration 475\n",
      "m 1.332547876927722, b 0.10155812442174672, cost 34.75704191862724 iteration 476\n",
      "m 1.33254528388857, b 0.10160164094471488, cost 34.75704001748792 iteration 477\n",
      "m 1.332542691511139, b 0.1016451463626488, cost 34.75703811731878 iteration 478\n",
      "m 1.3325400997952597, b 0.1016886406783824, cost 34.75703621811933 iteration 479\n",
      "m 1.3325375087407636, b 0.10173212389474887, cost 34.75703431988907 iteration 480\n",
      "m 1.332534918347482, b 0.10177559601458065, cost 34.75703242262752 iteration 481\n",
      "m 1.332532328615246, b 0.1018190570407095, cost 34.75703052633417 iteration 482\n",
      "m 1.3325297395438866, b 0.10186250697596641, cost 34.757028631008524 iteration 483\n",
      "m 1.3325271511332357, b 0.1019059458231817, cost 34.757026736650104 iteration 484\n",
      "m 1.3325245633831244, b 0.10194937358518492, cost 34.75702484325841 iteration 485\n",
      "m 1.3325219762933842, b 0.10199279026480494, cost 34.75702295083294 iteration 486\n",
      "m 1.3325193898638465, b 0.10203619586486987, cost 34.75702105937321 iteration 487\n",
      "m 1.3325168040943431, b 0.10207959038820712, cost 34.75701916887873 iteration 488\n",
      "m 1.3325142189847052, b 0.10212297383764336, cost 34.75701727934899 iteration 489\n",
      "m 1.3325116345347645, b 0.10216634621600457, cost 34.757015390783515 iteration 490\n",
      "m 1.3325090507443529, b 0.10220970752611598, cost 34.75701350318181 iteration 491\n",
      "m 1.3325064676133018, b 0.10225305777080212, cost 34.75701161654339 iteration 492\n",
      "m 1.332503885141443, b 0.10229639695288678, cost 34.757009730867736 iteration 493\n",
      "m 1.3325013033286084, b 0.10233972507519305, cost 34.75700784615439 iteration 494\n",
      "m 1.3324987221746296, b 0.10238304214054328, cost 34.75700596240283 iteration 495\n",
      "m 1.3324961416793388, b 0.1024263481517591, cost 34.757004079612585 iteration 496\n",
      "m 1.3324935618425677, b 0.10246964311166146, cost 34.75700219778317 iteration 497\n",
      "m 1.3324909826641482, b 0.10251292702307052, cost 34.75700031691408 iteration 498\n",
      "m 1.3324884041439125, b 0.10255619988880578, cost 34.75699843700483 iteration 499\n",
      "m 1.3324858262816923, b 0.10259946171168599, cost 34.75699655805494 iteration 500\n",
      "m 1.33248324907732, b 0.10264271249452919, cost 34.756994680063904 iteration 501\n",
      "m 1.3324806725306275, b 0.1026859522401527, cost 34.75699280303123 iteration 502\n",
      "m 1.3324780966414471, b 0.10272918095137312, cost 34.75699092695644 iteration 503\n",
      "m 1.3324755214096111, b 0.10277239863100635, cost 34.75698905183905 iteration 504\n",
      "m 1.3324729468349514, b 0.10281560528186753, cost 34.75698717767856 iteration 505\n",
      "m 1.3324703729173006, b 0.10285880090677113, cost 34.7569853044745 iteration 506\n",
      "m 1.3324677996564913, b 0.10290198550853086, cost 34.756983432226356 iteration 507\n",
      "m 1.3324652270523554, b 0.10294515908995973, cost 34.75698156093366 iteration 508\n",
      "m 1.3324626551047254, b 0.10298832165387004, cost 34.7569796905959 iteration 509\n",
      "m 1.3324600838134337, b 0.10303147320307335, cost 34.75697782121263 iteration 510\n",
      "m 1.332457513178313, b 0.10307461374038053, cost 34.75697595278332 iteration 511\n",
      "m 1.3324549431991959, b 0.10311774326860172, cost 34.75697408530751 iteration 512\n",
      "m 1.3324523738759146, b 0.10316086179054633, cost 34.7569722187847 iteration 513\n",
      "m 1.3324498052083023, b 0.10320396930902308, cost 34.75697035321441 iteration 514\n",
      "m 1.3324472371961913, b 0.10324706582683994, cost 34.75696848859616 iteration 515\n",
      "m 1.3324446698394146, b 0.10329015134680421, cost 34.756966624929454 iteration 516\n",
      "m 1.3324421031378046, b 0.1033332258717224, cost 34.756964762213805 iteration 517\n",
      "m 1.3324395370911943, b 0.10337628940440038, cost 34.75696290044873 iteration 518\n",
      "m 1.3324369716994164, b 0.10341934194764328, cost 34.75696103963375 iteration 519\n",
      "m 1.3324344069623042, b 0.1034623835042555, cost 34.75695917976838 iteration 520\n",
      "m 1.3324318428796904, b 0.10350541407704072, cost 34.75695732085213 iteration 521\n",
      "m 1.3324292794514079, b 0.10354843366880193, cost 34.75695546288451 iteration 522\n",
      "m 1.3324267166772896, b 0.10359144228234138, cost 34.75695360586504 iteration 523\n",
      "m 1.332424154557169, b 0.10363443992046062, cost 34.75695174979326 iteration 524\n",
      "m 1.3324215930908787, b 0.10367742658596048, cost 34.75694989466865 iteration 525\n",
      "m 1.332419032278252, b 0.10372040228164107, cost 34.75694804049075 iteration 526\n",
      "m 1.3324164721191225, b 0.10376336701030182, cost 34.75694618725906 iteration 527\n",
      "m 1.332413912613323, b 0.10380632077474139, cost 34.756944334973106 iteration 528\n",
      "m 1.3324113537606868, b 0.10384926357775776, cost 34.75694248363241 iteration 529\n",
      "m 1.3324087955610473, b 0.10389219542214818, cost 34.75694063323649 iteration 530\n",
      "m 1.3324062380142379, b 0.10393511631070922, cost 34.756938783784854 iteration 531\n",
      "m 1.332403681120092, b 0.10397802624623668, cost 34.75693693527702 iteration 532\n",
      "m 1.332401124878443, b 0.1040209252315257, cost 34.75693508771251 iteration 533\n",
      "m 1.3323985692891245, b 0.10406381326937067, cost 34.75693324109085 iteration 534\n",
      "m 1.3323960143519697, b 0.1041066903625653, cost 34.756931395411556 iteration 535\n",
      "m 1.3323934600668126, b 0.10414955651390255, cost 34.75692955067415 iteration 536\n",
      "m 1.3323909064334867, b 0.10419241172617469, cost 34.75692770687814 iteration 537\n",
      "m 1.3323883534518255, b 0.10423525600217327, cost 34.75692586402303 iteration 538\n",
      "m 1.3323858011216627, b 0.10427808934468914, cost 34.75692402210839 iteration 539\n",
      "m 1.332383249442832, b 0.10432091175651244, cost 34.7569221811337 iteration 540\n",
      "m 1.3323806984151676, b 0.10436372324043257, cost 34.756920341098485 iteration 541\n",
      "m 1.3323781480385029, b 0.10440652379923823, cost 34.756918502002286 iteration 542\n",
      "m 1.332375598312672, b 0.10444931343571742, cost 34.7569166638446 iteration 543\n",
      "m 1.3323730492375085, b 0.10449209215265742, cost 34.756914826624964 iteration 544\n",
      "m 1.3323705008128468, b 0.10453485995284481, cost 34.75691299034289 iteration 545\n",
      "m 1.3323679530385206, b 0.10457761683906544, cost 34.75691115499789 iteration 546\n",
      "m 1.3323654059143641, b 0.10462036281410446, cost 34.756909320589514 iteration 547\n",
      "m 1.3323628594402113, b 0.1046630978807463, cost 34.75690748711726 iteration 548\n",
      "m 1.3323603136158961, b 0.10470582204177471, cost 34.756905654580656 iteration 549\n",
      "m 1.332357768441253, b 0.10474853529997269, cost 34.75690382297924 iteration 550\n",
      "m 1.3323552239161163, b 0.10479123765812254, cost 34.756901992312514 iteration 551\n",
      "m 1.3323526800403198, b 0.10483392911900587, cost 34.75690016258002 iteration 552\n",
      "m 1.332350136813698, b 0.10487660968540356, cost 34.75689833378126 iteration 553\n",
      "m 1.3323475942360856, b 0.10491927936009579, cost 34.756896505915755 iteration 554\n",
      "m 1.3323450523073166, b 0.10496193814586202, cost 34.75689467898305 iteration 555\n",
      "m 1.3323425110272253, b 0.10500458604548102, cost 34.75689285298268 iteration 556\n",
      "m 1.3323399703956464, b 0.10504722306173082, cost 34.75689102791413 iteration 557\n",
      "m 1.3323374304124145, b 0.10508984919738878, cost 34.75688920377694 iteration 558\n",
      "m 1.3323348910773638, b 0.10513246445523154, cost 34.75688738057065 iteration 559\n",
      "m 1.3323323523903292, b 0.105175068838035, cost 34.756885558294776 iteration 560\n",
      "m 1.3323298143511453, b 0.10521766234857438, cost 34.75688373694884 iteration 561\n",
      "m 1.3323272769596466, b 0.10526024498962419, cost 34.75688191653236 iteration 562\n",
      "m 1.332324740215668, b 0.10530281676395822, cost 34.75688009704487 iteration 563\n",
      "m 1.332322204119044, b 0.10534537767434957, cost 34.75687827848591 iteration 564\n",
      "m 1.3323196686696095, b 0.10538792772357061, cost 34.75687646085497 iteration 565\n",
      "m 1.3323171338671995, b 0.10543046691439305, cost 34.75687464415161 iteration 566\n",
      "m 1.332314599711649, b 0.10547299524958782, cost 34.75687282837535 iteration 567\n",
      "m 1.3323120662027925, b 0.10551551273192519, cost 34.7568710135257 iteration 568\n",
      "m 1.3323095333404653, b 0.10555801936417472, cost 34.756869199602214 iteration 569\n",
      "m 1.3323070011245022, b 0.10560051514910526, cost 34.75686738660439 iteration 570\n",
      "m 1.3323044695547384, b 0.10564300008948495, cost 34.75686557453178 iteration 571\n",
      "m 1.3323019386310089, b 0.1056854741880812, cost 34.7568637633839 iteration 572\n",
      "m 1.332299408353149, b 0.10572793744766078, cost 34.75686195316028 iteration 573\n",
      "m 1.332296878720994, b 0.10577038987098968, cost 34.75686014386044 iteration 574\n",
      "m 1.3322943497343784, b 0.10581283146083321, cost 34.75685833548394 iteration 575\n",
      "m 1.3322918213931383, b 0.10585526221995602, cost 34.75685652803027 iteration 576\n",
      "m 1.3322892936971085, b 0.10589768215112197, cost 34.75685472149897 iteration 577\n",
      "m 1.3322867666461247, b 0.10594009125709429, cost 34.75685291588958 iteration 578\n",
      "m 1.3322842402400221, b 0.10598248954063547, cost 34.75685111120162 iteration 579\n",
      "m 1.332281714478636, b 0.10602487700450727, cost 34.75684930743463 iteration 580\n",
      "m 1.332279189361802, b 0.10606725365147081, cost 34.75684750458814 iteration 581\n",
      "m 1.3322766648893556, b 0.10610961948428646, cost 34.756845702661664 iteration 582\n",
      "m 1.3322741410611325, b 0.1061519745057139, cost 34.75684390165474 iteration 583\n",
      "m 1.3322716178769682, b 0.10619431871851208, cost 34.7568421015669 iteration 584\n",
      "m 1.3322690953366982, b 0.10623665212543928, cost 34.75684030239769 iteration 585\n",
      "m 1.3322665734401584, b 0.10627897472925307, cost 34.7568385041466 iteration 586\n",
      "m 1.3322640521871845, b 0.10632128653271031, cost 34.75683670681321 iteration 587\n",
      "m 1.332261531577612, b 0.10636358753856714, cost 34.756834910397025 iteration 588\n",
      "m 1.3322590116112771, b 0.10640587774957903, cost 34.75683311489758 iteration 589\n",
      "m 1.3322564922880153, b 0.10644815716850071, cost 34.75683132031442 iteration 590\n",
      "m 1.3322539736076628, b 0.10649042579808625, cost 34.75682952664706 iteration 591\n",
      "m 1.3322514555700553, b 0.10653268364108898, cost 34.756827733895044 iteration 592\n",
      "m 1.3322489381750289, b 0.10657493070026154, cost 34.75682594205789 iteration 593\n",
      "m 1.3322464214224194, b 0.10661716697835588, cost 34.756824151135135 iteration 594\n",
      "m 1.3322439053120632, b 0.10665939247812323, cost 34.756822361126346 iteration 595\n",
      "m 1.3322413898437964, b 0.10670160720231413, cost 34.75682057203101 iteration 596\n",
      "m 1.3322388750174547, b 0.1067438111536784, cost 34.75681878384868 iteration 597\n",
      "m 1.3322363608328749, b 0.10678600433496517, cost 34.75681699657889 iteration 598\n",
      "m 1.3322338472898927, b 0.10682818674892289, cost 34.756815210221184 iteration 599\n",
      "m 1.3322313343883447, b 0.10687035839829927, cost 34.75681342477508 iteration 600\n",
      "m 1.3322288221280671, b 0.10691251928584133, cost 34.75681164024013 iteration 601\n",
      "m 1.332226310508896, b 0.1069546694142954, cost 34.756809856615845 iteration 602\n",
      "m 1.3322237995306683, b 0.10699680878640712, cost 34.75680807390179 iteration 603\n",
      "m 1.3322212891932201, b 0.1070389374049214, cost 34.75680629209747 iteration 604\n",
      "m 1.332218779496388, b 0.10708105527258248, cost 34.75680451120244 iteration 605\n",
      "m 1.3322162704400085, b 0.10712316239213386, cost 34.75680273121623 iteration 606\n",
      "m 1.332213762023918, b 0.10716525876631837, cost 34.756800952138384 iteration 607\n",
      "m 1.3322112542479534, b 0.10720734439787814, cost 34.75679917396843 iteration 608\n",
      "m 1.332208747111951, b 0.1072494192895546, cost 34.756797396705906 iteration 609\n",
      "m 1.3322062406157478, b 0.10729148344408845, cost 34.75679562035034 iteration 610\n",
      "m 1.3322037347591804, b 0.10733353686421974, cost 34.756793844901296 iteration 611\n",
      "m 1.3322012295420855, b 0.10737557955268778, cost 34.756792070358294 iteration 612\n",
      "m 1.3321987249643001, b 0.1074176115122312, cost 34.756790296720865 iteration 613\n",
      "m 1.3321962210256608, b 0.10745963274558792, cost 34.756788523988554 iteration 614\n",
      "m 1.3321937177260048, b 0.10750164325549519, cost 34.75678675216089 iteration 615\n",
      "m 1.3321912150651687, b 0.10754364304468951, cost 34.75678498123744 iteration 616\n",
      "m 1.3321887130429897, b 0.10758563211590674, cost 34.7567832112177 iteration 617\n",
      "m 1.3321862116593048, b 0.107627610471882, cost 34.75678144210124 iteration 618\n",
      "m 1.332183710913951, b 0.10766957811534973, cost 34.7567796738876 iteration 619\n",
      "m 1.3321812108067654, b 0.10771153504904367, cost 34.7567779065763 iteration 620\n",
      "m 1.3321787113375854, b 0.10775348127569685, cost 34.7567761401669 iteration 621\n",
      "m 1.3321762125062477, b 0.10779541679804162, cost 34.756774374658924 iteration 622\n",
      "m 1.33217371431259, b 0.10783734161880963, cost 34.75677261005191 iteration 623\n",
      "m 1.3321712167564495, b 0.10787925574073182, cost 34.75677084634541 iteration 624\n",
      "m 1.332168719837663, b 0.10792115916653842, cost 34.75676908353897 iteration 625\n",
      "m 1.3321662235560685, b 0.10796305189895904, cost 34.75676732163212 iteration 626\n",
      "m 1.332163727911503, b 0.10800493394072248, cost 34.75676556062439 iteration 627\n",
      "m 1.332161232903804, b 0.10804680529455693, cost 34.75676380051532 iteration 628\n",
      "m 1.332158738532809, b 0.10808866596318986, cost 34.75676204130449 iteration 629\n",
      "m 1.3321562447983557, b 0.10813051594934804, cost 34.75676028299141 iteration 630\n",
      "m 1.3321537517002815, b 0.10817235525575754, cost 34.75675852557563 iteration 631\n",
      "m 1.3321512592384241, b 0.10821418388514373, cost 34.75675676905668 iteration 632\n",
      "m 1.3321487674126211, b 0.10825600184023129, cost 34.75675501343411 iteration 633\n",
      "m 1.33214627622271, b 0.10829780912374422, cost 34.75675325870748 iteration 634\n",
      "m 1.3321437856685288, b 0.1083396057384058, cost 34.7567515048763 iteration 635\n",
      "m 1.332141295749915, b 0.10838139168693864, cost 34.75674975194013 iteration 636\n",
      "m 1.3321388064667066, b 0.10842316697206462, cost 34.75674799989853 iteration 637\n",
      "m 1.3321363178187413, b 0.10846493159650498, cost 34.75674624875102 iteration 638\n",
      "m 1.3321338298058572, b 0.10850668556298021, cost 34.75674449849715 iteration 639\n",
      "m 1.332131342427892, b 0.10854842887421014, cost 34.75674274913646 iteration 640\n",
      "m 1.332128855684684, b 0.10859016153291388, cost 34.756741000668505 iteration 641\n",
      "m 1.3321263695760708, b 0.10863188354180989, cost 34.756739253092825 iteration 642\n",
      "m 1.3321238841018908, b 0.10867359490361587, cost 34.75673750640897 iteration 643\n",
      "m 1.3321213992619818, b 0.1087152956210489, cost 34.75673576061646 iteration 644\n",
      "m 1.3321189150561823, b 0.1087569856968253, cost 34.75673401571486 iteration 645\n",
      "m 1.3321164314843303, b 0.10879866513366075, cost 34.75673227170372 iteration 646\n",
      "m 1.332113948546264, b 0.1088403339342702, cost 34.75673052858258 iteration 647\n",
      "m 1.3321114662418216, b 0.10888199210136792, cost 34.75672878635099 iteration 648\n",
      "m 1.3321089845708416, b 0.1089236396376675, cost 34.75672704500848 iteration 649\n",
      "m 1.332106503533162, b 0.10896527654588183, cost 34.756725304554614 iteration 650\n",
      "m 1.3321040231286216, b 0.10900690282872308, cost 34.75672356498893 iteration 651\n",
      "m 1.3321015433570587, b 0.10904851848890278, cost 34.75672182631097 iteration 652\n",
      "m 1.3320990642183115, b 0.10909012352913172, cost 34.7567200885203 iteration 653\n",
      "m 1.332096585712219, b 0.10913171795212002, cost 34.75671835161645 iteration 654\n",
      "m 1.3320941078386193, b 0.10917330176057712, cost 34.75671661559897 iteration 655\n",
      "m 1.3320916305973511, b 0.10921487495721173, cost 34.75671488046741 iteration 656\n",
      "m 1.3320891539882531, b 0.10925643754473192, cost 34.75671314622132 iteration 657\n",
      "m 1.332086678011164, b 0.10929798952584505, cost 34.75671141286024 iteration 658\n",
      "m 1.3320842026659225, b 0.10933953090325775, cost 34.75670968038373 iteration 659\n",
      "m 1.3320817279523673, b 0.10938106167967601, cost 34.75670794879133 iteration 660\n",
      "m 1.3320792538703374, b 0.10942258185780511, cost 34.75670621808259 iteration 661\n",
      "m 1.3320767804196714, b 0.10946409144034963, cost 34.756704488257064 iteration 662\n",
      "m 1.3320743076002082, b 0.10950559043001348, cost 34.756702759314294 iteration 663\n",
      "m 1.3320718354117869, b 0.10954707882949988, cost 34.75670103125383 iteration 664\n",
      "m 1.3320693638542465, b 0.10958855664151133, cost 34.756699304075234 iteration 665\n",
      "m 1.3320668929274257, b 0.10963002386874966, cost 34.75669757777805 iteration 666\n",
      "m 1.3320644226311638, b 0.10967148051391602, cost 34.75669585236182 iteration 667\n",
      "m 1.3320619529652997, b 0.10971292657971086, cost 34.756694127826094 iteration 668\n",
      "m 1.3320594839296727, b 0.10975436206883395, cost 34.75669240417043 iteration 669\n",
      "m 1.3320570155241218, b 0.10979578698398434, cost 34.75669068139439 iteration 670\n",
      "m 1.3320545477484864, b 0.10983720132786044, cost 34.756688959497495 iteration 671\n",
      "m 1.3320520806026055, b 0.10987860510315994, cost 34.75668723847933 iteration 672\n",
      "m 1.3320496140863187, b 0.10991999831257986, cost 34.75668551833942 iteration 673\n",
      "m 1.3320471481994651, b 0.10996138095881648, cost 34.75668379907732 iteration 674\n",
      "m 1.3320446829418842, b 0.11000275304456547, cost 34.756682080692606 iteration 675\n",
      "m 1.3320422183134153, b 0.11004411457252176, cost 34.756680363184806 iteration 676\n",
      "m 1.332039754313898, b 0.11008546554537962, cost 34.75667864655349 iteration 677\n",
      "m 1.3320372909431717, b 0.1101268059658326, cost 34.756676930798186 iteration 678\n",
      "m 1.3320348282010759, b 0.11016813583657359, cost 34.75667521591846 iteration 679\n",
      "m 1.3320323660874502, b 0.11020945516029478, cost 34.75667350191387 iteration 680\n",
      "m 1.3320299046021344, b 0.11025076393968766, cost 34.75667178878398 iteration 681\n",
      "m 1.332027443744968, b 0.11029206217744308, cost 34.756670076528316 iteration 682\n",
      "m 1.3320249835157907, b 0.11033334987625117, cost 34.756668365146446 iteration 683\n",
      "m 1.3320225239144423, b 0.11037462703880135, cost 34.75666665463793 iteration 684\n",
      "m 1.3320200649407625, b 0.1104158936677824, cost 34.75666494500231 iteration 685\n",
      "m 1.3320176065945912, b 0.11045714976588239, cost 34.75666323623915 iteration 686\n",
      "m 1.3320151488757683, b 0.11049839533578872, cost 34.756661528348 iteration 687\n",
      "m 1.3320126917841335, b 0.11053963038018806, cost 34.75665982132842 iteration 688\n",
      "m 1.332010235319527, b 0.11058085490176646, cost 34.75665811517995 iteration 689\n",
      "m 1.3320077794817886, b 0.11062206890320925, cost 34.75665640990217 iteration 690\n",
      "m 1.3320053242707586, b 0.11066327238720106, cost 34.75665470549462 iteration 691\n",
      "m 1.3320028696862767, b 0.11070446535642585, cost 34.75665300195686 iteration 692\n",
      "m 1.332000415728183, b 0.11074564781356691, cost 34.75665129928844 iteration 693\n",
      "m 1.331997962396318, b 0.11078681976130683, cost 34.75664959748893 iteration 694\n",
      "m 1.331995509690522, b 0.11082798120232752, cost 34.75664789655787 iteration 695\n",
      "m 1.3319930576106347, b 0.11086913213931018, cost 34.75664619649482 iteration 696\n",
      "m 1.3319906061564968, b 0.11091027257493537, cost 34.756644497299355 iteration 697\n",
      "m 1.3319881553279482, b 0.11095140251188293, cost 34.756642798971 iteration 698\n",
      "m 1.3319857051248296, b 0.11099252195283205, cost 34.75664110150935 iteration 699\n",
      "m 1.3319832555469815, b 0.1110336309004612, cost 34.75663940491393 iteration 700\n",
      "m 1.331980806594244, b 0.11107472935744818, cost 34.756637709184325 iteration 701\n",
      "m 1.3319783582664577, b 0.11111581732647012, cost 34.756636014320065 iteration 702\n",
      "m 1.3319759105634632, b 0.11115689481020345, cost 34.75663432032074 iteration 703\n",
      "m 1.3319734634851008, b 0.11119796181132392, cost 34.75663262718589 iteration 704\n",
      "m 1.3319710170312116, b 0.11123901833250661, cost 34.75663093491506 iteration 705\n",
      "m 1.3319685712016356, b 0.1112800643764259, cost 34.75662924350784 iteration 706\n",
      "m 1.3319661259962141, b 0.11132109994575551, cost 34.75662755296377 iteration 707\n",
      "m 1.3319636814147875, b 0.11136212504316845, cost 34.75662586328241 iteration 708\n",
      "m 1.3319612374571965, b 0.11140313967133707, cost 34.75662417446333 iteration 709\n",
      "m 1.331958794123282, b 0.11144414383293301, cost 34.756622486506075 iteration 710\n",
      "m 1.3319563514128847, b 0.11148513753062728, cost 34.75662079941023 iteration 711\n",
      "m 1.331953909325846, b 0.11152612076709015, cost 34.756619113175326 iteration 712\n",
      "m 1.3319514678620061, b 0.11156709354499124, cost 34.75661742780095 iteration 713\n",
      "m 1.3319490270212064, b 0.11160805586699948, cost 34.75661574328663 iteration 714\n",
      "m 1.3319465868032878, b 0.11164900773578314, cost 34.75661405963196 iteration 715\n",
      "m 1.3319441472080915, b 0.11168994915400977, cost 34.75661237683648 iteration 716\n",
      "m 1.3319417082354585, b 0.11173088012434627, cost 34.75661069489976 iteration 717\n",
      "m 1.3319392698852297, b 0.11177180064945885, cost 34.75660901382136 iteration 718\n",
      "m 1.3319368321572465, b 0.11181271073201303, cost 34.756607333600854 iteration 719\n",
      "m 1.33193439505135, b 0.11185361037467367, cost 34.756605654237795 iteration 720\n",
      "m 1.3319319585673817, b 0.11189449958010494, cost 34.75660397573173 iteration 721\n",
      "m 1.3319295227051826, b 0.11193537835097032, cost 34.75660229808225 iteration 722\n",
      "m 1.331927087464594, b 0.11197624668993263, cost 34.75660062128889 iteration 723\n",
      "m 1.3319246528454576, b 0.11201710459965399, cost 34.756598945351236 iteration 724\n",
      "m 1.3319222188476145, b 0.11205795208279584, cost 34.75659727026885 iteration 725\n",
      "m 1.3319197854709062, b 0.11209878914201898, cost 34.75659559604127 iteration 726\n",
      "m 1.3319173527151742, b 0.11213961577998349, cost 34.75659392266808 iteration 727\n",
      "m 1.3319149205802603, b 0.11218043199934878, cost 34.75659225014885 iteration 728\n",
      "m 1.331912489066006, b 0.11222123780277359, cost 34.75659057848313 iteration 729\n",
      "m 1.3319100581722525, b 0.11226203319291596, cost 34.75658890767049 iteration 730\n",
      "m 1.3319076278988418, b 0.11230281817243329, cost 34.7565872377105 iteration 731\n",
      "m 1.3319051982456154, b 0.11234359274398227, cost 34.7565855686027 iteration 732\n",
      "m 1.3319027692124152, b 0.11238435691021892, cost 34.75658390034669 iteration 733\n",
      "m 1.331900340799083, b 0.1124251106737986, cost 34.75658223294202 iteration 734\n",
      "m 1.3318979130054605, b 0.11246585403737595, cost 34.75658056638826 iteration 735\n",
      "m 1.3318954858313896, b 0.11250658700360498, cost 34.756578900684964 iteration 736\n",
      "m 1.3318930592767122, b 0.112547309575139, cost 34.75657723583171 iteration 737\n",
      "m 1.3318906333412701, b 0.11258802175463065, cost 34.756575571828066 iteration 738\n",
      "m 1.3318882080249055, b 0.11262872354473187, cost 34.75657390867357 iteration 739\n",
      "m 1.3318857833274604, b 0.11266941494809395, cost 34.756572246367824 iteration 740\n",
      "m 1.3318833592487767, b 0.11271009596736749, cost 34.756570584910385 iteration 741\n",
      "m 1.3318809357886965, b 0.11275076660520242, cost 34.75656892430081 iteration 742\n",
      "m 1.331878512947062, b 0.11279142686424799, cost 34.756567264538674 iteration 743\n",
      "m 1.3318760907237155, b 0.11283207674715279, cost 34.75656560562355 iteration 744\n",
      "m 1.3318736691184991, b 0.11287271625656471, cost 34.75656394755498 iteration 745\n",
      "m 1.3318712481312551, b 0.11291334539513098, cost 34.75656229033258 iteration 746\n",
      "m 1.3318688277618258, b 0.11295396416549815, cost 34.756560633955864 iteration 747\n",
      "m 1.3318664080100535, b 0.11299457257031208, cost 34.75655897842444 iteration 748\n",
      "m 1.3318639888757806, b 0.11303517061221796, cost 34.75655732373786 iteration 749\n",
      "m 1.3318615703588494, b 0.11307575829386034, cost 34.75655566989569 iteration 750\n",
      "m 1.3318591524591026, b 0.11311633561788305, cost 34.7565540168975 iteration 751\n",
      "m 1.3318567351763826, b 0.11315690258692927, cost 34.756552364742866 iteration 752\n",
      "m 1.3318543185105318, b 0.11319745920364149, cost 34.75655071343137 iteration 753\n",
      "m 1.3318519024613928, b 0.11323800547066155, cost 34.756549062962556 iteration 754\n",
      "m 1.3318494870288085, b 0.1132785413906306, cost 34.756547413336 iteration 755\n",
      "m 1.3318470722126212, b 0.1133190669661891, cost 34.756545764551284 iteration 756\n",
      "m 1.3318446580126737, b 0.11335958219997685, cost 34.75654411660798 iteration 757\n",
      "m 1.331842244428809, b 0.113400087094633, cost 34.756542469505625 iteration 758\n",
      "m 1.3318398314608695, b 0.11344058165279601, cost 34.75654082324384 iteration 759\n",
      "m 1.3318374191086984, b 0.11348106587710365, cost 34.756539177822155 iteration 760\n",
      "m 1.3318350073721383, b 0.11352153977019303, cost 34.75653753324016 iteration 761\n",
      "m 1.3318325962510322, b 0.11356200333470057, cost 34.756535889497435 iteration 762\n",
      "m 1.331830185745223, b 0.11360245657326205, cost 34.756534246593525 iteration 763\n",
      "m 1.3318277758545538, b 0.11364289948851257, cost 34.756532604528026 iteration 764\n",
      "m 1.3318253665788675, b 0.11368333208308652, cost 34.756530963300506 iteration 765\n",
      "m 1.331822957918007, b 0.11372375435961767, cost 34.756529322910524 iteration 766\n",
      "m 1.3318205498718156, b 0.11376416632073907, cost 34.75652768335765 iteration 767\n",
      "m 1.3318181424401365, b 0.11380456796908316, cost 34.75652604464149 iteration 768\n",
      "m 1.3318157356228129, b 0.11384495930728164, cost 34.756524406761585 iteration 769\n",
      "m 1.3318133294196879, b 0.11388534033796557, cost 34.75652276971752 iteration 770\n",
      "m 1.3318109238306046, b 0.11392571106376535, cost 34.75652113350886 iteration 771\n",
      "m 1.3318085188554067, b 0.1139660714873107, cost 34.756519498135205 iteration 772\n",
      "m 1.3318061144939373, b 0.11400642161123065, cost 34.75651786359609 iteration 773\n",
      "m 1.3318037107460399, b 0.11404676143815358, cost 34.756516229891126 iteration 774\n",
      "m 1.3318013076115576, b 0.11408709097070718, cost 34.75651459701986 iteration 775\n",
      "m 1.3317989050903343, b 0.11412741021151851, cost 34.756512964981866 iteration 776\n",
      "m 1.3317965031822132, b 0.1141677191632139, cost 34.75651133377674 iteration 777\n",
      "m 1.331794101887038, b 0.11420801782841906, cost 34.756509703404056 iteration 778\n",
      "m 1.3317917012046523, b 0.11424830620975902, cost 34.75650807386336 iteration 779\n",
      "m 1.3317893011348994, b 0.11428858430985812, cost 34.75650644515426 iteration 780\n",
      "m 1.3317869016776234, b 0.11432885213134006, cost 34.756504817276316 iteration 781\n",
      "m 1.3317845028326678, b 0.11436910967682783, cost 34.7565031902291 iteration 782\n",
      "m 1.3317821045998763, b 0.11440935694894376, cost 34.7565015640122 iteration 783\n",
      "m 1.3317797069790926, b 0.11444959395030956, cost 34.75649993862519 iteration 784\n",
      "m 1.3317773099701609, b 0.11448982068354621, cost 34.75649831406763 iteration 785\n",
      "m 1.3317749135729247, b 0.11453003715127406, cost 34.75649669033913 iteration 786\n",
      "m 1.3317725177872282, b 0.1145702433561128, cost 34.756495067439225 iteration 787\n",
      "m 1.3317701226129148, b 0.11461043930068138, cost 34.756493445367525 iteration 788\n",
      "m 1.331767728049829, b 0.11465062498759816, cost 34.75649182412359 iteration 789\n",
      "m 1.3317653340978148, b 0.1146908004194808, cost 34.75649020370701 iteration 790\n",
      "m 1.331762940756716, b 0.11473096559894629, cost 34.75648858411736 iteration 791\n",
      "m 1.3317605480263768, b 0.11477112052861095, cost 34.756486965354206 iteration 792\n",
      "m 1.3317581559066414, b 0.11481126521109045, cost 34.75648534741715 iteration 793\n",
      "m 1.3317557643973539, b 0.11485139964899978, cost 34.75648373030573 iteration 794\n",
      "m 1.3317533734983587, b 0.11489152384495326, cost 34.756482114019576 iteration 795\n",
      "m 1.3317509832094996, b 0.11493163780156454, cost 34.756480498558226 iteration 796\n",
      "m 1.3317485935306212, b 0.11497174152144664, cost 34.75647888392128 iteration 797\n",
      "m 1.331746204461568, b 0.11501183500721185, cost 34.7564772701083 iteration 798\n",
      "m 1.3317438160021844, b 0.11505191826147185, cost 34.75647565711889 iteration 799\n",
      "m 1.3317414281523146, b 0.11509199128683761, cost 34.756474044952604 iteration 800\n",
      "m 1.3317390409118028, b 0.11513205408591948, cost 34.75647243360905 iteration 801\n",
      "m 1.331736654280494, b 0.1151721066613271, cost 34.75647082308779 iteration 802\n",
      "m 1.3317342682582327, b 0.11521214901566947, cost 34.75646921338839 iteration 803\n",
      "m 1.3317318828448632, b 0.11525218115155489, cost 34.75646760451046 iteration 804\n",
      "m 1.33172949804023, b 0.11529220307159105, cost 34.756465996453564 iteration 805\n",
      "m 1.3317271138441782, b 0.11533221477838493, cost 34.75646438921729 iteration 806\n",
      "m 1.3317247302565522, b 0.11537221627454287, cost 34.75646278280122 iteration 807\n",
      "m 1.3317223472771968, b 0.11541220756267054, cost 34.756461177204926 iteration 808\n",
      "m 1.331719964905957, b 0.11545218864537292, cost 34.75645957242801 iteration 809\n",
      "m 1.3317175831426773, b 0.11549215952525435, cost 34.756457968470016 iteration 810\n",
      "m 1.3317152019872025, b 0.1155321202049185, cost 34.75645636533056 iteration 811\n",
      "m 1.3317128214393779, b 0.11557207068696838, cost 34.756454763009216 iteration 812\n",
      "m 1.331710441499048, b 0.11561201097400634, cost 34.756453161505554 iteration 813\n",
      "m 1.331708062166058, b 0.11565194106863404, cost 34.75645156081918 iteration 814\n",
      "m 1.3317056834402528, b 0.1156918609734525, cost 34.756449960949666 iteration 815\n",
      "m 1.3317033053214775, b 0.1157317706910621, cost 34.756448361896595 iteration 816\n",
      "m 1.3317009278095773, b 0.11577167022406247, cost 34.75644676365953 iteration 817\n",
      "m 1.3316985509043973, b 0.11581155957505268, cost 34.75644516623809 iteration 818\n",
      "m 1.3316961746057825, b 0.11585143874663106, cost 34.756443569631834 iteration 819\n",
      "m 1.3316937989135782, b 0.11589130774139533, cost 34.75644197384036 iteration 820\n",
      "m 1.3316914238276298, b 0.11593116656194251, cost 34.756440378863225 iteration 821\n",
      "m 1.3316890493477824, b 0.11597101521086896, cost 34.75643878470006 iteration 822\n",
      "m 1.3316866754738814, b 0.11601085369077041, cost 34.756437191350415 iteration 823\n",
      "m 1.3316843022057723, b 0.11605068200424189, cost 34.75643559881388 iteration 824\n",
      "m 1.3316819295433002, b 0.11609050015387778, cost 34.75643400709006 iteration 825\n",
      "m 1.3316795574863107, b 0.11613030814227182, cost 34.756432416178505 iteration 826\n",
      "m 1.3316771860346495, b 0.11617010597201706, cost 34.75643082607883 iteration 827\n",
      "m 1.3316748151881617, b 0.1162098936457059, cost 34.756429236790595 iteration 828\n",
      "m 1.331672444946693, b 0.11624967116593007, cost 34.75642764831342 iteration 829\n",
      "m 1.3316700753100892, b 0.11628943853528066, cost 34.75642606064687 iteration 830\n",
      "m 1.3316677062781959, b 0.11632919575634808, cost 34.756424473790524 iteration 831\n",
      "m 1.3316653378508587, b 0.11636894283172207, cost 34.75642288774398 iteration 832\n",
      "m 1.3316629700279234, b 0.11640867976399172, cost 34.75642130250683 iteration 833\n",
      "m 1.3316606028092357, b 0.11644840655574547, cost 34.75641971807865 iteration 834\n",
      "m 1.3316582361946414, b 0.11648812320957108, cost 34.756418134459025 iteration 835\n",
      "m 1.3316558701839862, b 0.11652782972805568, cost 34.756416551647554 iteration 836\n",
      "m 1.3316535047771163, b 0.11656752611378571, cost 34.75641496964382 iteration 837\n",
      "m 1.3316511399738773, b 0.11660721236934696, cost 34.75641338844742 iteration 838\n",
      "m 1.3316487757741153, b 0.11664688849732456, cost 34.75641180805792 iteration 839\n",
      "m 1.3316464121776763, b 0.11668655450030298, cost 34.75641022847491 iteration 840\n",
      "m 1.3316440491844066, b 0.11672621038086603, cost 34.75640864969801 iteration 841\n",
      "m 1.3316416867941518, b 0.11676585614159686, cost 34.75640707172678 iteration 842\n",
      "m 1.3316393250067582, b 0.11680549178507796, cost 34.75640549456081 iteration 843\n",
      "m 1.331636963822072, b 0.11684511731389118, cost 34.7564039181997 iteration 844\n",
      "m 1.3316346032399395, b 0.11688473273061767, cost 34.75640234264303 iteration 845\n",
      "m 1.3316322432602068, b 0.11692433803783796, cost 34.7564007678904 iteration 846\n",
      "m 1.33162988388272, b 0.11696393323813191, cost 34.75639919394139 iteration 847\n",
      "m 1.3316275251073257, b 0.11700351833407871, cost 34.75639762079559 iteration 848\n",
      "m 1.3316251669338701, b 0.11704309332825691, cost 34.756396048452594 iteration 849\n",
      "m 1.3316228093621998, b 0.11708265822324439, cost 34.75639447691201 iteration 850\n",
      "m 1.331620452392161, b 0.11712221302161836, cost 34.75639290617338 iteration 851\n",
      "m 1.3316180960236004, b 0.1171617577259554, cost 34.75639133623635 iteration 852\n",
      "m 1.3316157402563642, b 0.11720129233883142, cost 34.756389767100465 iteration 853\n",
      "m 1.3316133850902991, b 0.11724081686282167, cost 34.75638819876536 iteration 854\n",
      "m 1.3316110305252515, b 0.11728033130050075, cost 34.75638663123058 iteration 855\n",
      "m 1.3316086765610684, b 0.1173198356544426, cost 34.75638506449575 iteration 856\n",
      "m 1.3316063231975963, b 0.11735932992722048, cost 34.75638349856046 iteration 857\n",
      "m 1.3316039704346818, b 0.11739881412140703, cost 34.756381933424294 iteration 858\n",
      "m 1.3316016182721717, b 0.11743828823957421, cost 34.756380369086834 iteration 859\n",
      "m 1.331599266709913, b 0.11747775228429334, cost 34.75637880554768 iteration 860\n",
      "m 1.331596915747752, b 0.11751720625813508, cost 34.756377242806444 iteration 861\n",
      "m 1.331594565385536, b 0.11755665016366942, cost 34.756375680862696 iteration 862\n",
      "m 1.331592215623112, b 0.11759608400346572, cost 34.75637411971602 iteration 863\n",
      "m 1.3315898664603265, b 0.11763550778009264, cost 34.75637255936604 iteration 864\n",
      "m 1.3315875178970267, b 0.11767492149611823, cost 34.75637099981233 iteration 865\n",
      "m 1.3315851699330596, b 0.11771432515410987, cost 34.75636944105449 iteration 866\n",
      "m 1.3315828225682724, b 0.11775371875663428, cost 34.7563678830921 iteration 867\n",
      "m 1.331580475802512, b 0.1177931023062575, cost 34.75636632592477 iteration 868\n",
      "m 1.3315781296356255, b 0.11783247580554498, cost 34.75636476955209 iteration 869\n",
      "m 1.3315757840674602, b 0.11787183925706146, cost 34.75636321397366 iteration 870\n",
      "m 1.3315734390978635, b 0.11791119266337105, cost 34.756361659189054 iteration 871\n",
      "m 1.3315710947266823, b 0.11795053602703719, cost 34.7563601051979 iteration 872\n",
      "m 1.331568750953764, b 0.11798986935062267, cost 34.75635855199976 iteration 873\n",
      "m 1.331566407778956, b 0.11802919263668965, cost 34.75635699959425 iteration 874\n",
      "m 1.3315640652021055, b 0.1180685058877996, cost 34.756355447980965 iteration 875\n",
      "m 1.33156172322306, b 0.11810780910651336, cost 34.75635389715949 iteration 876\n",
      "m 1.3315593818416673, b 0.1181471022953911, cost 34.756352347129415 iteration 877\n",
      "m 1.3315570410577742, b 0.11818638545699235, cost 34.75635079789037 iteration 878\n",
      "m 1.3315547008712287, b 0.11822565859387599, cost 34.756349249441904 iteration 879\n",
      "m 1.3315523612818783, b 0.11826492170860024, cost 34.75634770178366 iteration 880\n",
      "m 1.3315500222895704, b 0.11830417480372267, cost 34.7563461549152 iteration 881\n",
      "m 1.331547683894153, b 0.11834341788180018, cost 34.75634460883614 iteration 882\n",
      "m 1.3315453460954734, b 0.11838265094538904, cost 34.75634306354606 iteration 883\n",
      "m 1.3315430088933795, b 0.11842187399704485, cost 34.75634151904458 iteration 884\n",
      "m 1.331540672287719, b 0.11846108703932258, cost 34.75633997533128 iteration 885\n",
      "m 1.3315383362783397, b 0.11850029007477653, cost 34.756338432405755 iteration 886\n",
      "m 1.3315360008650896, b 0.11853948310596035, cost 34.75633689026763 iteration 887\n",
      "m 1.3315336660478163, b 0.11857866613542706, cost 34.75633534891647 iteration 888\n",
      "m 1.331531331826368, b 0.11861783916572899, cost 34.756333808351904 iteration 889\n",
      "m 1.3315289982005925, b 0.11865700219941784, cost 34.75633226857351 iteration 890\n",
      "m 1.3315266651703377, b 0.11869615523904467, cost 34.756330729580874 iteration 891\n",
      "m 1.3315243327354516, b 0.11873529828715987, cost 34.75632919137363 iteration 892\n",
      "m 1.3315220008957824, b 0.11877443134631319, cost 34.75632765395136 iteration 893\n",
      "m 1.3315196696511784, b 0.11881355441905371, cost 34.75632611731365 iteration 894\n",
      "m 1.3315173390014876, b 0.1188526675079299, cost 34.75632458146012 iteration 895\n",
      "m 1.331515008946558, b 0.11889177061548953, cost 34.75632304639037 iteration 896\n",
      "m 1.3315126794862377, b 0.11893086374427975, cost 34.75632151210399 iteration 897\n",
      "m 1.3315103506203756, b 0.11896994689684706, cost 34.75631997860057 iteration 898\n",
      "m 1.3315080223488194, b 0.11900902007573731, cost 34.756318445879735 iteration 899\n",
      "m 1.3315056946714177, b 0.11904808328349568, cost 34.75631691394107 iteration 900\n",
      "m 1.3315033675880188, b 0.11908713652266674, cost 34.756315382784194 iteration 901\n",
      "m 1.3315010410984711, b 0.11912617979579436, cost 34.756313852408674 iteration 902\n",
      "m 1.331498715202623, b 0.11916521310542179, cost 34.756312322814146 iteration 903\n",
      "m 1.3314963899003232, b 0.11920423645409163, cost 34.75631079400017 iteration 904\n",
      "m 1.33149406519142, b 0.11924324984434584, cost 34.7563092659664 iteration 905\n",
      "m 1.331491741075762, b 0.11928225327872571, cost 34.756307738712415 iteration 906\n",
      "m 1.3314894175531982, b 0.1193212467597719, cost 34.756306212237796 iteration 907\n",
      "m 1.3314870946235768, b 0.1193602302900244, cost 34.75630468654217 iteration 908\n",
      "m 1.3314847722867467, b 0.11939920387202259, cost 34.756303161625134 iteration 909\n",
      "m 1.3314824505425564, b 0.11943816750830515, cost 34.756301637486295 iteration 910\n",
      "m 1.331480129390855, b 0.11947712120141014, cost 34.756300114125246 iteration 911\n",
      "m 1.331477808831491, b 0.11951606495387498, cost 34.75629859154159 iteration 912\n",
      "m 1.3314754888643132, b 0.11955499876823644, cost 34.75629706973495 iteration 913\n",
      "m 1.3314731694891708, b 0.11959392264703063, cost 34.7562955487049 iteration 914\n",
      "m 1.3314708507059125, b 0.11963283659279302, cost 34.75629402845106 iteration 915\n",
      "m 1.3314685325143873, b 0.11967174060805844, cost 34.75629250897303 iteration 916\n",
      "m 1.3314662149144443, b 0.11971063469536106, cost 34.756290990270415 iteration 917\n",
      "m 1.3314638979059323, b 0.1197495188572344, cost 34.75628947234282 iteration 918\n",
      "m 1.3314615814887008, b 0.11978839309621135, cost 34.756287955189855 iteration 919\n",
      "m 1.3314592656625983, b 0.11982725741482415, cost 34.75628643881112 iteration 920\n",
      "m 1.3314569504274745, b 0.11986611181560439, cost 34.756284923206216 iteration 921\n",
      "m 1.3314546357831782, b 0.119904956301083, cost 34.75628340837476 iteration 922\n",
      "m 1.3314523217295586, b 0.11994379087379028, cost 34.75628189431634 iteration 923\n",
      "m 1.3314500082664653, b 0.1199826155362559, cost 34.75628038103057 iteration 924\n",
      "m 1.3314476953937475, b 0.12002143029100887, cost 34.75627886851705 iteration 925\n",
      "m 1.3314453831112547, b 0.12006023514057752, cost 34.756277356775406 iteration 926\n",
      "m 1.3314430714188359, b 0.1200990300874896, cost 34.75627584580523 iteration 927\n",
      "m 1.3314407603163407, b 0.12013781513427214, cost 34.756274335606115 iteration 928\n",
      "m 1.3314384498036185, b 0.12017659028345161, cost 34.756272826177685 iteration 929\n",
      "m 1.3314361398805188, b 0.12021535553755376, cost 34.75627131751955 iteration 930\n",
      "m 1.3314338305468914, b 0.12025411089910375, cost 34.7562698096313 iteration 931\n",
      "m 1.3314315218025854, b 0.12029285637062605, cost 34.75626830251256 iteration 932\n",
      "m 1.3314292136474508, b 0.12033159195464452, cost 34.75626679616292 iteration 933\n",
      "m 1.331426906081337, b 0.12037031765368236, cost 34.756265290582 iteration 934\n",
      "m 1.3314245991040938, b 0.12040903347026213, cost 34.756263785769406 iteration 935\n",
      "m 1.331422292715571, b 0.12044773940690576, cost 34.756262281724744 iteration 936\n",
      "m 1.3314199869156182, b 0.12048643546613451, cost 34.756260778447626 iteration 937\n",
      "m 1.3314176817040855, b 0.12052512165046901, cost 34.75625927593765 iteration 938\n",
      "m 1.3314153770808224, b 0.12056379796242925, cost 34.756257774194424 iteration 939\n",
      "m 1.3314130730456788, b 0.12060246440453457, cost 34.75625627321757 iteration 940\n",
      "m 1.3314107695985047, b 0.12064112097930366, cost 34.7562547730067 iteration 941\n",
      "m 1.3314084667391501, b 0.12067976768925459, cost 34.75625327356139 iteration 942\n",
      "m 1.331406164467465, b 0.12071840453690479, cost 34.7562517748813 iteration 943\n",
      "m 1.3314038627832994, b 0.120757031524771, cost 34.756250276966 iteration 944\n",
      "m 1.3314015616865034, b 0.12079564865536938, cost 34.75624877981512 iteration 945\n",
      "m 1.331399261176927, b 0.1208342559312154, cost 34.75624728342825 iteration 946\n",
      "m 1.3313969612544205, b 0.12087285335482391, cost 34.75624578780502 iteration 947\n",
      "m 1.3313946619188342, b 0.12091144092870912, cost 34.75624429294502 iteration 948\n",
      "m 1.331392363170018, b 0.12095001865538459, cost 34.756242798847886 iteration 949\n",
      "m 1.331390065007822, b 0.12098858653736322, cost 34.75624130551321 iteration 950\n",
      "m 1.331387767432097, b 0.12102714457715733, cost 34.756239812940606 iteration 951\n",
      "m 1.3313854704426933, b 0.12106569277727852, cost 34.75623832112969 iteration 952\n",
      "m 1.331383174039461, b 0.12110423114023781, cost 34.75623683008008 iteration 953\n",
      "m 1.3313808782222507, b 0.12114275966854557, cost 34.756235339791374 iteration 954\n",
      "m 1.3313785829909126, b 0.12118127836471149, cost 34.756233850263186 iteration 955\n",
      "m 1.3313762883452975, b 0.12121978723124466, cost 34.75623236149513 iteration 956\n",
      "m 1.3313739942852558, b 0.1212582862706535, cost 34.75623087348682 iteration 957\n",
      "m 1.331371700810638, b 0.12129677548544583, cost 34.756229386237855 iteration 958\n",
      "m 1.3313694079212948, b 0.12133525487812878, cost 34.75622789974788 iteration 959\n",
      "m 1.3313671156170768, b 0.12137372445120889, cost 34.756226414016474 iteration 960\n",
      "m 1.3313648238978346, b 0.12141218420719202, cost 34.75622492904325 iteration 961\n",
      "m 1.331362532763419, b 0.12145063414858343, cost 34.75622344482786 iteration 962\n",
      "m 1.331360242213681, b 0.12148907427788769, cost 34.75622196136987 iteration 963\n",
      "m 1.3313579522484709, b 0.12152750459760876, cost 34.756220478668915 iteration 964\n",
      "m 1.33135566286764, b 0.12156592511024998, cost 34.75621899672461 iteration 965\n",
      "m 1.3313533740710388, b 0.12160433581831402, cost 34.75621751553658 iteration 966\n",
      "m 1.3313510858585185, b 0.12164273672430292, cost 34.75621603510441 iteration 967\n",
      "m 1.33134879822993, b 0.12168112783071809, cost 34.75621455542774 iteration 968\n",
      "m 1.331346511185124, b 0.12171950914006029, cost 34.75621307650617 iteration 969\n",
      "m 1.3313442247239518, b 0.12175788065482963, cost 34.75621159833932 iteration 970\n",
      "m 1.3313419388462644, b 0.12179624237752563, cost 34.75621012092681 iteration 971\n",
      "m 1.331339653551913, b 0.12183459431064714, cost 34.75620864426824 iteration 972\n",
      "m 1.3313373688407486, b 0.12187293645669234, cost 34.75620716836325 iteration 973\n",
      "m 1.3313350847126224, b 0.12191126881815882, cost 34.75620569321142 iteration 974\n",
      "m 1.3313328011673855, b 0.12194959139754354, cost 34.75620421881239 iteration 975\n",
      "m 1.3313305182048893, b 0.12198790419734278, cost 34.75620274516577 iteration 976\n",
      "m 1.3313282358249852, b 0.12202620722005221, cost 34.75620127227119 iteration 977\n",
      "m 1.3313259540275244, b 0.12206450046816686, cost 34.75619980012825 iteration 978\n",
      "m 1.3313236728123583, b 0.12210278394418111, cost 34.75619832873656 iteration 979\n",
      "m 1.331321392179338, b 0.12214105765058872, cost 34.756196858095755 iteration 980\n",
      "m 1.3313191121283154, b 0.12217932158988282, cost 34.75619538820544 iteration 981\n",
      "m 1.3313168326591418, b 0.12221757576455587, cost 34.75619391906525 iteration 982\n",
      "m 1.3313145537716686, b 0.12225582017709974, cost 34.75619245067477 iteration 983\n",
      "m 1.3313122754657476, b 0.12229405483000562, cost 34.75619098303363 iteration 984\n",
      "m 1.3313099977412302, b 0.12233227972576409, cost 34.756189516141475 iteration 985\n",
      "m 1.331307720597968, b 0.12237049486686509, cost 34.75618804999788 iteration 986\n",
      "m 1.3313054440358127, b 0.12240870025579792, cost 34.75618658460249 iteration 987\n",
      "m 1.3313031680546161, b 0.12244689589505126, cost 34.756185119954914 iteration 988\n",
      "m 1.33130089265423, b 0.12248508178711312, cost 34.75618365605478 iteration 989\n",
      "m 1.331298617834506, b 0.12252325793447091, cost 34.75618219290169 iteration 990\n",
      "m 1.331296343595296, b 0.1225614243396114, cost 34.75618073049528 iteration 991\n",
      "m 1.331294069936452, b 0.12259958100502069, cost 34.75617926883517 iteration 992\n",
      "m 1.3312917968578255, b 0.12263772793318431, cost 34.756177807920956 iteration 993\n",
      "m 1.3312895243592688, b 0.1226758651265871, cost 34.75617634775228 iteration 994\n",
      "m 1.3312872524406338, b 0.12271399258771329, cost 34.75617488832875 iteration 995\n",
      "m 1.3312849811017724, b 0.12275211031904647, cost 34.756173429649984 iteration 996\n",
      "m 1.3312827103425369, b 0.1227902183230696, cost 34.75617197171561 iteration 997\n",
      "m 1.3312804401627791, b 0.12282831660226501, cost 34.756170514525245 iteration 998\n",
      "m 1.331278170562351, b 0.12286640515911437, cost 34.75616905807851 iteration 999\n"
     ]
    },
    {
     "data": {
      "image/png": "[encoded data removed]",
      "text/plain": [
       "<Figure size 720x360 with 1 Axes>"
      ]
     },
     "metadata": {
      "tags": []
     },
     "output_type": "display_data"
    }
   ],
   "source": [
    "# import numpy as np\n",
    "# import pandas as df\n",
    "# import altair as alt\n",
    "# import matplotlib.pyplot as plt\n",
    "num_points =20\n",
    "x = 5 + np.arange(num_points) + np.random.randn(num_points)\n",
    "y = 10 + np.arange(num_points) + 5 * np.random.randn(num_points)\n",
    "\n",
    "plt.scatter(x,y)\n",
    "\n",
    "def gradient_descent(x,y):\n",
    "    m_curr = b_curr = 0\n",
    "    iterations = 1000\n",
    "    n = len(x)\n",
    "    learning_rate = 0.001\n",
    "\n",
    "    for i in range(iterations):\n",
    "        y_predicted = m_curr * x + b_curr\n",
    "        cost = (1/n) * sum([val**2 for val in (y-y_predicted)])\n",
    "        md = -(2/n)*sum(x*(y-y_predicted))\n",
    "        bd = -(2/n)*sum(y-y_predicted)\n",
    "        m_curr = m_curr - learning_rate * md\n",
    "        b_curr = b_curr - learning_rate * bd\n",
    "        plt.plot(x,y_predicted)\n",
    "        print (\"m {}, b {}, cost {} iteration {}\".format(m_curr,b_curr,cost, i))\n",
    "\n",
    "gradient_descent(x,y)\n",
    "# xY_values = { 'area' : np.array([2600,2,3,4,5]),\n",
    "#               'y' : np.array([5,7,9,11,13])}\n",
    "# df = df.DataFrame(xY_values, columns = ['x','y'])\n",
    "# #plt.scatter(df['x'],df['y'])\n",
    "\n"
   ]
  },
  {
   "cell_type": "code",
   "execution_count": null,
   "metadata": {
    "colab": {
     "base_uri": "https://localhost:8080/"
    },
    "executionInfo": {
     "elapsed": 3482,
     "status": "ok",
     "timestamp": 1608120524928,
     "user": {
      "displayName": "Matheus lopes",
      "photoUrl": "",
      "userId": "10384866493879646145"
     },
     "user_tz": 180
    },
    "id": "XZVrHrOt-llw",
    "outputId": "64907f90-32d9-48b6-fd60-a28b4756fa71"
   },
   "outputs": [
    {
     "name": "stdout",
     "output_type": "stream",
     "text": [
      "d is: ['0.00000000', '0.16600000', '0.33300000']\n",
      "p is: ['0.00000000', '0.25400000', '0.99800000']\n",
      "rms error is: 0.3872849941150143\n"
     ]
    }
   ],
   "source": [
    "d = [0.000, 0.166, 0.333]   #ideal target distances, these can be all zeros.\n",
    "p = [0.000, 0.254, 0.998]   #your performance goes here\n",
    "\n",
    "print(\"d is: \" + str([\"%.8f\" % elem for elem in d]))\n",
    "print(\"p is: \" + str([\"%.8f\" % elem for elem in p]))\n",
    "\n",
    "def rmse(predictions, targets):\n",
    "    return np.sqrt(((predictions - targets) ** 2).mean())\n",
    "\n",
    "rmse_val = rmse(np.array(d), np.array(p))\n",
    "print(\"rms error is: \" + str(rmse_val))"
   ]
  },
  {
   "cell_type": "code",
   "execution_count": null,
   "metadata": {
    "colab": {
     "base_uri": "https://localhost:8080/",
     "height": 394
    },
    "executionInfo": {
     "elapsed": 882,
     "status": "ok",
     "timestamp": 1608126400309,
     "user": {
      "displayName": "Matheus lopes",
      "photoUrl": "",
      "userId": "10384866493879646145"
     },
     "user_tz": 180
    },
    "id": "OXUEHvOAWqYG",
    "outputId": "48820b64-d10f-4ea9-cba7-d4a239cc3a12"
   },
   "outputs": [
    {
     "name": "stderr",
     "output_type": "stream",
     "text": [
      "/usr/local/lib/python3.6/dist-packages/seaborn/_decorators.py:43: FutureWarning: Pass the following variables as keyword args: x, y. From version 0.12, the only valid positional argument will be `data`, and passing other arguments without an explicit keyword will result in an error or misinterpretation.\n",
      "  FutureWarning\n"
     ]
    },
    {
     "data": {
      "image/png": "[encoded data removed]",
      "text/plain": [
       "<Figure size 720x360 with 1 Axes>"
      ]
     },
     "metadata": {
      "tags": []
     },
     "output_type": "display_data"
    }
   ],
   "source": [
    "plt.style.use('seaborn-white')\n",
    "# Generate some random data\n",
    "num_points = 30\n",
    "# x will be 5, 6, 7... but also twiddled randomly\n",
    "x = 5 + np.arange(num_points) + np.random.randn(num_points)\n",
    "# y will be 10, 11, 12... but twiddled even more randomly\n",
    "y = 10 + np.arange(num_points) + 5 * np.random.randn(num_points)\n",
    "sns.regplot(x, y)\n",
    "plt.show()\n"
   ]
  },
  {
   "cell_type": "code",
   "execution_count": null,
   "metadata": {
    "colab": {
     "base_uri": "https://localhost:8080/",
     "height": 368
    },
    "executionInfo": {
     "elapsed": 4698,
     "status": "ok",
     "timestamp": 1608120526193,
     "user": {
      "displayName": "Matheus lopes",
      "photoUrl": "",
      "userId": "10384866493879646145"
     },
     "user_tz": 180
    },
    "id": "cqmunEPxuZHs",
    "outputId": "f901fd96-190a-4558-c8a4-78f72d66d31f"
   },
   "outputs": [
    {
     "data": {
      "text/html": [
       "\n",
       "<div id=\"altair-viz-b263f793661841549dc59fcdf6d5959b\"></div>\n",
       "<script type=\"text/javascript\">\n",
       "  (function(spec, embedOpt){\n",
       "    let outputDiv = document.currentScript.previousElementSibling;\n",
       "    if (outputDiv.id !== \"altair-viz-b263f793661841549dc59fcdf6d5959b\") {\n",
       "      outputDiv = document.getElementById(\"altair-viz-b263f793661841549dc59fcdf6d5959b\");\n",
       "    }\n",
       "    const paths = {\n",
       "      \"vega\": \"https://cdn.jsdelivr.net/npm//vega@5?noext\",\n",
       "      \"vega-lib\": \"https://cdn.jsdelivr.net/npm//vega-lib?noext\",\n",
       "      \"vega-lite\": \"https://cdn.jsdelivr.net/npm//vega-lite@4.8.1?noext\",\n",
       "      \"vega-embed\": \"https://cdn.jsdelivr.net/npm//vega-embed@6?noext\",\n",
       "    };\n",
       "\n",
       "    function loadScript(lib) {\n",
       "      return new Promise(function(resolve, reject) {\n",
       "        var s = document.createElement('script');\n",
       "        s.src = paths[lib];\n",
       "        s.async = true;\n",
       "        s.onload = () => resolve(paths[lib]);\n",
       "        s.onerror = () => reject(`Error loading script: ${paths[lib]}`);\n",
       "        document.getElementsByTagName(\"head\")[0].appendChild(s);\n",
       "      });\n",
       "    }\n",
       "\n",
       "    function showError(err) {\n",
       "      outputDiv.innerHTML = `<div class=\"error\" style=\"color:red;\">${err}</div>`;\n",
       "      throw err;\n",
       "    }\n",
       "\n",
       "    function displayChart(vegaEmbed) {\n",
       "      vegaEmbed(outputDiv, spec, embedOpt)\n",
       "        .catch(err => showError(`Javascript Error: ${err.message}<br>This usually means there's a typo in your chart specification. See the javascript console for the full traceback.`));\n",
       "    }\n",
       "\n",
       "    if(typeof define === \"function\" && define.amd) {\n",
       "      requirejs.config({paths});\n",
       "      require([\"vega-embed\"], displayChart, err => showError(`Error loading script: ${err.message}`));\n",
       "    } else if (typeof vegaEmbed === \"function\") {\n",
       "      displayChart(vegaEmbed);\n",
       "    } else {\n",
       "      loadScript(\"vega\")\n",
       "        .then(() => loadScript(\"vega-lite\"))\n",
       "        .then(() => loadScript(\"vega-embed\"))\n",
       "        .catch(showError)\n",
       "        .then(() => displayChart(vegaEmbed));\n",
       "    }\n",
       "  })({\"config\": {\"view\": {\"continuousWidth\": 400, \"continuousHeight\": 300}}, \"layer\": [{\"mark\": \"point\", \"encoding\": {\"x\": {\"type\": \"quantitative\", \"field\": \"x\"}, \"y\": {\"type\": \"quantitative\", \"field\": \"y\"}}}, {\"mark\": \"line\", \"encoding\": {\"x\": {\"type\": \"quantitative\", \"field\": \"x\"}, \"y\": {\"type\": \"quantitative\", \"field\": \"y\"}}, \"selection\": {\"selector002\": {\"type\": \"interval\", \"bind\": \"scales\", \"encodings\": [\"x\", \"y\"]}}, \"transform\": [{\"on\": \"x\", \"regression\": \"y\", \"method\": \"poly\"}]}], \"data\": {\"name\": \"data-1520c29069266cd8deed05a974875d71\"}, \"$schema\": \"https://vega.github.io/schema/vega-lite/v4.8.1.json\", \"datasets\": {\"data-1520c29069266cd8deed05a974875d71\": [{\"x\": 4.25082711218437, \"y\": 17.19508510542581}, {\"x\": 5.220051475150215, \"y\": 16.347207732131892}, {\"x\": 8.867252327711745, \"y\": 22.285058971092102}, {\"x\": 7.996091284134138, \"y\": 12.324326359169614}, {\"x\": 8.460602844343176, \"y\": 23.329608193847413}, {\"x\": 10.279702366877489, \"y\": 10.484761541569231}, {\"x\": 11.420695117308165, \"y\": 3.9556514116337436}, {\"x\": 11.13622035563914, \"y\": 7.681981739806037}, {\"x\": 13.120206257697939, \"y\": 17.832811752509414}, {\"x\": 15.622740862135212, \"y\": 20.910933655759546}, {\"x\": 15.51996592463461, \"y\": 16.443075608650872}, {\"x\": 17.98976463640995, \"y\": 18.574920412629133}, {\"x\": 17.432345521076545, \"y\": 20.833673102465724}, {\"x\": 18.306471363690775, \"y\": 17.656397823167865}, {\"x\": 20.283497699327917, \"y\": 25.167725566330912}, {\"x\": 21.670109589044078, \"y\": 33.95617713571408}, {\"x\": 20.063070435677073, \"y\": 27.66008893727208}, {\"x\": 21.559194535617564, \"y\": 24.412637023371985}, {\"x\": 24.339946716205695, \"y\": 33.777171996898346}, {\"x\": 23.776780979559437, \"y\": 41.807476374390156}]}}, {\"mode\": \"vega-lite\"});\n",
       "</script>"
      ],
      "text/plain": [
       "alt.LayerChart(...)"
      ]
     },
     "execution_count": 12,
     "metadata": {
      "tags": []
     },
     "output_type": "execute_result"
    }
   ],
   "source": [
    "import altair as alt\n",
    "import pandas as pd\n",
    "import numpy as np\n",
    "import seaborn as sns\n",
    "\n",
    "num_points = 20\n",
    "color = [*range(0, 20, 1)] \n",
    "\n",
    "x= 5 + np.arange(num_points) + np.random.randn(num_points)\n",
    "y=10 + np.arange(num_points) + 5 * np.random.randn(num_points)\n",
    "\n",
    "df = pd.DataFrame({'x': x, 'y': y }) #, 'color': color})\n",
    "\n",
    "\n",
    "chart = alt.Chart(df).mark_point().encode(\n",
    "    x='x',\n",
    "    y='y',\n",
    "   # color='color',\n",
    ")\n",
    "\n",
    "chart + chart.transform_regression('x', 'y',method=\"poly\").mark_line().interactive()\n",
    "\n"
   ]
  },
  {
   "cell_type": "code",
   "execution_count": null,
   "metadata": {
    "colab": {
     "base_uri": "https://localhost:8080/",
     "height": 368
    },
    "executionInfo": {
     "elapsed": 4698,
     "status": "ok",
     "timestamp": 1608120526195,
     "user": {
      "displayName": "Matheus lopes",
      "photoUrl": "",
      "userId": "10384866493879646145"
     },
     "user_tz": 180
    },
    "id": "f3cUDDLZKu5q",
    "outputId": "b2a7c700-5818-4bdd-8b0f-427d8fa65fb0"
   },
   "outputs": [
    {
     "data": {
      "text/html": [
       "\n",
       "<div id=\"altair-viz-81f8ca37e1b54939bc787d5917132a71\"></div>\n",
       "<script type=\"text/javascript\">\n",
       "  (function(spec, embedOpt){\n",
       "    let outputDiv = document.currentScript.previousElementSibling;\n",
       "    if (outputDiv.id !== \"altair-viz-81f8ca37e1b54939bc787d5917132a71\") {\n",
       "      outputDiv = document.getElementById(\"altair-viz-81f8ca37e1b54939bc787d5917132a71\");\n",
       "    }\n",
       "    const paths = {\n",
       "      \"vega\": \"https://cdn.jsdelivr.net/npm//vega@5?noext\",\n",
       "      \"vega-lib\": \"https://cdn.jsdelivr.net/npm//vega-lib?noext\",\n",
       "      \"vega-lite\": \"https://cdn.jsdelivr.net/npm//vega-lite@4.8.1?noext\",\n",
       "      \"vega-embed\": \"https://cdn.jsdelivr.net/npm//vega-embed@6?noext\",\n",
       "    };\n",
       "\n",
       "    function loadScript(lib) {\n",
       "      return new Promise(function(resolve, reject) {\n",
       "        var s = document.createElement('script');\n",
       "        s.src = paths[lib];\n",
       "        s.async = true;\n",
       "        s.onload = () => resolve(paths[lib]);\n",
       "        s.onerror = () => reject(`Error loading script: ${paths[lib]}`);\n",
       "        document.getElementsByTagName(\"head\")[0].appendChild(s);\n",
       "      });\n",
       "    }\n",
       "\n",
       "    function showError(err) {\n",
       "      outputDiv.innerHTML = `<div class=\"error\" style=\"color:red;\">${err}</div>`;\n",
       "      throw err;\n",
       "    }\n",
       "\n",
       "    function displayChart(vegaEmbed) {\n",
       "      vegaEmbed(outputDiv, spec, embedOpt)\n",
       "        .catch(err => showError(`Javascript Error: ${err.message}<br>This usually means there's a typo in your chart specification. See the javascript console for the full traceback.`));\n",
       "    }\n",
       "\n",
       "    if(typeof define === \"function\" && define.amd) {\n",
       "      requirejs.config({paths});\n",
       "      require([\"vega-embed\"], displayChart, err => showError(`Error loading script: ${err.message}`));\n",
       "    } else if (typeof vegaEmbed === \"function\") {\n",
       "      displayChart(vegaEmbed);\n",
       "    } else {\n",
       "      loadScript(\"vega\")\n",
       "        .then(() => loadScript(\"vega-lite\"))\n",
       "        .then(() => loadScript(\"vega-embed\"))\n",
       "        .catch(showError)\n",
       "        .then(() => displayChart(vegaEmbed));\n",
       "    }\n",
       "  })({\"config\": {\"view\": {\"continuousWidth\": 400, \"continuousHeight\": 300}}, \"layer\": [{\"mark\": {\"type\": \"circle\", \"color\": \"black\"}, \"encoding\": {\"x\": {\"type\": \"quantitative\", \"field\": \"x\"}, \"y\": {\"type\": \"quantitative\", \"field\": \"y\"}}, \"selection\": {\"selector003\": {\"type\": \"interval\", \"bind\": \"scales\", \"encodings\": [\"x\", \"y\"]}}}, {\"mark\": \"line\", \"encoding\": {\"color\": {\"type\": \"nominal\", \"field\": \"degree\"}, \"x\": {\"type\": \"quantitative\", \"field\": \"x\"}, \"y\": {\"type\": \"quantitative\", \"field\": \"y\"}}, \"transform\": [{\"on\": \"x\", \"regression\": \"y\", \"method\": \"poly\", \"order\": 1, \"as\": [\"x\", \"1\"]}, {\"fold\": [\"1\"], \"as\": [\"degree\", \"y\"]}]}, {\"mark\": \"line\", \"encoding\": {\"color\": {\"type\": \"nominal\", \"field\": \"degree\"}, \"x\": {\"type\": \"quantitative\", \"field\": \"x\"}, \"y\": {\"type\": \"quantitative\", \"field\": \"y\"}}, \"transform\": [{\"on\": \"x\", \"regression\": \"y\", \"method\": \"poly\", \"order\": 3, \"as\": [\"x\", \"3\"]}, {\"fold\": [\"3\"], \"as\": [\"degree\", \"y\"]}]}, {\"mark\": \"line\", \"encoding\": {\"color\": {\"type\": \"nominal\", \"field\": \"degree\"}, \"x\": {\"type\": \"quantitative\", \"field\": \"x\"}, \"y\": {\"type\": \"quantitative\", \"field\": \"y\"}}, \"transform\": [{\"on\": \"x\", \"regression\": \"y\", \"method\": \"poly\", \"order\": 4, \"as\": [\"x\", \"4\"]}, {\"fold\": [\"4\"], \"as\": [\"degree\", \"y\"]}]}], \"data\": {\"name\": \"data-cda2f620b35b7a46aa918c1c275c7ffc\"}, \"$schema\": \"https://vega.github.io/schema/vega-lite/v4.8.1.json\", \"datasets\": {\"data-cda2f620b35b7a46aa918c1c275c7ffc\": [{\"x\": 6.094808439231198, \"y\": 16.51099328399476}, {\"x\": 4.564169419377736, \"y\": 6.558735302289591}, {\"x\": 7.684470120616901, \"y\": 11.6022308717127}, {\"x\": 6.860773350833307, \"y\": 14.810589093974237}, {\"x\": 8.441172443348224, \"y\": 19.120868998113338}, {\"x\": 10.017166489024936, \"y\": 13.956523464008493}, {\"x\": 12.177072039368895, \"y\": 2.54041147301605}, {\"x\": 13.497115075947319, \"y\": 16.38107761622142}, {\"x\": 14.312131345045216, \"y\": 17.20556607834529}, {\"x\": 13.607236810093763, \"y\": 19.608090492883573}, {\"x\": 15.997782326591844, \"y\": 19.8980929810976}, {\"x\": 15.867397062134907, \"y\": 20.108852096658016}, {\"x\": 16.37104537584673, \"y\": 16.49935941222571}, {\"x\": 18.700509208289024, \"y\": 24.434610671882318}, {\"x\": 18.94557716182783, \"y\": 20.612993786894613}, {\"x\": 20.21509118917627, \"y\": 29.204987298558486}, {\"x\": 20.62339705172064, \"y\": 29.425691955065687}, {\"x\": 22.481284731790307, \"y\": 18.28864405134298}, {\"x\": 22.757844928374304, \"y\": 36.242855224913875}, {\"x\": 23.17194963495773, \"y\": 30.62696560175108}]}}, {\"mode\": \"vega-lite\"});\n",
       "</script>"
      ],
      "text/plain": [
       "alt.LayerChart(...)"
      ]
     },
     "execution_count": 13,
     "metadata": {
      "tags": []
     },
     "output_type": "execute_result"
    }
   ],
   "source": [
    "# Generate some random data\n",
    "#rng = np.random.RandomState(1)\n",
    "#x = rng.rand(40) ** 2\n",
    "#y = 10 - 1.0 / (x + 0.1) + rng.randn(40)\n",
    "\n",
    "x= 5 + np.arange(num_points) + np.random.randn(num_points)\n",
    "y=10 + np.arange(num_points) + 5 * np.random.randn(num_points)\n",
    "\n",
    "source = pd.DataFrame({\"x\": x, \"y\": y})\n",
    "\n",
    "# Define the degree of the polynomial fits\n",
    "degree_list = [1, 3, 4]\n",
    "\n",
    "base = alt.Chart(source).mark_circle(color=\"black\").encode(\n",
    "        alt.X(\"x\"), alt.Y(\"y\")\n",
    ")\n",
    "\n",
    "polynomial_fit = [\n",
    "    base.transform_regression(\n",
    "        \"x\", \"y\", method=\"poly\", order=order, as_=[\"x\", str(order)]\n",
    "    )\n",
    "    .mark_line()\n",
    "    .transform_fold([str(order)], as_=[\"degree\", \"y\"])\n",
    "    .encode(alt.Color(\"degree:N\"))\n",
    "    for order in degree_list\n",
    "]\n",
    "\n",
    "alt.layer(base, *polynomial_fit).interactive()"
   ]
  },
  {
   "cell_type": "markdown",
   "metadata": {
    "id": "vcRcq7rW_i5U"
   },
   "source": [
    "#Squared error of regression line\n",
    "\n",
    "Lets say we have <i>n</i> points\n",
    "\n"
   ]
  },
  {
   "cell_type": "code",
   "execution_count": null,
   "metadata": {
    "colab": {
     "base_uri": "https://localhost:8080/",
     "height": 387
    },
    "executionInfo": {
     "elapsed": 5622,
     "status": "ok",
     "timestamp": 1608120527121,
     "user": {
      "displayName": "Matheus lopes",
      "photoUrl": "",
      "userId": "10384866493879646145"
     },
     "user_tz": 180
    },
    "id": "wWgsxK_Vkf-t",
    "outputId": "e5606114-d8a3-4bc0-e306-694bb3caa57b"
   },
   "outputs": [
    {
     "name": "stderr",
     "output_type": "stream",
     "text": [
      "/usr/local/lib/python3.6/dist-packages/seaborn/_decorators.py:43: FutureWarning: Pass the following variables as keyword args: x, y. From version 0.12, the only valid positional argument will be `data`, and passing other arguments without an explicit keyword will result in an error or misinterpretation.\n",
      "  FutureWarning\n"
     ]
    },
    {
     "data": {
      "text/plain": [
       "<matplotlib.axes._subplots.AxesSubplot at 0x7f1182e129e8>"
      ]
     },
     "execution_count": 14,
     "metadata": {
      "tags": []
     },
     "output_type": "execute_result"
    },
    {
     "data": {
      "image/png": "[encoded data removed]",
      "text/plain": [
       "<Figure size 720x360 with 1 Axes>"
      ]
     },
     "metadata": {
      "tags": []
     },
     "output_type": "display_data"
    }
   ],
   "source": [
    "import matplotlib.pyplot as plt\n",
    "import numpy as np\n",
    "import seaborn as sns\n",
    "\n",
    "x = 5 + np.arange(num_points) + np.random.randn(num_points)\n",
    "y = 10 + np.arange(num_points) + 5 * np.random.randn(num_points)\n",
    "\n",
    "sns.regplot(x, y)"
   ]
  },
  {
   "cell_type": "markdown",
   "metadata": {
    "id": "tHGce06MJUKD"
   },
   "source": [
    "Auto correlation https://www.youtube.com/watch?v=ZjaBn93YPWo&ab_channel=BrandonRohrer"
   ]
  },
  {
   "cell_type": "markdown",
   "metadata": {
    "id": "zKwNDq6m44LT"
   },
   "source": [
    "# MatLab Code and Expections - (1th Assingment ML)\n",
    "\n",
    "Here the objective of linear regression is to minimize the cost function.\n",
    "\n",
    "First intall MatLab and afterward\n",
    "addpath(genpath(FolderName));\n",
    "will add all subfolders under FolderName to MATLAB's Path.\n",
    "\n",
    "### The cost function \n",
    "<center>\n",
    "\n",
    "\n",
    "$\n",
    "J(\\theta)  =  \\frac{1}{2m}  \\sum_{i=1}^m { (h_{\\theta ;} ( x^{(i)}) - y^{(i)} ) }^2\n",
    "$\n",
    "\n",
    "where the hypothesis $h_{\\theta}(x)$ is given by the linear model\n",
    "\n",
    "$h_{\\theta } \\left(x\\right)=\\theta^T x=\\theta_0 +\\theta_1 x_1$\n",
    "\n",
    "</center>"
   ]
  },
  {
   "cell_type": "code",
   "execution_count": null,
   "metadata": {
    "id": "J2xfXFbq7oHz"
   },
   "outputs": [],
   "source": [
    "gradient_descent(x,y)"
   ]
  },
  {
   "cell_type": "code",
   "execution_count": null,
   "metadata": {
    "id": "10JFZ_0yAki5"
   },
   "outputs": [],
   "source": [
    "base = alt.Chart(df).properties(width=555)\n",
    "chart = base.mark_point(filled=True, color='black').encode(  alt.X('x',scale=alt.Scale(domain=(0, df[\"x\"].max()+1))), y='y')\n",
    "rule = base.mark_rule( color='red', size=1).encode( y='y' )\n",
    "chart.interactive()"
   ]
  },
  {
   "cell_type": "markdown",
   "metadata": {
    "id": "smgPqXJ0yJ0I"
   },
   "source": [
    "#Colab Tricks"
   ]
  },
  {
   "cell_type": "code",
   "execution_count": null,
   "metadata": {
    "id": "2D-dj8hA1JCg"
   },
   "outputs": [],
   "source": [
    "# Activate dataframe extention\n",
    "#%load_ext google.colab.data_table \n",
    "#%unload_ext google.colab.data_table"
   ]
  },
  {
   "cell_type": "code",
   "execution_count": null,
   "metadata": {
    "id": "iJewKxRi1fAZ"
   },
   "outputs": [],
   "source": [
    "# set Graph style\n",
    "plt.style.available[:5]\n",
    "#sns.set()\n",
    "plt.style.use('fivethirtyeight')"
   ]
  },
  {
   "cell_type": "code",
   "execution_count": null,
   "metadata": {
    "colab": {
     "base_uri": "https://localhost:8080/",
     "height": 391
    },
    "executionInfo": {
     "elapsed": 7217,
     "status": "ok",
     "timestamp": 1608120528777,
     "user": {
      "displayName": "Matheus lopes",
      "photoUrl": "",
      "userId": "10384866493879646145"
     },
     "user_tz": 180
    },
    "id": "KvEbkPJn8klL",
    "outputId": "2b0ce90a-b23c-4940-88c1-b8f6c01d0191"
   },
   "outputs": [
    {
     "data": {
      "image/png": "[encoded data removed]",
      "text/plain": [
       "<Figure size 720x360 with 1 Axes>"
      ]
     },
     "metadata": {
      "tags": []
     },
     "output_type": "display_data"
    }
   ],
   "source": [
    "from matplotlib import pyplot\n",
    "from mpl_toolkits.mplot3d import Axes3D\n",
    "import random\n",
    "\n",
    "\n",
    "fig = pyplot.figure()\n",
    "ax = Axes3D(fig)\n",
    "\n",
    "num_points = 100\n",
    "#  but twiddled even more randomly\n",
    "x = np.arange(num_points) + np.random.randn(num_points)\n",
    "y = 100 + np.arange(num_points) + 5 * np.random.randn(num_points)\n",
    "z = 50 + np.arange(num_points) + 50 * np.random.randn(num_points)\n",
    "\n",
    "\n",
    "ax.scatter(x, y, z)\n",
    "pyplot.show()\n"
   ]
  },
  {
   "cell_type": "code",
   "execution_count": null,
   "metadata": {
    "colab": {
     "base_uri": "https://localhost:8080/",
     "height": 204
    },
    "executionInfo": {
     "elapsed": 3837,
     "status": "ok",
     "timestamp": 1608120525300,
     "user": {
      "displayName": "Matheus lopes",
      "photoUrl": "",
      "userId": "10384866493879646145"
     },
     "user_tz": 180
    },
    "id": "C2SLcIzDYRvB",
    "outputId": "832804f4-56ec-4963-a143-719b17ef97c5"
   },
   "outputs": [
    {
     "data": {
      "text/html": [
       "<div>\n",
       "<style scoped>\n",
       "    .dataframe tbody tr th:only-of-type {\n",
       "        vertical-align: middle;\n",
       "    }\n",
       "\n",
       "    .dataframe tbody tr th {\n",
       "        vertical-align: top;\n",
       "    }\n",
       "\n",
       "    .dataframe thead th {\n",
       "        text-align: right;\n",
       "    }\n",
       "</style>\n",
       "<table border=\"1\" class=\"dataframe\">\n",
       "  <thead>\n",
       "    <tr style=\"text-align: right;\">\n",
       "      <th></th>\n",
       "      <th>Gender</th>\n",
       "      <th>Height</th>\n",
       "      <th>Weight</th>\n",
       "    </tr>\n",
       "  </thead>\n",
       "  <tbody>\n",
       "    <tr>\n",
       "      <th>994</th>\n",
       "      <td>Male</td>\n",
       "      <td>78.095867</td>\n",
       "      <td>255.690835</td>\n",
       "    </tr>\n",
       "    <tr>\n",
       "      <th>1317</th>\n",
       "      <td>Male</td>\n",
       "      <td>78.462053</td>\n",
       "      <td>227.342565</td>\n",
       "    </tr>\n",
       "    <tr>\n",
       "      <th>2014</th>\n",
       "      <td>Male</td>\n",
       "      <td>78.998742</td>\n",
       "      <td>269.989699</td>\n",
       "    </tr>\n",
       "    <tr>\n",
       "      <th>3285</th>\n",
       "      <td>Male</td>\n",
       "      <td>78.528210</td>\n",
       "      <td>253.889004</td>\n",
       "    </tr>\n",
       "    <tr>\n",
       "      <th>3757</th>\n",
       "      <td>Male</td>\n",
       "      <td>78.621374</td>\n",
       "      <td>245.733783</td>\n",
       "    </tr>\n",
       "  </tbody>\n",
       "</table>\n",
       "</div>"
      ],
      "text/plain": [
       "     Gender     Height      Weight\n",
       "994    Male  78.095867  255.690835\n",
       "1317   Male  78.462053  227.342565\n",
       "2014   Male  78.998742  269.989699\n",
       "3285   Male  78.528210  253.889004\n",
       "3757   Male  78.621374  245.733783"
      ]
     },
     "execution_count": 9,
     "metadata": {
      "tags": []
     },
     "output_type": "execute_result"
    }
   ],
   "source": [
    "df = pd.read_csv(\"https://raw.githubusercontent.com/Baakchsu/LinearRegression/master/weight-height.csv\")\n",
    "\n",
    "df[df['Height']>77.847017]\n"
   ]
  },
  {
   "cell_type": "markdown",
   "metadata": {
    "id": "kz-VEybVus-7"
   },
   "source": [
    "# Links to see\n",
    "\n",
    "https://www.khanacademy.org/math/linear-algebra/vectors-and-spaces/linear-combinations/v/linear-combinations-and-span\n",
    "\n",
    "https://www.khanacademy.org/math/statistics-probability/describing-relationships-quantitative-data/more-on-regression/v/squared-error-of-regression-line\n",
    "\n",
    "https://www.geeksforgeeks.org/python-mean-squared-error/\n",
    "\n",
    "https://www.geeksforgeeks.org/perpendicular-distance-between-a-point-and-a-line-in-2-d/\n",
    "\n",
    "http://www.mensuracaoflorestal.com.br/regressao-linear-s51\n",
    "\n",
    "http://www.mensuracaoflorestal.com.br/regressao-linear-s51\n",
    "\n",
    "https://www.youtube.com/watch?v=w2FKXOa0HGA&ab_channel=statisticsfun\n",
    "\n",
    "http://www.comp.ita.br/~forster/CC-226/03_regressao.pdf\n",
    "\n",
    "https://www.youtube.com/watch?v=4K27HhxwPaY&ab_channel=BenLambert\n",
    "\n",
    "https://scikit-learn.org/stable/modules/linear_model.html\n",
    "\n",
    "https://scikit-learn.org/stable/modules/linear_model.html\n",
    "\n",
    "https://scikit-learn.org/stable/auto_examples/linear_model/plot_ols.html#sphx-glr-auto-examples-linear-model-plot-ols-py\n",
    "\n",
    "https://condor.depaul.edu/sjost/it223/documents/regress.htm\n",
    "\n",
    "http://onlinestatbook.com/2/regression/intro.html\n",
    "\n",
    "https://scikit-learn.org/stable/auto_examples/linear_model/plot_ols_3d.html#sphx-glr-auto-examples-linear-model-plot-ols-3d-py\n",
    "\n",
    "https://www.youtube.com/watch?v=8jazNUpO3lQ&ab_channel=codebasics\n",
    "\n",
    "https://www.youtube.com/watch?v=nk2CQITm_eo&ab_channel=StatQuestwithJoshStarmer\n",
    "\n",
    "https://www.youtube.com/watch?v=P8hT5nDai6A&ab_channel=TheOrganicChemistryTutor\n",
    "\n",
    "https://www.youtube.com/watch?v=CtKeHnfK5uA&ab_channel=AugmentedStartups\n",
    "\n",
    "https://www.youtube.com/watch?v=KsVBBJRb9TE&ab_channel=jbstatistics\n",
    "\n",
    "https://www.youtube.com/watch?v=WWqE7YHR4Jc&ab_channel=CrashCourse\n",
    "\n",
    "https://www.youtube.com/watch?v=owI7zxCqNY0&ab_channel=dataminingincae\n",
    "\n",
    "https://www.youtube.com/watch?v=VvlqA-iO2HA&ab_channel=zedstatistics\n",
    "\n",
    "https://www.youtube.com/watch?v=GB9ByFAIAH4&ab_channel=KeithGalli\n",
    "\n",
    "https://github.com/codebasics/py/tree/master/ML/1_linear_reg\n",
    "\n",
    "https://github.com/wang-boyu/coursera-machine-learning\n",
    "\n",
    "https://www.intmath.com/plane-analytic-geometry/perpendicular-distance-point-line.php\n",
    "\n",
    "https://www.intmath.com/plane-analytic-geometry/perpendicular-distance-point-line.php\n",
    "\n",
    "https://mubaris.com/posts/linear-regression/"
   ]
  },
  {
   "cell_type": "markdown",
   "metadata": {
    "id": "HRjK5QQfZori"
   },
   "source": [
    "# Machine Leaning Engineer Google certificate \n",
    "\n",
    "- [Source](https://cloud.google.com/training/machinelearning-ai)\n",
    "\n",
    "- [II Souce](https://cloud.google.com/blog/topics/training-certifications/google-cloud-certification-training-on-coursera)\n",
    "\n",
    "- https://towardsdatascience.com/20-days-to-google-cloud-professional-machine-learning-engineer-exam-beta-b48909499942\n",
    "\n",
    "- [Beste Source](https://medium.com/@jmoniz0/my-notes-on-google-cloud-machine-learning-engineer-exam-280eab80f8ab)\n",
    "\n",
    "- https://developers.google.com/machine-learning/crash-course/prereqs-and-prework?authuser=0\n",
    "\n",
    "- https://deploy.live/blog/google-cloud-professional-machine-learning-engineer-certification-preparation-guide/\n",
    "\n",
    "- https://towardsdatascience.com/11-most-common-machine-learning-algorithms-explained-in-a-nutshell-cc6e98df93be\n",
    "\n",
    "- https://lakshmanok.medium.com/machine-learning-design-patterns-58e6ecb013d7\n",
    "\n",
    "- https://www.infoq.com/news/2020/08/google-machine-learning-cert/\n",
    "\n",
    "- https://cloud.google.com/certification/machine-learning-engineer\n",
    "\n",
    "- https://www.crn.com/news/cloud/google-cloud-debuts-professional-machine-learning-engineer-certification?itc=refresh\n",
    "\n",
    "---\n",
    "\n"
   ]
  },
  {
   "cell_type": "markdown",
   "metadata": {
    "id": "h1PTDWCnaSi0"
   },
   "source": []
  },
  {
   "cell_type": "code",
   "execution_count": null,
   "metadata": {
    "id": "dsBnSIsBZoOW"
   },
   "outputs": [],
   "source": []
  }
 ],
 "metadata": {
  "colab": {
   "authorship_tag": "ABX9TyOxx6N1gcy1sOAS0aiuhykF",
   "collapsed_sections": [],
   "mount_file_id": "1YthhZ3k4BPlccKK5qkjm52Hk5T0cmaoe",
   "name": "Data Analysis with Python.ipynb",
   "provenance": [],
   "toc_visible": true
  },
  "kernelspec": {
   "display_name": "Python 3",
   "language": "python",
   "name": "python3"
  },
  "language_info": {
   "codemirror_mode": {
    "name": "ipython",
    "version": 3
   },
   "file_extension": ".py",
   "mimetype": "text/x-python",
   "name": "python",
   "nbconvert_exporter": "python",
   "pygments_lexer": "ipython3",
   "version": "3.8.5"
  }
 },
 "nbformat": 4,
 "nbformat_minor": 1
}
