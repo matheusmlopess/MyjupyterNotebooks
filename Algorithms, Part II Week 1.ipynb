{
 "cells": [
  {
   "cell_type": "markdown",
   "metadata": {
    "id": "XqGAX9jKXcXJ"
   },
   "source": [
    "Vest resouces n Graphs - [Link](https://towardsdatascience.com/graph-theory-and-deep-learning-know-hows-6556b0e9891b)\n",
    "Anothe resource - [Link](https://flawnsontong.medium.com/what-is-geometric-deep-learning-b2adb662d91d)"
   ]
  },
  {
   "cell_type": "markdown",
   "metadata": {
    "id": "brNMCIfHa09a"
   },
   "source": [
    "#Lecture 1:\n",
    "\n",
    " Undirected Graphs. We define an undirected graph API and consider the adjacency-matrix and adjacency-lists representations. We introduce two classic algorithms for searching a graph—depth-first search and breadth-first search. We also consider the problem of computing connected components and conclude with related problems and applications.\n",
    "\n"
   ]
  },
  {
   "cell_type": "markdown",
   "metadata": {
    "id": "GK0kKeTwdgnw"
   },
   "source": [
    "##Undirected Graphs \n",
    "\n",
    "> <b>Graph terminology</b>\n",
    "\n",
    "- We have a vertex which is a black dot\n",
    "\n",
    "- in this graph and an edge which is black line connecting two vertices. And then a few more concepts that are important in many applications:\n",
    "\n",
    "  - Path. Sequence of vertices connected by edges.\n",
    "  - Cycle. Path whose first and last vertices are the same.\n",
    "  - Two vertices are  **connected** if there is a path between them.\n",
    "\n",
    "  ![teste](https://drive.google.com/uc?export=view&id=1OjQjjQOYD2AYx8W6oHrrM3TDcZcpYCCT)\n",
    "  ![teste](https://drive.google.com/uc?export=view&id=1OjQjjQOYD2AYx8W6oHrrM3TDcZcpYCCT)\n",
    "\n",
    "\n",
    "https://drive.google.com/file/d/1EXQRwpV5bALYMHZZa5V9mIVxoxeQyg06/view?usp=sharing\n",
    "\n"
   ]
  },
  {
   "cell_type": "markdown",
   "metadata": {
    "id": "THgcGO0_s7zs"
   },
   "source": [
    "\n",
    "> Number one. Graphs are very general model, and number two, graphs can be huge. Graph is really an interesting and broadly useful abstraction to try and understand that's so simple to describe, but leads to quite complex and difficult to understand structures.\n",
    "\n",
    "![teste](https://drive.google.com/uc?export=view&id=1wGTawMZmIP1vxmSf5BmLLLR8_lcD3QRS)\n"
   ]
  },
  {
   "cell_type": "markdown",
   "metadata": {
    "id": "VldFVE9CGKW1"
   },
   "source": [
    "      One of the algorithms that we're going to look at today is one for \n",
    "      identifying connected components in, in a graph"
   ]
  },
  {
   "cell_type": "markdown",
   "metadata": {
    "id": "Q4TGJrwDfkHX"
   },
   "source": [
    "\n",
    "So that's just one example. Here's some examples of problems that might arise in graph processing that are easily understood just given these basic definitions.\n",
    "\n",
    "\n",
    "- Cycle. Is there a cycle in the graph?\n",
    "\n",
    "- Euler tour. Is there a cycle that uses each edge exactly once?\n",
    "\n",
    "- Hamilton tour. Is there a cycle that uses each vertex exactly once.\n",
    "\n",
    "- Connectivity. Is there a way to connect all of the vertices?\n",
    "\n",
    "- MST. What is the best way to connect all of the vertices?\n",
    "\n",
    "- Biconnectivity. Is there a vertex whose removal disconnects the graph?\n",
    "\n",
    "- Planarity. Can you draw the graph in the plane with no crossing edges\n",
    "Graph isomorphism. Do two adjacency lists represent the same graph?\n",
    "\n",
    "Challenge. Which of these problems are easy? difficult? intractable?fficult? intractable?\n",
    "\n",
    "---\n"
   ]
  },
  {
   "cell_type": "markdown",
   "metadata": {
    "id": "bA5dtBuSHFS1"
   },
   "source": [
    "## Graph API\n",
    "\n",
    "Task: develop an API to cover our representation of the graph and provide simple set of methods for clients to call to process the graph. \n",
    "\n",
    "### Graph drawing. \n",
    "\n",
    "Provides intuition about the structure of the graph\n",
    "\n",
    "> Vertex representation.\n",
    "\n",
    "・This lecture: use integers between 0 and V – 1.\n",
    "・Applications: convert between names and integers with symbol table.\n",
    "\n",
    "\n",
    "\n"
   ]
  },
  {
   "cell_type": "markdown",
   "metadata": {
    "id": "IRj8KZOPPDsz"
   },
   "source": []
  },
  {
   "cell_type": "markdown",
   "metadata": {
    "id": "_CxiMgzmdVGW"
   },
   "source": [
    "#Lecture 2: \n",
    "\n",
    "Directed Graphs. In this lecture we study directed graphs. We begin with depth-first search and breadth-first search in digraphs and describe applications ranging from garbage collection to web crawling. Next, we introduce a depth-first search based algorithm for computing the topological order of an acyclic digraph. Finally, we implement the Kosaraju-Sharir algorithm for computing the strong components of a digraph.\n"
   ]
  },
  {
   "cell_type": "markdown",
   "metadata": {
    "id": "HXA7GLFVUXf5"
   },
   "source": [
    "## Introduction to Graphs\n",
    "\n",
    "In a general graph theory and graph algorithms is a very challenging branch of computer science and discreet math that we're just introducing now. \n",
    "\n",
    "\n"
   ]
  },
  {
   "cell_type": "markdown",
   "metadata": {
    "id": "6VwZIFDrdYYw"
   },
   "source": [
    "\n",
    "#To Do:\n",
    "Exercises. Drill exercises on the lecture material.\n",
    "Programming Assignment: WordNet. Determine the semantic relatedness of two nouns using the WordNet lexicon.\n",
    "Job Interview Questions. Algorithmic interview questions based on the lecture material.\n",
    "Suggested Readings. Section 4.1 and 4.2 in Algorithms, 4th edition."
   ]
  },
  {
   "cell_type": "code",
   "execution_count": null,
   "metadata": {
    "id": "i6jX6XX3Sb6_"
   },
   "outputs": [],
   "source": []
  },
  {
   "cell_type": "markdown",
   "metadata": {
    "id": "5ZsWwJZdC03R"
   },
   "source": [
    "##Exercices\n",
    "\n",
    "\n",
    "[Link to fit interview quetions](https://math.stackexchange.com/questions/2461253/a-connected-graph-has-an-euler-circuit-if-and-only-if-every-vertex-has-even-degr)\n",
    "\n",
    "\n",
    "https://math.stackexchange.com/questions/2461253/a-connected-graph-has-an-euler-circuit-if-and-only-if-every-vertex-has-even-degr\n",
    "\n",
    "Eccentricity, Center, Radius, Diameter\n",
    "\n",
    "Center of a graph\n",
    "\n",
    "https://codeforces.com/blog/entry/17974\n",
    "\n",
    "http://math.fau.edu/locke/Center.htm\n",
    "\n",
    "\n",
    "https://www.geeksforgeeks.org/diameter-tree-using-dfs/\n",
    "\n",
    "https://stackoverflow.com/questions/5278580/non-recursive-depth-first-search-algorithm\n",
    "\n",
    "\n",
    "https://en.wikipedia.org/wiki/Stack_(abstract_data_type)\n",
    "\n",
    "https://www.techiedelight.com/graphs-interview-questions/\n",
    "\n",
    "\n",
    "https://www.techiedelight.com/terminology-and-representations-of-graphs/\n",
    "\n",
    "https://www.techiedelight.com/breadth-first-search/\n",
    "\n",
    "https://math.stackexchange.com/questions/671624/proving-that-a-euler-circuit-has-a-even-degree-for-every-vertex\n",
    "\n",
    "https://zike.gitbook.io/princeton-algorithms-notebook-python/algorithm-i-week1"
   ]
  },
  {
   "cell_type": "code",
   "execution_count": null,
   "metadata": {
    "id": "O8dH0PBKX6LZ"
   },
   "outputs": [],
   "source": []
  }
 ],
 "metadata": {
  "colab": {
   "authorship_tag": "ABX9TyM54cURArl1UrVpos4ynY4G",
   "collapsed_sections": [],
   "mount_file_id": "1CkOV4woFEG94BZPF45mIJPwDYsTIBpaq",
   "name": "Algorithms, Part II Week 1.ipynb",
   "provenance": []
  },
  "kernelspec": {
   "display_name": "Python 3",
   "language": "python",
   "name": "python3"
  },
  "language_info": {
   "codemirror_mode": {
    "name": "ipython",
    "version": 3
   },
   "file_extension": ".py",
   "mimetype": "text/x-python",
   "name": "python",
   "nbconvert_exporter": "python",
   "pygments_lexer": "ipython3",
   "version": "3.8.5"
  }
 },
 "nbformat": 4,
 "nbformat_minor": 1
}
