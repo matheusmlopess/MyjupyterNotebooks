{
 "cells": [
  {
   "cell_type": "markdown",
   "metadata": {
    "id": "-NJHfOfT8nUt"
   },
   "source": [
    "# Run Google Dive and my modules inside colabs\n",
    "\n",
    "```python\n",
    "from google.colab import drive \n",
    "drive.mount(\"/content/drive\")\n",
    "%run \"/content/drive/MyDrive/functions.ipynb\"\n",
    "```"
   ]
  },
  {
   "cell_type": "markdown",
   "metadata": {
    "id": "-2MnK89QBhSG"
   },
   "source": [
    "# Markup Tricks\n",
    "\n",
    "\n"
   ]
  },
  {
   "cell_type": "code",
   "execution_count": 1,
   "metadata": {
    "colab": {
     "base_uri": "https://localhost:8080/",
     "height": 37
    },
    "executionInfo": {
     "elapsed": 755,
     "status": "ok",
     "timestamp": 1606502739691,
     "user": {
      "displayName": "Matheus lopes",
      "photoUrl": "",
      "userId": "10384866493879646145"
     },
     "user_tz": 180
    },
    "id": "LtoC4LnUBkvH",
    "outputId": "b772c2fd-ff50-45f4-aa21-c2254214ba7e"
   },
   "outputs": [
    {
     "data": {
      "text/html": [
       "<marquee style='width: 30%; color: blue;'><b>Whee!</b></marquee>"
      ],
      "text/plain": [
       "<IPython.core.display.HTML object>"
      ]
     },
     "metadata": {
      "tags": []
     },
     "output_type": "display_data"
    }
   ],
   "source": [
    "%%html\n",
    "<marquee style='width: 30%; color: blue;'><b>Whee!</b></marquee>"
   ]
  },
  {
   "cell_type": "markdown",
   "metadata": {
    "id": "SncQcH5PlQKx"
   },
   "source": [
    "#Creating Modules"
   ]
  },
  {
   "cell_type": "code",
   "execution_count": null,
   "metadata": {
    "id": "z1GpB50lfP1J"
   },
   "outputs": [],
   "source": [
    "#Wrintig files/ other programs\n",
    "!mkdir -p local_modules/demo_module # -p, --parents\tno error if existing, make parent directories as needed\n",
    "                                    # -v, --verbose\tprint a message for each created directory"
   ]
  },
  {
   "cell_type": "code",
   "execution_count": null,
   "metadata": {
    "colab": {
     "base_uri": "https://localhost:8080/"
    },
    "executionInfo": {
     "elapsed": 616,
     "status": "ok",
     "timestamp": 1606410893234,
     "user": {
      "displayName": "Matheus lopes",
      "photoUrl": "",
      "userId": "10384866493879646145"
     },
     "user_tz": 180
    },
    "id": "o6TyQJ7qiwkL",
    "outputId": "1d799da4-f6ce-45eb-e2a5-d37a81bd9739"
   },
   "outputs": [
    {
     "name": "stdout",
     "output_type": "stream",
     "text": [
      "Overwriting local_modules/demo_module/__init__.py\n"
     ]
    }
   ],
   "source": [
    "%%writefile local_modules/demo_module/__init__.py\n",
    "# Save a module init file that contains a custom function that we'll use\n",
    "# to verify that import works.\n",
    "\n",
    "def SomeFunction():\n",
    "  return 'Function from a local module'"
   ]
  },
  {
   "cell_type": "code",
   "execution_count": null,
   "metadata": {
    "id": "LGmJ7TKnjPT6"
   },
   "outputs": [],
   "source": [
    "# Add the local_modules directory to the set of paths\n",
    "# Python uses to look for imports.\n",
    "import sys\n",
    "sys.path.append('local_modules')\n"
   ]
  },
  {
   "cell_type": "markdown",
   "metadata": {
    "id": "9wquR171fTD4"
   },
   "source": [
    "https://www.kdnuggets.com/2019/01/more-google-colab-environment-management-tips.html "
   ]
  },
  {
   "cell_type": "code",
   "execution_count": null,
   "metadata": {
    "colab": {
     "base_uri": "https://localhost:8080/",
     "height": 35
    },
    "executionInfo": {
     "elapsed": 727,
     "status": "ok",
     "timestamp": 1606410921420,
     "user": {
      "displayName": "Matheus lopes",
      "photoUrl": "",
      "userId": "10384866493879646145"
     },
     "user_tz": 180
    },
    "id": "ZZ9peAQujVk0",
    "outputId": "a5261fe9-bbe8-4781-8807-1a1530bc7a00"
   },
   "outputs": [
    {
     "data": {
      "application/vnd.google.colaboratory.intrinsic+json": {
       "type": "string"
      },
      "text/plain": [
       "'Function from a local module'"
      ]
     },
     "execution_count": 10,
     "metadata": {
      "tags": []
     },
     "output_type": "execute_result"
    }
   ],
   "source": [
    "# Now we can import our new module and call our function.\n",
    "import demo_module\n",
    "demo_module.SomeFunction()"
   ]
  },
  {
   "cell_type": "markdown",
   "metadata": {
    "id": "muPlgZ-MlYUt"
   },
   "source": [
    "#Java Compiler/Kernel"
   ]
  },
  {
   "cell_type": "markdown",
   "metadata": {
    "id": "yIJwGv5llce3"
   },
   "source": [
    "Prepare Java Kernel for Google Colab - [Git repo](https://gist.github.com/tueda/a200b3f747d0fc864be8b4dd09be5a1e)\n",
    "~~~~\n",
    "This notebook is a template to use Java in Google Colaboratory (inspired by Google Colab Javascript\n",
    "QuickStart). It uses IJava as the Jupyter Kernel.\n",
    "~~~~"
   ]
  },
  {
   "cell_type": "markdown",
   "metadata": {
    "id": "djDhHBmkld-h"
   },
   "source": [
    ">``` pyton\n",
    "!apt update -q\n",
    "!apt-get install -q openjdk-11-jdk-headless\n",
    "!curl -L https://github.com/SpencerPark/IJava/releases/download/v1.3.0/ijava-1.3.0.zip -o ijava-kernel.zip\n",
    "!unzip -q ijava-kernel.zip -d ijava-kernel && cd ijava-kernel && python3 install.py --sys-prefix\n",
    "!jupyter kernelspec list\n",
    "```"
   ]
  },
  {
   "cell_type": "markdown",
   "metadata": {
    "id": "LSjNatODleZP"
   },
   "source": []
  }
 ],
 "metadata": {
  "colab": {
   "authorship_tag": "ABX9TyMK2T19LEWxgN9YEXFsIn+l",
   "collapsed_sections": [],
   "name": "Colab_Triks.ipynb",
   "provenance": [],
   "toc_visible": true
  },
  "kernelspec": {
   "display_name": "Python 3",
   "language": "python",
   "name": "python3"
  },
  "language_info": {
   "codemirror_mode": {
    "name": "ipython",
    "version": 3
   },
   "file_extension": ".py",
   "mimetype": "text/x-python",
   "name": "python",
   "nbconvert_exporter": "python",
   "pygments_lexer": "ipython3",
   "version": "3.8.5"
  }
 },
 "nbformat": 4,
 "nbformat_minor": 1
}
