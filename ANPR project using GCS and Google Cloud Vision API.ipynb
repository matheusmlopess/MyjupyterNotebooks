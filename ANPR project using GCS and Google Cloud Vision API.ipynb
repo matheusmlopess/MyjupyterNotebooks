{
 "cells": [
  {
   "cell_type": "markdown",
   "metadata": {
    "id": "S5EgSNLvXywU"
   },
   "source": [
    "# Google Cloud Platform - Using Machine Learning APIs  ).\n",
    "\n",
    " - authenticate against the Google Cloud APIs.\n",
    "\n",
    "#### Getting a Google API Credential.\n",
    "\n",
    "<a href=\"http://console.cloud.google.com/apis\"> API console\n",
    "\n",
    "- </a>, choose \"Credentials\" on the left-hand menu.  \n",
    "- Choose \"Create Credentials\" and generate an API key for your application.\n",
    "\n",
    "- restrict it by IP address to prevent abuse(later)\n"
   ]
  },
  {
   "cell_type": "code",
   "execution_count": null,
   "metadata": {},
   "outputs": [],
   "source": [
    "import getpass\n",
    "\n",
    "APIKEY = getpass.getpass()"
   ]
  },
  {
   "cell_type": "code",
   "execution_count": null,
   "metadata": {
    "colab": {
     "base_uri": "https://localhost:8080/"
    },
    "executionInfo": {
     "elapsed": 25178,
     "status": "ok",
     "timestamp": 1608059156469,
     "user": {
      "displayName": "Matheus lopes",
      "photoUrl": "",
      "userId": "10384866493879646145"
     },
     "user_tz": 180
    },
    "id": "gePUT_aIxm9e",
    "outputId": "73c076ed-de1f-4dd5-bf5f-44f1ac61f2f5"
   },
   "outputs": [
    {
     "name": "stdout",
     "output_type": "stream",
     "text": [
      "Updated property [core/project].\n",
      "gs://anpr-images-test/\n",
      "CommandException: No URLs matched: /content/drive/My Drive/Data/*\n",
      "CommandException: 1 file/object could not be transferred.\n"
     ]
    }
   ],
   "source": [
    "#https://medium.com/analytics-vidhya/how-to-access-files-from-google-cloud-storage-in-colab-notebooks-8edaf9e6c020\n",
    "\n",
    "from google.colab import auth\n",
    "auth.authenticate_user()\n",
    "\n",
    "project_id = 'our-keyword-296815'\n",
    "!gcloud config set project {project_id}\n",
    "!gsutil ls\n",
    "\n",
    "bucket_name = 'anpr-images-test'\n",
    "\n",
    "!gsutil -m cp -r /content/drive/My\\ Drive/Data/* gs://{bucket_name}/\n"
   ]
  },
  {
   "cell_type": "code",
   "execution_count": null,
   "metadata": {
    "colab": {
     "base_uri": "https://localhost:8080/"
    },
    "executionInfo": {
     "elapsed": 2211,
     "status": "ok",
     "timestamp": 1608059378443,
     "user": {
      "displayName": "Matheus lopes",
      "photoUrl": "",
      "userId": "10384866493879646145"
     },
     "user_tz": 180
    },
    "id": "tJ_m5uQXzDVd",
    "outputId": "89680601-37cb-4c19-b429-73dfc994b6b0"
   },
   "outputs": [
    {
     "name": "stdout",
     "output_type": "stream",
     "text": [
      "gs://anpr-images-test/\n"
     ]
    }
   ],
   "source": [
    "!gsutil ls # see cloud images root folder for the created bucket "
   ]
  },
  {
   "cell_type": "code",
   "execution_count": null,
   "metadata": {
    "id": "eqfOIX9pzYPJ"
   },
   "outputs": [],
   "source": [
    "from google.cloud import storage\n",
    "\n",
    "client = storage.Client()\n",
    "bucket = client.get_bucket('anpr-images-test')\n",
    "blob = bucket.blob('placa01.jpg')\n",
    "blob"
   ]
  },
  {
   "cell_type": "markdown",
   "metadata": {
    "id": "2w4bHiuYXywg"
   },
   "source": [
    "From the same API console, choose \"Dashboard\" on the left-hand menu and \"Enable API\".\n",
    "\n",
    "Enable the following APIs for your project (search for them) if they are not already enabled:\n",
    "<ol>\n",
    "<li> Google Translate API </li>\n",
    "<li> Google Cloud Vision API </li>\n",
    "<li> Google Natural Language API </li>\n",
    "<li> Google Cloud Speech API </li>\n",
    "</ol>\n",
    "\n",
    "Finally, because we are calling the APIs from Python (clients in many other languages are available), let's install the Python package (it's not installed by default on Datalab).\n",
    "\n",
    "```!pip install --upgrade pip```\n",
    "\n",
    "```!pip install --upgrade google-api-python-client```\n"
   ]
  },
  {
   "cell_type": "markdown",
   "metadata": {
    "id": "MVqvz5erXyxE"
   },
   "source": [
    "## Vision API\n",
    "\n",
    "The [Vision API](https://cloud.google.com/vision/docs/) \n",
    "I'll use Cloud Storage and do OCR on this image: ![test](gs://anpr-images-test/placa03.jpg)."
   ]
  },
  {
   "cell_type": "code",
   "execution_count": null,
   "metadata": {
    "colab": {
     "base_uri": "https://localhost:8080/"
    },
    "executionInfo": {
     "elapsed": 2077,
     "status": "ok",
     "timestamp": 1608059940415,
     "user": {
      "displayName": "Matheus lopes",
      "photoUrl": "",
      "userId": "10384866493879646145"
     },
     "user_tz": 180
    },
    "id": "MeyNji74XyxG",
    "outputId": "9e846f14-2dd4-4f34-84b2-3c4a1273e084"
   },
   "outputs": [
    {
     "name": "stdout",
     "output_type": "stream",
     "text": [
      "SPCARPINAS\n",
      "OFO-1965\n",
      "\n",
      "{'textAnnotations': [{'locale': 'en', 'description': 'SPCARPINAS\\nOFO-1965\\n', 'boundingPoly': {'vertices': [{'x': 506, 'y': 420}, {'x': 653, 'y': 420}, {'x': 653, 'y': 474}, {'x': 506, 'y': 474}]}}, {'description': 'SPCARPINAS', 'boundingPoly': {'vertices': [{'x': 552, 'y': 426}, {'x': 603, 'y': 420}, {'x': 604, 'y': 428}, {'x': 553, 'y': 434}]}}, {'description': 'OFO-1965', 'boundingPoly': {'vertices': [{'x': 506, 'y': 437}, {'x': 649, 'y': 422}, {'x': 653, 'y': 459}, {'x': 510, 'y': 474}]}}], 'fullTextAnnotation': {'pages': [{'property': {'detectedLanguages': [{'languageCode': 'en', 'confidence': 0.56}, {'languageCode': 'sm', 'confidence': 0.44}]}, 'width': 940, 'height': 530, 'blocks': [{'property': {'detectedLanguages': [{'languageCode': 'en', 'confidence': 1}]}, 'boundingBox': {'vertices': [{'x': 552, 'y': 426}, {'x': 603, 'y': 420}, {'x': 604, 'y': 428}, {'x': 553, 'y': 434}]}, 'paragraphs': [{'property': {'detectedLanguages': [{'languageCode': 'en', 'confidence': 1}]}, 'boundingBox': {'vertices': [{'x': 552, 'y': 426}, {'x': 603, 'y': 420}, {'x': 604, 'y': 428}, {'x': 553, 'y': 434}]}, 'words': [{'property': {'detectedLanguages': [{'languageCode': 'en'}]}, 'boundingBox': {'vertices': [{'x': 552, 'y': 426}, {'x': 603, 'y': 420}, {'x': 604, 'y': 428}, {'x': 553, 'y': 434}]}, 'symbols': [{'property': {'detectedLanguages': [{'languageCode': 'en'}]}, 'boundingBox': {'vertices': [{'x': 552, 'y': 427}, {'x': 562, 'y': 426}, {'x': 563, 'y': 433}, {'x': 553, 'y': 434}]}, 'text': 'S'}, {'property': {'detectedLanguages': [{'languageCode': 'en'}]}, 'boundingBox': {'vertices': [{'x': 563, 'y': 425}, {'x': 568, 'y': 424}, {'x': 569, 'y': 431}, {'x': 564, 'y': 432}]}, 'text': 'P'}, {'property': {'detectedLanguages': [{'languageCode': 'en'}]}, 'boundingBox': {'vertices': [{'x': 569, 'y': 425}, {'x': 574, 'y': 424}, {'x': 575, 'y': 431}, {'x': 570, 'y': 432}]}, 'text': 'C'}, {'property': {'detectedLanguages': [{'languageCode': 'en'}]}, 'boundingBox': {'vertices': [{'x': 575, 'y': 424}, {'x': 578, 'y': 424}, {'x': 579, 'y': 431}, {'x': 576, 'y': 431}]}, 'text': 'A'}, {'property': {'detectedLanguages': [{'languageCode': 'en'}]}, 'boundingBox': {'vertices': [{'x': 579, 'y': 423}, {'x': 584, 'y': 422}, {'x': 585, 'y': 429}, {'x': 580, 'y': 430}]}, 'text': 'R'}, {'property': {'detectedLanguages': [{'languageCode': 'en'}]}, 'boundingBox': {'vertices': [{'x': 585, 'y': 423}, {'x': 588, 'y': 423}, {'x': 589, 'y': 430}, {'x': 586, 'y': 430}]}, 'text': 'P'}, {'property': {'detectedLanguages': [{'languageCode': 'en'}]}, 'boundingBox': {'vertices': [{'x': 589, 'y': 422}, {'x': 592, 'y': 422}, {'x': 593, 'y': 429}, {'x': 590, 'y': 429}]}, 'text': 'I'}, {'property': {'detectedLanguages': [{'languageCode': 'en'}]}, 'boundingBox': {'vertices': [{'x': 593, 'y': 422}, {'x': 596, 'y': 422}, {'x': 597, 'y': 429}, {'x': 594, 'y': 429}]}, 'text': 'N'}, {'property': {'detectedLanguages': [{'languageCode': 'en'}]}, 'boundingBox': {'vertices': [{'x': 597, 'y': 421}, {'x': 600, 'y': 421}, {'x': 601, 'y': 428}, {'x': 598, 'y': 428}]}, 'text': 'A'}, {'property': {'detectedLanguages': [{'languageCode': 'en'}], 'detectedBreak': {'type': 'LINE_BREAK'}}, 'boundingBox': {'vertices': [{'x': 601, 'y': 421}, {'x': 603, 'y': 421}, {'x': 604, 'y': 428}, {'x': 602, 'y': 428}]}, 'text': 'S'}]}]}], 'blockType': 'TEXT'}, {'property': {'detectedLanguages': [{'languageCode': 'sm', 'confidence': 1}]}, 'boundingBox': {'vertices': [{'x': 506, 'y': 437}, {'x': 649, 'y': 422}, {'x': 653, 'y': 459}, {'x': 510, 'y': 474}]}, 'paragraphs': [{'property': {'detectedLanguages': [{'languageCode': 'sm', 'confidence': 1}]}, 'boundingBox': {'vertices': [{'x': 506, 'y': 437}, {'x': 649, 'y': 422}, {'x': 653, 'y': 459}, {'x': 510, 'y': 474}]}, 'words': [{'property': {'detectedLanguages': [{'languageCode': 'sm'}]}, 'boundingBox': {'vertices': [{'x': 506, 'y': 437}, {'x': 649, 'y': 422}, {'x': 653, 'y': 459}, {'x': 510, 'y': 474}]}, 'symbols': [{'property': {'detectedLanguages': [{'languageCode': 'sm'}]}, 'boundingBox': {'vertices': [{'x': 506, 'y': 437}, {'x': 535, 'y': 434}, {'x': 538, 'y': 469}, {'x': 510, 'y': 472}]}, 'text': 'O'}, {'property': {'detectedLanguages': [{'languageCode': 'sm'}]}, 'boundingBox': {'vertices': [{'x': 536, 'y': 434}, {'x': 547, 'y': 433}, {'x': 551, 'y': 468}, {'x': 540, 'y': 469}]}, 'text': 'F'}, {'property': {'detectedLanguages': [{'languageCode': 'sm'}]}, 'boundingBox': {'vertices': [{'x': 548, 'y': 433}, {'x': 571, 'y': 431}, {'x': 575, 'y': 465}, {'x': 552, 'y': 468}]}, 'text': 'O'}, {'property': {'detectedLanguages': [{'languageCode': 'sm'}]}, 'boundingBox': {'vertices': [{'x': 572, 'y': 431}, {'x': 583, 'y': 430}, {'x': 587, 'y': 465}, {'x': 576, 'y': 466}]}, 'text': '-'}, {'property': {'detectedLanguages': [{'languageCode': 'sm'}]}, 'boundingBox': {'vertices': [{'x': 583, 'y': 429}, {'x': 600, 'y': 427}, {'x': 604, 'y': 462}, {'x': 587, 'y': 464}]}, 'text': '1'}, {'property': {'detectedLanguages': [{'languageCode': 'sm'}]}, 'boundingBox': {'vertices': [{'x': 601, 'y': 427}, {'x': 618, 'y': 425}, {'x': 622, 'y': 460}, {'x': 605, 'y': 462}]}, 'text': '9'}, {'property': {'detectedLanguages': [{'languageCode': 'sm'}]}, 'boundingBox': {'vertices': [{'x': 619, 'y': 427}, {'x': 630, 'y': 426}, {'x': 634, 'y': 461}, {'x': 623, 'y': 462}]}, 'text': '6'}, {'property': {'detectedLanguages': [{'languageCode': 'sm'}], 'detectedBreak': {'type': 'LINE_BREAK'}}, 'boundingBox': {'vertices': [{'x': 632, 'y': 424}, {'x': 649, 'y': 422}, {'x': 653, 'y': 457}, {'x': 636, 'y': 459}]}, 'text': '5'}]}]}], 'blockType': 'TEXT'}]}], 'text': 'SPCARPINAS\\nOFO-1965\\n'}}\n"
     ]
    }
   ],
   "source": [
    "# Running Vision API\n",
    "import base64\n",
    "IMAGE=\"gs://anpr-images-test/placa_03\"\n",
    "vservice = build('vision', 'v1', developerKey=APIKEY)\n",
    "request = vservice.images().annotate(body={\n",
    "        'requests': [{\n",
    "                'image': {\n",
    "                    'source': {\n",
    "                        'gcs_image_uri': IMAGE\n",
    "                    }\n",
    "                },\n",
    "                'features': [{\n",
    "                    'type': 'TEXT_DETECTION',\n",
    "                    'maxResults': 3,\n",
    "                }]\n",
    "            }],\n",
    "        })\n",
    "responses = request.execute(num_retries=3)\n",
    "print(responses['responses'][0]['textAnnotations'][0]['description'])\n",
    "print(responses['responses'][0])"
   ]
  },
  {
   "cell_type": "markdown",
   "metadata": {
    "id": "TVqCm0C8Xyy6"
   },
   "source": [
    "<h2> Clean up </h2>\n",
    "\n",
    "- Remember to delete the API key by visiting <a href=\"http://console.cloud.google.com/apis\">API console</a>.\n",
    "\n",
    "- If necessary, commit all your notebooks to git.\n",
    "\n",
    "- If you are running Datalab on a Compute Engine VM or delegating to one, remember to stop or shut it down so that you are not charged.\n"
   ]
  },
  {
   "cell_type": "code",
   "execution_count": null,
   "metadata": {},
   "outputs": [],
   "source": []
  }
 ],
 "metadata": {
  "colab": {
   "collapsed_sections": [],
   "name": "ANPR using GCS.ipynb",
   "provenance": [
    {
     "file_id": "1hPH7skySCZR-ZMJ6TmYLN1ug6vbq2cpb",
     "timestamp": 1608055112568
    }
   ],
   "toc_visible": true
  },
  "kernelspec": {
   "display_name": "Python 3",
   "language": "python",
   "name": "python3"
  },
  "language_info": {
   "codemirror_mode": {
    "name": "ipython",
    "version": 3
   },
   "file_extension": ".py",
   "mimetype": "text/x-python",
   "name": "python",
   "nbconvert_exporter": "python",
   "pygments_lexer": "ipython3",
   "version": "3.8.5"
  }
 },
 "nbformat": 4,
 "nbformat_minor": 1
}
