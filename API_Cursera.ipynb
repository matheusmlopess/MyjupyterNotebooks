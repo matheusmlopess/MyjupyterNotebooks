{
 "cells": [
  {
   "cell_type": "code",
   "execution_count": null,
   "metadata": {
    "id": "CnYJb7DZiZl5"
   },
   "outputs": [],
   "source": [
    "from IPython.display import HTML, display\n",
    "def set_css():  display(HTML(''' <style> pre {  white-space: pre-wrap; } </style>'''))\n",
    "get_ipython().events.register('pre_run_cell', set_css)"
   ]
  },
  {
   "cell_type": "code",
   "execution_count": null,
   "metadata": {
    "id": "KerdwzrCaVdh"
   },
   "outputs": [],
   "source": [
    "import requests, json\n",
    "import urllib.request\n",
    "\n",
    "#import csv\n",
    "#import sys\n",
    "#from bs4 import BeautifulSoup\n",
    "\n",
    "PYTHONIOENCODING=\"UTF-8\"  \n"
   ]
  },
  {
   "cell_type": "code",
   "execution_count": null,
   "metadata": {
    "colab": {
     "base_uri": "https://localhost:8080/",
     "height": 34
    },
    "executionInfo": {
     "elapsed": 3520,
     "status": "ok",
     "timestamp": 1606496971927,
     "user": {
      "displayName": "Matheus lopes",
      "photoUrl": "",
      "userId": "10384866493879646145"
     },
     "user_tz": 180
    },
    "id": "6MsshlEgaZND",
    "outputId": "06639733-b1aa-4b1f-fbd6-89bd18727096"
   },
   "outputs": [
    {
     "data": {
      "text/html": [
       "\n",
       "  <style>\n",
       "    pre {\n",
       "        white-space: pre-wrap;\n",
       "    }\n",
       "  </style>\n",
       "  "
      ],
      "text/plain": [
       "<IPython.core.display.HTML object>"
      ]
     },
     "metadata": {
      "tags": []
     },
     "output_type": "display_data"
    },
    {
     "data": {
      "text/html": [
       " <style> pre {  white-space: pre-wrap; } </style>"
      ],
      "text/plain": [
       "<IPython.core.display.HTML object>"
      ]
     },
     "metadata": {
      "tags": []
     },
     "output_type": "display_data"
    },
    {
     "name": "stdout",
     "output_type": "stream",
     "text": [
      "2150\n"
     ]
    }
   ],
   "source": [
    "url = \"https://api.coursera.org/api/courses.v1?start=0&limit=2150&includes=instructorIds,partnerIds,specializations,s12nlds,v1Details,v2Details&fields=instructorIds,partnerIds,specializations,s12nlds,description\"\n",
    "data = requests.get(url).json()\n",
    "print(len(data['elements']))"
   ]
  },
  {
   "cell_type": "code",
   "execution_count": null,
   "metadata": {
    "id": "DEQprrGKoHn_"
   },
   "outputs": [],
   "source": [
    "# geting Json files from url\n",
    "\n",
    "import urllib.request, json \n",
    "with urllib.request.urlopen(\"https://www.coursera.org/api/courses.v1?start=0&limit=1&includes=instructorIds,partnerIds,specializations,s12nlds,v1Details,v2Details&fields=instructorIds,partnerIds,specializations,s12nlds,description\"\") as url2:\n",
    "    data = json.loads(url2.read().decode())\n",
    "    print(data)"
   ]
  },
  {
   "cell_type": "code",
   "execution_count": null,
   "metadata": {
    "colab": {
     "base_uri": "https://localhost:8080/",
     "height": 16
    },
    "executionInfo": {
     "elapsed": 1309,
     "status": "ok",
     "timestamp": 1606497056273,
     "user": {
      "displayName": "Matheus lopes",
      "photoUrl": "",
      "userId": "10384866493879646145"
     },
     "user_tz": 180
    },
    "id": "aWQiFdqzhTca",
    "outputId": "56097b70-7faf-4b4e-8d69-8805c13d4bb0"
   },
   "outputs": [
    {
     "data": {
      "text/html": [
       "\n",
       "  <style>\n",
       "    pre {\n",
       "        white-space: pre-wrap;\n",
       "    }\n",
       "  </style>\n",
       "  "
      ],
      "text/plain": [
       "<IPython.core.display.HTML object>"
      ]
     },
     "metadata": {
      "tags": []
     },
     "output_type": "display_data"
    },
    {
     "data": {
      "text/html": [
       " <style> pre {  white-space: pre-wrap; } </style>"
      ],
      "text/plain": [
       "<IPython.core.display.HTML object>"
      ]
     },
     "metadata": {
      "tags": []
     },
     "output_type": "display_data"
    }
   ],
   "source": [
    "# get one File \n",
    "url = \"https://www.coursera.org/api/courses.v1?start=189&limit=1&includes=instructorIds,partnerIds,specializations,s12nlds,v1Details,v2Details&fields=instructorIds,partnerIds,specializations,s12nlds,description\"\n",
    "data1 = requests.get(url).json()\n",
    "# reffer to https://www.coursera.org/api/courses.v1?start=0&limit=1"
   ]
  },
  {
   "cell_type": "code",
   "execution_count": null,
   "metadata": {
    "colab": {
     "base_uri": "https://localhost:8080/",
     "height": 16
    },
    "executionInfo": {
     "elapsed": 1229,
     "status": "ok",
     "timestamp": 1606497072456,
     "user": {
      "displayName": "Matheus lopes",
      "photoUrl": "",
      "userId": "10384866493879646145"
     },
     "user_tz": 180
    },
    "id": "DKkveqW1bEDC",
    "outputId": "299ca093-c435-4f08-c281-e8d9609b7983"
   },
   "outputs": [
    {
     "data": {
      "text/html": [
       "\n",
       "  <style>\n",
       "    pre {\n",
       "        white-space: pre-wrap;\n",
       "    }\n",
       "  </style>\n",
       "  "
      ],
      "text/plain": [
       "<IPython.core.display.HTML object>"
      ]
     },
     "metadata": {
      "tags": []
     },
     "output_type": "display_data"
    },
    {
     "data": {
      "text/html": [
       " <style> pre {  white-space: pre-wrap; } </style>"
      ],
      "text/plain": [
       "<IPython.core.display.HTML object>"
      ]
     },
     "metadata": {
      "tags": []
     },
     "output_type": "display_data"
    }
   ],
   "source": [
    "# Parcing Json files\n",
    "\n",
    "#data1.keys()\n",
    "#dict_keys(['elements', 'paging', 'linked'])\n",
    "\n",
    "\n",
    "#### data1.get('elements')\n",
    "# [{'courseType': 'v2.ondemand',\n",
    "#   'description': 'By the end of this project, you will be fluent in identifying and creating Empathy Maps based on persona for new products and services and in deriving opportunities from your analysis, thus generating positive results for your business venture. This project is designed to engage and harness your visionary and exploratory abilities. You will use proven models in strategy and product development with the Miro platform to explore and analyze customer data combined with the development of Empathy Maps.  This is an important step for individuals or companies wanting to explore new products or services. \\n\\nWe will practice critically examining the developed persona. You will engage in evaluating, through examples and hands-on practice, making decisions on product orientation.',\n",
    "#   'id': 'jmxJ4tXwEeqsTwpM1jVyqw',\n",
    "#   'instructorIds': ['4563695'],\n",
    "#   'name': 'Product  and Service Development: Empathy  Mapping with Miro',\n",
    "#   'partnerIds': ['565'],\n",
    "#   'slug': 'product-empathy',\n",
    "#   'specializations': []}]\n",
    "\n",
    "#### data1.get('paging')\n",
    "# {'next': '190', 'total': 5481}\n",
    "\n",
    "\n",
    "#### data1.get('linked')\n",
    "# {'instructors.v1': [{'fullName': 'Jasper Albert', 'id': '4563695'}],\n",
    "#  'partners.v1': [{'id': '565',\n",
    "#    'name': 'Coursera Project Network',\n",
    "#    'shortName': 'project-network'}],\n",
    "#  'specializations.v1': [],\n",
    "#  'v1Details.v1': [],\n",
    "#  'v2Details.v1': [{'id': 'jmxJ4tXwEeqsTwpM1jVyqw'}]}\n",
    "\n",
    "\n",
    "#for x, y in data1.items('elements '):\n",
    "#  print(x, y)"
   ]
  },
  {
   "cell_type": "code",
   "execution_count": null,
   "metadata": {
    "colab": {
     "base_uri": "https://localhost:8080/"
    },
    "executionInfo": {
     "elapsed": 920,
     "status": "ok",
     "timestamp": 1606494064118,
     "user": {
      "displayName": "Matheus lopes",
      "photoUrl": "",
      "userId": "10384866493879646145"
     },
     "user_tz": 180
    },
    "id": "o4duGqCscyGm",
    "outputId": "818ce0ac-ac39-46d6-8244-d03072e09cfd"
   },
   "outputs": [
    {
     "name": "stdout",
     "output_type": "stream",
     "text": [
      "'4730641'\n",
      "v2.ondemand\n",
      "Make Your Pick-Ups Look Cool in Unity (Intro to Animation 1)\n",
      "'565'\n",
      "make-pick-ups-look-cool-unity-introduction-animation-1\n",
      "\n",
      "NJSdGN71Eeq4CApSN3OTvQ\n",
      "In this two-hour, project-based course, we introduce Unity's powerful animation tool. You'll learn about different animations and effects that you can apply to pick-up objects to make them more noticeable and give your game a more polished look. This project covers recording and playing simple animations, basic customization of particle effects, and playing the particle effects when certain events occur in your game.\n",
      "\n",
      "The guided project will introduce you to the following Unity concepts:\n",
      "- Animations\n",
      "- Particle Effects\n",
      "- Triggers\n",
      "- Coding techniques such as OnTrigger events and invoking methods\n",
      "\n",
      "This is a stand-alone guided project, but is also Part 1 in a two-part series introducing Unity's animation features. Part 2 will cover using the Animation Window to create trigger transitions between multiple animations on a single GameObject.\n",
      "\n",
      "This guided project and series also serve as an optional but recommended foundation for the \"FPS Weapon\" series.\n",
      "\n",
      "This project makes use of the camera movement script written in Create Keyboard Movement Mechanics with C# in Unity and the concepts introduced in Create Power-Ups and Obstacles with C# in Unity. These compliment this guided project and, although not prerequisites, are recommended for a more well-rounded understanding of the concepts presented herein.\n"
     ]
    }
   ],
   "source": [
    "\n",
    "with open(\"coursera.csv\", 'a') as f:\n",
    "\n",
    "    # Wrote the header once and toggle comment\n",
    "\n",
    "    header = f.write('instructorIds' + ',' + 'courseType' + ',' + 'name' + ',' + 'partnerIds' + ',' +\n",
    "                     'slug' + ',' + 'specializations' + ',' + 'course_id' + ',' + 'description' + \"\\n\")\n",
    "\n",
    "\n",
    "    #for i in range(len(data['elements'])):\n",
    "    for i in range(1):\n",
    "\n",
    "                instructorIds = data['elements'][i]['instructorIds']\n",
    "\n",
    "                instructorIds = str(instructorIds)\n",
    "                if instructorIds:\n",
    "                    instructorIds = instructorIds.rstrip().replace(',', '')\n",
    "                    instructorIds = instructorIds.rstrip().replace('\\n', '')\n",
    "                    instructorIds = instructorIds.rstrip().replace('u', '')\n",
    "                    instructorIds = instructorIds.rstrip().replace('[', '')\n",
    "                    instructorIds = instructorIds.rstrip().replace(']', '')\n",
    "                else:\n",
    "                    instructorIds = ' '\n",
    "                print(instructorIds)\n",
    "                courseType = data['elements'][i]['courseType']\n",
    "                courseType = str(courseType)\n",
    "                print(courseType)\n",
    "                name = data['elements'][i]['name']\n",
    "                name = str(name)\n",
    "                print(name)\n",
    "                partnerIds = data['elements'][i]['partnerIds']\n",
    "                partnerIds = str(partnerIds)\n",
    "                if partnerIds:\n",
    "                    partnerIds = partnerIds.rstrip().replace(',', '')\n",
    "                    partnerIds = partnerIds.rstrip().replace('\\n', '')\n",
    "                    partnerIds = partnerIds.rstrip().replace('u', '')\n",
    "                    partnerIds = partnerIds.rstrip().replace('[', '')\n",
    "                    partnerIds = partnerIds.rstrip().replace(']', '')\n",
    "                else:\n",
    "                    partnerIds = ' '\n",
    "                print(partnerIds)\n",
    "                slug = data['elements'][i]['slug']\n",
    "                slug = str(slug)\n",
    "                print(slug)\n",
    "                specializations = data['elements'][i]['specializations']\n",
    "                specializations = str(specializations)\n",
    "                if specializations:\n",
    "                    specializations = specializations.rstrip().replace(',', '')\n",
    "                    specializations = specializations.rstrip().replace('\\n', '')\n",
    "                    specializations = specializations.rstrip().replace('u', '')\n",
    "                    specializations = specializations.rstrip().replace('[', '')\n",
    "                    specializations = specializations.rstrip().replace(']', '')\n",
    "                else:\n",
    "                    specializations = ' '\n",
    "                print(specializations)\n",
    "                course_id = data['elements'][i]['id']\n",
    "                course_id = str(course_id)\n",
    "                print(course_id)\n",
    "                description = data['elements'][i]['description']\n",
    "                description = str(description)\n",
    "                print(description)\n",
    "\n",
    "\n",
    "\n",
    "\n",
    "                if description:\n",
    "                          description = description.rstrip().replace(',', '')\n",
    "                          description = description.rstrip().replace('\\n', '')\n",
    "                else:\n",
    "                     description = ' '\n",
    "\n",
    "                                ####################################################################\n",
    "                    ### writing the attributes in a csv file\n",
    "\n",
    "\n",
    "                f.write(instructorIds + ',' + courseType + ',' + name + ',' + partnerIds + ',' + slug + ',' + specializations + ',' + course_id + ',' + description + \"\\n\")\n"
   ]
  },
  {
   "cell_type": "markdown",
   "metadata": {
    "id": "n8--gKS9e5fs"
   },
   "source": []
  }
 ],
 "metadata": {
  "colab": {
   "authorship_tag": "ABX9TyPsj5fVciO9WdOz/k+hML6P",
   "collapsed_sections": [],
   "name": "API_Cursera.ipynb",
   "provenance": []
  },
  "kernelspec": {
   "display_name": "Python 3",
   "language": "python",
   "name": "python3"
  },
  "language_info": {
   "codemirror_mode": {
    "name": "ipython",
    "version": 3
   },
   "file_extension": ".py",
   "mimetype": "text/x-python",
   "name": "python",
   "nbconvert_exporter": "python",
   "pygments_lexer": "ipython3",
   "version": "3.8.5"
  }
 },
 "nbformat": 4,
 "nbformat_minor": 1
}
