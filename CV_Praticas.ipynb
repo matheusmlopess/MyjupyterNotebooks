{
 "cells": [
  {
   "cell_type": "code",
   "execution_count": null,
   "metadata": {
    "id": "aBA2bH6zI4c_"
   },
   "outputs": [],
   "source": [
    "import mxnet as mx\n",
    "from mxnet import nd, autograd, gluon"
   ]
  },
  {
   "cell_type": "code",
   "execution_count": null,
   "metadata": {
    "id": "ZbPhK709Jb_A"
   },
   "outputs": [],
   "source": [
    "#Install new packages within Google Colab using the !pip install command.\n",
    "\n",
    "!pip install -q mxnet-cu80==1.0.7\n"
   ]
  },
  {
   "cell_type": "code",
   "execution_count": null,
   "metadata": {
    "id": "uKT0qYISX8GP"
   },
   "outputs": [],
   "source": [
    "#GPU compatible version of MXNet is now installed on Google Colab, ready to import and use.\n",
    "#import mxnet as mx\n",
    "from mxnet import nd, autograd, gluon"
   ]
  },
  {
   "cell_type": "code",
   "execution_count": null,
   "metadata": {
    "id": "DQwxYKsWXy9V"
   },
   "outputs": [],
   "source": [
    "https://www.youtube.com/watch?v=r4-Ynxw0X5w&ab_channel=ApacheMXNet - Install crasscouse"
   ]
  }
 ],
 "metadata": {
  "colab": {
   "authorship_tag": "ABX9TyPVNV71d6gD9a/k75dtPT0b",
   "collapsed_sections": [],
   "name": "CV_Praticas.ipynb",
   "provenance": []
  },
  "kernelspec": {
   "display_name": "Python 3",
   "language": "python",
   "name": "python3"
  },
  "language_info": {
   "codemirror_mode": {
    "name": "ipython",
    "version": 3
   },
   "file_extension": ".py",
   "mimetype": "text/x-python",
   "name": "python",
   "nbconvert_exporter": "python",
   "pygments_lexer": "ipython3",
   "version": "3.8.5"
  }
 },
 "nbformat": 4,
 "nbformat_minor": 1
}
